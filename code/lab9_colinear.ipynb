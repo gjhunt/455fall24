{
 "cells": [
  {
   "cell_type": "code",
   "execution_count": null,
   "metadata": {
    "vscode": {
     "languageId": "r"
    }
   },
   "outputs": [],
   "source": [
    "library(\"ggplot2\")\n",
    "library(\"dplyr\")\n",
    "library(\"tidyr\")\n",
    "library(\"purrr\")\n",
    "library('viridis')\n"
   ]
  },
  {
   "cell_type": "code",
   "execution_count": null,
   "metadata": {
    "vscode": {
     "languageId": "r"
    }
   },
   "outputs": [],
   "source": [
    "N = 100\n",
    "x1 = rnorm(N)\n",
    "e = rnorm(N,0,1/100000)\n",
    "x2 = x1+e\n",
    "cor(x1,x2)"
   ]
  },
  {
   "cell_type": "code",
   "execution_count": null,
   "metadata": {
    "vscode": {
     "languageId": "r"
    }
   },
   "outputs": [],
   "source": [
    "X = cbind(x1,x2)\n",
    "beta = array(c(7,-5),c(2,1))\n",
    "epsilon <- rnorm(N,0,1/2)\n",
    "Y = X%*%beta + epsilon"
   ]
  },
  {
   "cell_type": "code",
   "execution_count": null,
   "metadata": {
    "vscode": {
     "languageId": "r"
    }
   },
   "outputs": [],
   "source": [
    "plot(x1,Y)\n",
    "abline(coef=c(0,2),col='red')\n"
   ]
  },
  {
   "cell_type": "code",
   "execution_count": null,
   "metadata": {
    "vscode": {
     "languageId": "r"
    }
   },
   "outputs": [],
   "source": [
    "plot(x2,Y)\n",
    "abline(coef=c(0,2),col='red')"
   ]
  },
  {
   "cell_type": "code",
   "execution_count": null,
   "metadata": {
    "vscode": {
     "languageId": "r"
    }
   },
   "outputs": [],
   "source": [
    "mod <- lm(Y~-1+X)"
   ]
  },
  {
   "cell_type": "code",
   "execution_count": null,
   "metadata": {
    "vscode": {
     "languageId": "r"
    }
   },
   "outputs": [],
   "source": [
    "coef(mod)"
   ]
  },
  {
   "cell_type": "code",
   "execution_count": null,
   "metadata": {
    "vscode": {
     "languageId": "r"
    }
   },
   "outputs": [],
   "source": [
    "sum(coef(mod))"
   ]
  },
  {
   "cell_type": "code",
   "execution_count": null,
   "metadata": {
    "vscode": {
     "languageId": "r"
    }
   },
   "outputs": [],
   "source": [
    "combinations <- expand_grid(beta1 = seq(-10, 10, length.out = 100), beta2 = seq(-10, 10, length.out = 100))\n",
    "L <- function(beta1, beta2) {\n",
    "    beta <- array(c(beta1, beta2), c(2, 1))\n",
    "    sum((Y - X %*% beta)^2)/nrow(X)\n",
    "}\n",
    "combinations$L <- pmap_vec(combinations, L)"
   ]
  },
  {
   "cell_type": "code",
   "execution_count": null,
   "metadata": {
    "vscode": {
     "languageId": "r"
    }
   },
   "outputs": [],
   "source": [
    "ggplot(data=combinations,mapping=aes(x=beta1,y=beta2,fill=L,z=sqrt(L))) + geom_tile() + \n",
    "    geom_contour(color='white') + scale_fill_viridis()"
   ]
  },
  {
   "cell_type": "code",
   "execution_count": null,
   "metadata": {},
   "outputs": [],
   "source": [
    "library('glmnet')\n",
    "lambda = 1E-1\n",
    "fit.ridge = glmnet(x=X,y=Y,family=\"gaussian\",\n",
    "                   alpha=0,lambda=lambda,intercept=FALSE)"
   ]
  },
  {
   "cell_type": "code",
   "execution_count": null,
   "metadata": {},
   "outputs": [],
   "source": [
    "coef(fit.ridge)"
   ]
  },
  {
   "cell_type": "code",
   "execution_count": null,
   "metadata": {},
   "outputs": [],
   "source": [
    "coef(mod)"
   ]
  }
 ],
 "metadata": {
  "kernelspec": {
   "display_name": "R",
   "language": "R",
   "name": "ir"
  },
  "language_info": {
   "codemirror_mode": "r",
   "file_extension": ".r",
   "mimetype": "text/x-r-source",
   "name": "R",
   "pygments_lexer": "r",
   "version": "4.4.1"
  }
 },
 "nbformat": 4,
 "nbformat_minor": 4
}
