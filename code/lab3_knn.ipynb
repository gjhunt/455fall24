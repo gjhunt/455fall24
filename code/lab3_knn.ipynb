{
 "cells": [
  {
   "cell_type": "code",
   "execution_count": null,
   "id": "0",
   "metadata": {},
   "outputs": [],
   "source": [
    "# install.packages('caret')"
   ]
  },
  {
   "cell_type": "code",
   "execution_count": null,
   "id": "1",
   "metadata": {},
   "outputs": [],
   "source": [
    "library(\"caret\")"
   ]
  },
  {
   "cell_type": "markdown",
   "id": "2",
   "metadata": {},
   "source": [
    "# KNN Regression"
   ]
  },
  {
   "cell_type": "code",
   "execution_count": null,
   "id": "3",
   "metadata": {},
   "outputs": [],
   "source": [
    "x <- sort(runif(100, -1, 1))"
   ]
  },
  {
   "cell_type": "code",
   "execution_count": null,
   "id": "4",
   "metadata": {},
   "outputs": [],
   "source": [
    "W = 10\n",
    "H = 7"
   ]
  },
  {
   "cell_type": "code",
   "execution_count": null,
   "id": "5",
   "metadata": {},
   "outputs": [],
   "source": [
    "options(repr.plot.width = W, repr.plot.height = H, repr.plot.res = 100)\n",
    "y <- x^2 # f(x) = x^2\n",
    "plot(x, y)"
   ]
  },
  {
   "cell_type": "code",
   "execution_count": null,
   "id": "6",
   "metadata": {},
   "outputs": [],
   "source": [
    "e <- rnorm(100, 0, 1 / 10)\n",
    "options(repr.plot.width = W, repr.plot.height = H, repr.plot.res = 100)\n",
    "hist(e)"
   ]
  },
  {
   "cell_type": "code",
   "execution_count": null,
   "id": "7",
   "metadata": {},
   "outputs": [],
   "source": [
    "y <- x^2 + e\n",
    "options(repr.plot.width = W, repr.plot.height = H, repr.plot.res = 100)\n",
    "plot(x, y)"
   ]
  },
  {
   "cell_type": "markdown",
   "id": "8",
   "metadata": {},
   "source": [
    "# using linear regression"
   ]
  },
  {
   "cell_type": "code",
   "execution_count": null,
   "id": "9",
   "metadata": {},
   "outputs": [],
   "source": [
    "mod <- lm(y ~ x) # y = b0 + b1*x\n",
    "summary(mod)"
   ]
  },
  {
   "cell_type": "code",
   "execution_count": null,
   "id": "10",
   "metadata": {},
   "outputs": [],
   "source": [
    "options(repr.plot.width = W, repr.plot.height = H, repr.plot.res = 100)\n",
    "\n",
    "plot(x, y)\n",
    "abline(coef(mod), col = \"red\")\n",
    "lines(x, x^2, col = \"blue\")"
   ]
  },
  {
   "cell_type": "markdown",
   "id": "11",
   "metadata": {},
   "source": [
    "# KNN"
   ]
  },
  {
   "cell_type": "code",
   "execution_count": null,
   "id": "12",
   "metadata": {},
   "outputs": [],
   "source": [
    "?knnreg"
   ]
  },
  {
   "cell_type": "code",
   "execution_count": null,
   "id": "13",
   "metadata": {},
   "outputs": [],
   "source": [
    "df <- data.frame(x = x, y = y)\n",
    "knn_mod <- knnreg(y ~ ., data = df, k = 10)"
   ]
  },
  {
   "cell_type": "code",
   "execution_count": null,
   "id": "14",
   "metadata": {},
   "outputs": [],
   "source": [
    "xe <- data.frame(x = sort(runif(1000, -1.5, 1.5)))"
   ]
  },
  {
   "cell_type": "code",
   "execution_count": null,
   "id": "15",
   "metadata": {},
   "outputs": [],
   "source": [
    "head(sample(predict(knn_mod, xe)))"
   ]
  },
  {
   "cell_type": "code",
   "execution_count": null,
   "id": "16",
   "metadata": {},
   "outputs": [],
   "source": [
    "options(repr.plot.width = W, repr.plot.height = H, repr.plot.res = 100)\n",
    "\n",
    "plot(xe$x, predict(knn_mod, xe), col = \"red\", lwd = 5, type = \"l\", ylim = c(0, 1.5))\n",
    "points(x, y)\n",
    "lines(xe$x, xe$x^2, col = \"blue\", lwd = 5)"
   ]
  },
  {
   "cell_type": "markdown",
   "id": "17",
   "metadata": {},
   "source": [
    "## k = 3"
   ]
  },
  {
   "cell_type": "code",
   "execution_count": null,
   "id": "18",
   "metadata": {},
   "outputs": [],
   "source": [
    "knn_mod <- knnreg(y ~ ., data = df, k = 3)\n",
    "\n",
    "options(repr.plot.width = W, repr.plot.height = H, repr.plot.res = 100)\n",
    "\n",
    "plot(x, y)\n",
    "lines(xe$x, predict(knn_mod, xe), col = \"red\", lwd = 5)\n",
    "lines(xe$x, xe$x^2, col = \"blue\", lwd=5)"
   ]
  },
  {
   "cell_type": "markdown",
   "id": "19",
   "metadata": {},
   "source": [
    "# k = 1"
   ]
  },
  {
   "cell_type": "code",
   "execution_count": null,
   "id": "20",
   "metadata": {},
   "outputs": [],
   "source": [
    "options(repr.plot.width = W, repr.plot.height = H, repr.plot.res = 100)\n",
    "\n",
    "\n",
    "knn_mod <- knnreg(y ~ ., data = df, k = 1)\n",
    "plot(x, y)\n",
    "lines(xe$x, predict(knn_mod, xe), col = \"red\", lwd = 5)\n",
    "lines(xe$x, xe$x^2, col = \"blue\", lwd = 5)"
   ]
  },
  {
   "cell_type": "markdown",
   "id": "21",
   "metadata": {},
   "source": [
    "# k = 50"
   ]
  },
  {
   "cell_type": "code",
   "execution_count": null,
   "id": "22",
   "metadata": {},
   "outputs": [],
   "source": [
    "options(repr.plot.width = W, repr.plot.height = H, repr.plot.res = 100)\n",
    "\n",
    "\n",
    "knn_mod <- knnreg(y ~ ., data = df, k = 50)\n",
    "plot(x, y)\n",
    "lines(xe$x, predict(knn_mod, xe), col = \"red\", lwd = 5)\n",
    "lines(xe$x, xe$x^2, col = \"blue\", lwd = 5)"
   ]
  },
  {
   "cell_type": "markdown",
   "id": "23",
   "metadata": {},
   "source": [
    "# k = 100"
   ]
  },
  {
   "cell_type": "code",
   "execution_count": null,
   "id": "24",
   "metadata": {},
   "outputs": [],
   "source": [
    "options(repr.plot.width = W, repr.plot.height = H, repr.plot.res = 100)\n",
    "\n",
    "knn_mod <- knnreg(y ~ ., data = df, k = 100)\n",
    "plot(x, y)\n",
    "lines(xe$x, predict(knn_mod, xe), col = \"red\", lwd = 5)\n",
    "lines(xe$x, xe$x^2, col = \"blue\", lwd = 5)"
   ]
  },
  {
   "cell_type": "code",
   "execution_count": null,
   "id": "25",
   "metadata": {},
   "outputs": [],
   "source": [
    "mean(y)"
   ]
  },
  {
   "cell_type": "code",
   "execution_count": null,
   "id": "26",
   "metadata": {},
   "outputs": [],
   "source": [
    "head(predict(knn_mod))"
   ]
  },
  {
   "cell_type": "code",
   "execution_count": null,
   "id": "27",
   "metadata": {},
   "outputs": [],
   "source": []
  }
 ],
 "metadata": {
  "kernelspec": {
   "display_name": "R",
   "language": "R",
   "name": "ir"
  },
  "language_info": {
   "codemirror_mode": "r",
   "file_extension": ".r",
   "mimetype": "text/x-r-source",
   "name": "R",
   "pygments_lexer": "r",
   "version": "4.4.1"
  }
 },
 "nbformat": 4,
 "nbformat_minor": 5
}
