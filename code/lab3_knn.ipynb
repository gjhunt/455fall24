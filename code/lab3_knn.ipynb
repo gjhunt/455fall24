{
 "cells": [
  {
   "cell_type": "code",
   "execution_count": null,
   "metadata": {},
   "outputs": [],
   "source": [
    "library('caret')"
   ]
  },
  {
   "cell_type": "markdown",
   "metadata": {},
   "source": [
    "# KNN Regression"
   ]
  },
  {
   "cell_type": "code",
   "execution_count": null,
   "metadata": {},
   "outputs": [],
   "source": [
    "set.seed(123123123)\n",
    "N_train = 5\n",
    "K = 5\n",
    "\n",
    "x = runif(N_train)\n",
    "y = 3*x+5+rnorm(length(x),0,1/10)\n",
    "df = data.frame(x=x,y=y)\n",
    "\n",
    "knn_mod = knnreg(y~.,data=df,k=K)\n",
    "xe = data.frame(x=sort(runif(1000)))\n",
    "xe_pred = predict(knn_mod,xe)"
   ]
  },
  {
   "cell_type": "code",
   "execution_count": null,
   "metadata": {},
   "outputs": [],
   "source": [
    "plot(x,y,size=5)\n",
    "lines(xe$x,xe_pred,col='red',type='l',lwd=2)"
   ]
  },
  {
   "cell_type": "markdown",
   "metadata": {},
   "source": [
    "# simulation"
   ]
  },
  {
   "cell_type": "code",
   "execution_count": null,
   "metadata": {},
   "outputs": [],
   "source": [
    "x = sort(runif(100,-1,1))"
   ]
  },
  {
   "cell_type": "code",
   "execution_count": null,
   "metadata": {},
   "outputs": [],
   "source": [
    "options(repr.plot.width = 4, repr.plot.height = 4, repr.plot.res = 100)\n",
    "y = x^2 # f(x) = x^2\n",
    "plot(x,y)"
   ]
  },
  {
   "cell_type": "code",
   "execution_count": null,
   "metadata": {},
   "outputs": [],
   "source": [
    "e = rnorm(100,0,1/10)\n",
    "options(repr.plot.width = 4, repr.plot.height = 4, repr.plot.res = 100)\n",
    "hist(e)"
   ]
  },
  {
   "cell_type": "code",
   "execution_count": null,
   "metadata": {},
   "outputs": [],
   "source": [
    "y = x^2 + e\n",
    "plot(x,y)"
   ]
  },
  {
   "cell_type": "markdown",
   "metadata": {},
   "source": [
    "# using linear regression"
   ]
  },
  {
   "cell_type": "code",
   "execution_count": null,
   "metadata": {},
   "outputs": [],
   "source": [
    "mod = lm(y~x) # y = b0 + b1*x\n",
    "summary(mod)"
   ]
  },
  {
   "cell_type": "code",
   "execution_count": null,
   "metadata": {},
   "outputs": [],
   "source": [
    "plot(x,y)\n",
    "abline(coef(mod),col='red')\n",
    "lines(x,x^2,col='blue')"
   ]
  },
  {
   "cell_type": "markdown",
   "metadata": {},
   "source": [
    "# KNN"
   ]
  },
  {
   "cell_type": "code",
   "execution_count": null,
   "metadata": {},
   "outputs": [],
   "source": [
    "?knnreg"
   ]
  },
  {
   "cell_type": "code",
   "execution_count": null,
   "metadata": {},
   "outputs": [],
   "source": [
    "df = data.frame(x=x,y=y)\n",
    "knn_mod = knnreg(y~.,data=df,k=10)"
   ]
  },
  {
   "cell_type": "code",
   "execution_count": null,
   "metadata": {},
   "outputs": [],
   "source": [
    "xe = data.frame(x=sort(runif(1000,-1.5,1.5)))"
   ]
  },
  {
   "cell_type": "code",
   "execution_count": null,
   "metadata": {},
   "outputs": [],
   "source": [
    "head(sample(predict(knn_mod,xe)))"
   ]
  },
  {
   "cell_type": "code",
   "execution_count": null,
   "metadata": {},
   "outputs": [],
   "source": [
    "plot(xe$x,predict(knn_mod,xe),col='red',lwd=2,type='l',ylim=c(0,1.5))\n",
    "points(x,y)\n",
    "lines(xe$x,xe$x^2,col='blue',lwd=2)"
   ]
  },
  {
   "cell_type": "markdown",
   "metadata": {},
   "source": [
    "## k = 3"
   ]
  },
  {
   "cell_type": "code",
   "execution_count": null,
   "metadata": {},
   "outputs": [],
   "source": [
    "knn_mod = knnreg(y~.,data=df,k=3)\n",
    "plot(x,y)\n",
    "lines(xe$x,predict(knn_mod,xe),col='red',lwd=5)\n",
    "lines(xe$x,xe$x^2,col='blue')"
   ]
  },
  {
   "cell_type": "markdown",
   "metadata": {},
   "source": [
    "# k = 1"
   ]
  },
  {
   "cell_type": "code",
   "execution_count": null,
   "metadata": {},
   "outputs": [],
   "source": [
    "knn_mod = knnreg(y~.,data=df,k=1)\n",
    "plot(x,y)\n",
    "lines(xe$x,predict(knn_mod,xe),col='red',lwd=5)\n",
    "lines(xe$x,xe$x^2,col='blue')"
   ]
  },
  {
   "cell_type": "markdown",
   "metadata": {},
   "source": [
    "# k = 50"
   ]
  },
  {
   "cell_type": "code",
   "execution_count": null,
   "metadata": {},
   "outputs": [],
   "source": [
    "knn_mod = knnreg(y~.,data=df,k=50)\n",
    "plot(x,y)\n",
    "lines(xe$x,predict(knn_mod,xe),col='red',lwd=5)\n",
    "lines(xe$x,xe$x^2,col='blue')"
   ]
  },
  {
   "cell_type": "markdown",
   "metadata": {},
   "source": [
    "# k = 100"
   ]
  },
  {
   "cell_type": "code",
   "execution_count": null,
   "metadata": {},
   "outputs": [],
   "source": [
    "knn_mod = knnreg(y~.,data=df,k=100)\n",
    "plot(x,y)\n",
    "lines(xe$x,predict(knn_mod,xe),col='red',lwd=5)\n",
    "lines(xe$x,xe$x^2,col='blue')"
   ]
  },
  {
   "cell_type": "code",
   "execution_count": null,
   "metadata": {},
   "outputs": [],
   "source": [
    "mean(y)"
   ]
  },
  {
   "cell_type": "code",
   "execution_count": null,
   "metadata": {},
   "outputs": [],
   "source": [
    "head(predict(knn_mod))"
   ]
  },
  {
   "cell_type": "code",
   "execution_count": null,
   "metadata": {},
   "outputs": [],
   "source": []
  }
 ],
 "metadata": {
  "jupytext": {
   "formats": "ipynb,Rmd,R"
  },
  "kernelspec": {
   "display_name": "R",
   "language": "R",
   "name": "ir"
  },
  "language_info": {
   "codemirror_mode": "r",
   "file_extension": ".r",
   "mimetype": "text/x-r-source",
   "name": "R",
   "pygments_lexer": "r",
   "version": "4.3.1"
  }
 },
 "nbformat": 4,
 "nbformat_minor": 4
}
