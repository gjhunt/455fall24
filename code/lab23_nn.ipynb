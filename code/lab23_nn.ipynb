{
 "cells": [
  {
   "cell_type": "code",
   "execution_count": null,
   "metadata": {
    "vscode": {
     "languageId": "r"
    }
   },
   "outputs": [],
   "source": [
    "#helper functions\n",
    "mse_loss <- function(predicted, actual) {\n",
    "  return(mean((predicted - actual) ^ 2))\n",
    "}\n"
   ]
  },
  {
   "cell_type": "code",
   "execution_count": null,
   "metadata": {
    "vscode": {
     "languageId": "r"
    }
   },
   "outputs": [],
   "source": [
    "# some training data \n",
    "set.seed(64145894)\n",
    "\n",
    "N_train = 250\n",
    "f_true = function(x)x/3+x^5\n",
    "x = runif(N_train)\n",
    "eps = rnorm(N_train,0,1/25)\n",
    "y = f_true(x) + eps"
   ]
  },
  {
   "cell_type": "code",
   "execution_count": null,
   "metadata": {
    "vscode": {
     "languageId": "r"
    }
   },
   "outputs": [],
   "source": [
    "plot(x,y)"
   ]
  },
  {
   "cell_type": "code",
   "execution_count": null,
   "metadata": {
    "vscode": {
     "languageId": "r"
    }
   },
   "outputs": [],
   "source": [
    "# sigmoid\n",
    "activation <- function(x) {\n",
    "  return(1 / (1 + exp(-x)))\n",
    "}\n",
    "\n",
    "# RELU\n",
    "activation <- function(x) {\n",
    "  return(map_vec(x,~max(0,.x)))\n",
    "}\n",
    "\n",
    "forward_propagation <- function(x, W1, b1, W2, b2) {\n",
    "  x <- array(x,c(1,1))\n",
    "  h1 = activation(W1 %*% x + b1)\n",
    "  output = W2 %*% h1 + b2\n",
    "  return(as.vector(output))\n",
    "}\n"
   ]
  },
  {
   "cell_type": "code",
   "execution_count": null,
   "metadata": {
    "vscode": {
     "languageId": "r"
    }
   },
   "outputs": [],
   "source": [
    "# init\n",
    "n_input <- 1\n",
    "n_output <- 1\n",
    "n_hidden <- 5\n",
    "W1 <- abs(array(rnorm(n_input * n_hidden), c(n_hidden, n_input)))\n",
    "b1 <- abs(rnorm(n_hidden))\n",
    "W2 <- abs(array(rnorm(n_output * n_hidden), c(n_output, n_hidden)))\n",
    "b2 <- abs(rnorm(n_output))\n"
   ]
  },
  {
   "cell_type": "code",
   "execution_count": null,
   "metadata": {
    "vscode": {
     "languageId": "r"
    }
   },
   "outputs": [],
   "source": [
    "library('purrr')\n",
    "y_hat <- map_vec(x,~forward_propagation(.x,W1, b1, W2, b2))\n",
    "plot(x,y_hat)"
   ]
  },
  {
   "cell_type": "markdown",
   "metadata": {
    "vscode": {
     "languageId": "r"
    }
   },
   "source": [
    "## Now we learn the parameters"
   ]
  },
  {
   "cell_type": "code",
   "execution_count": null,
   "metadata": {
    "vscode": {
     "languageId": "r"
    }
   },
   "outputs": [],
   "source": [
    "library('nloptr')"
   ]
  },
  {
   "cell_type": "code",
   "execution_count": null,
   "metadata": {
    "vscode": {
     "languageId": "r"
    }
   },
   "outputs": [],
   "source": [
    "to_theta = function(W1,b1,W2,b2){\n",
    "    c(as.vector(W1),b1,as.vector(W2),b2)\n",
    "}\n",
    "\n",
    "to_mtxes = function(theta){\n",
    "    W1 <- array(theta[1:n_hidden], c(n_hidden, n_input))\n",
    "    b1 <- theta[(n_hidden+1):(2*n_hidden)]\n",
    "    W2 <- array(theta[(2*n_hidden+1):(length(theta)-1)], c(n_output, n_hidden))\n",
    "    b2 <- theta[length(theta)]\n",
    "    return(list(W1=W1,b1=b1,W2=W2,b2=b2))\n",
    "}"
   ]
  },
  {
   "cell_type": "code",
   "execution_count": null,
   "metadata": {
    "vscode": {
     "languageId": "r"
    }
   },
   "outputs": [],
   "source": [
    "W1"
   ]
  },
  {
   "cell_type": "code",
   "execution_count": null,
   "metadata": {
    "vscode": {
     "languageId": "r"
    }
   },
   "outputs": [],
   "source": [
    "theta = to_theta(W1,b1,W2,b2)\n",
    "theta"
   ]
  },
  {
   "cell_type": "code",
   "execution_count": null,
   "metadata": {
    "vscode": {
     "languageId": "r"
    }
   },
   "outputs": [],
   "source": [
    "to_mtxes(theta)"
   ]
  },
  {
   "cell_type": "code",
   "execution_count": null,
   "metadata": {
    "vscode": {
     "languageId": "r"
    }
   },
   "outputs": [],
   "source": [
    "loss = function(theta){\n",
    "    wts = to_mtxes(theta)\n",
    "    y_hat <- map_vec(x,~forward_propagation(.x,wts$W1, wts$b1, wts$W2, wts$b2))\n",
    "    l = mse_loss(y_hat,y)\n",
    "    return(l)\n",
    "}"
   ]
  },
  {
   "cell_type": "code",
   "execution_count": null,
   "metadata": {
    "vscode": {
     "languageId": "r"
    }
   },
   "outputs": [],
   "source": [
    "loss(theta)"
   ]
  },
  {
   "cell_type": "code",
   "execution_count": null,
   "metadata": {
    "vscode": {
     "languageId": "r"
    }
   },
   "outputs": [],
   "source": [
    "# random init\n",
    "x0 = rnorm(length(theta))\n",
    "x0"
   ]
  },
  {
   "cell_type": "code",
   "execution_count": null,
   "metadata": {
    "vscode": {
     "languageId": "r"
    }
   },
   "outputs": [],
   "source": [
    "optimze = function(x0 = runif(length(theta),-.3,.3)){\n",
    "    opts <- list(\n",
    "        \"algorithm\" = \"NLOPT_LN_COBYLA\", # Algorithm\n",
    "        \"xtol_rel\" = 1e-10, # Relative tolerance on optimization\n",
    "        \"maxeval\" = 500 # Maximum number of function evaluations\n",
    "    )\n",
    "    \n",
    "    result <- nloptr(\n",
    "        x0 = x0,\n",
    "        eval_f = loss,\n",
    "        opts = opts\n",
    "    )\n",
    "\n",
    "    obj = result$objective\n",
    "\n",
    "    return(list(obj = obj, soln=result$solution,x0=x0))\n",
    "}\n",
    "\n",
    "    \n"
   ]
  },
  {
   "cell_type": "code",
   "execution_count": null,
   "metadata": {},
   "outputs": [],
   "source": [
    "set.seed(NULL)"
   ]
  },
  {
   "cell_type": "code",
   "execution_count": null,
   "metadata": {},
   "outputs": [],
   "source": [
    "res = list()\n",
    "N_opt = 10\n",
    "for(i in 1:N_opt){\n",
    "    res[[i]] <- optimze()\n",
    "}"
   ]
  },
  {
   "cell_type": "code",
   "execution_count": null,
   "metadata": {},
   "outputs": [],
   "source": [
    "i_sel <- which.min(map_vec(res,~.x$obj))"
   ]
  },
  {
   "cell_type": "code",
   "execution_count": null,
   "metadata": {},
   "outputs": [],
   "source": [
    "result <- res[[i_sel]]"
   ]
  },
  {
   "cell_type": "code",
   "execution_count": null,
   "metadata": {
    "vscode": {
     "languageId": "r"
    }
   },
   "outputs": [],
   "source": [
    "wts0 = to_mtxes(x0)\n",
    "y_hat0 <- map_vec(x,~forward_propagation(.x,wts0$W1, wts0$b1, wts0$W2, wts0$b2))\n",
    "wts = to_mtxes(result$soln)\n",
    "y_hat <- map_vec(x,~forward_propagation(.x,wts$W1, wts$b1, wts$W2, wts$b2))\n",
    "plot(x,y,col='red')\n",
    "points(x,y_hat0,col='blue')\n",
    "points(x,y_hat,col='black')"
   ]
  },
  {
   "cell_type": "markdown",
   "metadata": {
    "vscode": {
     "languageId": "r"
    }
   },
   "source": [
    "## fitting in keras"
   ]
  },
  {
   "cell_type": "code",
   "execution_count": null,
   "metadata": {},
   "outputs": [],
   "source": [
    "set.seed(NULL)"
   ]
  },
  {
   "cell_type": "code",
   "execution_count": null,
   "metadata": {
    "vscode": {
     "languageId": "r"
    }
   },
   "outputs": [],
   "source": [
    "library('keras')"
   ]
  },
  {
   "cell_type": "code",
   "execution_count": null,
   "metadata": {
    "vscode": {
     "languageId": "r"
    }
   },
   "outputs": [],
   "source": [
    "model <- keras_model_sequential() %>%\n",
    "    layer_dense(units = 5, input_shape = c(1),activation = 'relu') %>%\n",
    "    layer_dense(units = 1)\n"
   ]
  },
  {
   "cell_type": "code",
   "execution_count": null,
   "metadata": {
    "vscode": {
     "languageId": "r"
    }
   },
   "outputs": [],
   "source": [
    "model %>% compile(\n",
    "  optimizer = 'adam',\n",
    "  loss = 'mse',\n",
    "  metrics = c('mse')\n",
    ")"
   ]
  },
  {
   "cell_type": "code",
   "execution_count": null,
   "metadata": {
    "vscode": {
     "languageId": "r"
    }
   },
   "outputs": [],
   "source": [
    "model %>% summary()"
   ]
  },
  {
   "cell_type": "code",
   "execution_count": null,
   "metadata": {
    "jupyter": {
     "source_hidden": true
    },
    "vscode": {
     "languageId": "r"
    }
   },
   "outputs": [],
   "source": [
    "history <- model %>% fit(\n",
    "  x, y,\n",
    "  epochs = 1000,\n",
    "  batch_size = 32,\n",
    "  validation_split = 0.2,  # Use 20% of the training data for validation\n",
    "  verbose = 1\n",
    ")"
   ]
  },
  {
   "cell_type": "code",
   "execution_count": null,
   "metadata": {
    "vscode": {
     "languageId": "r"
    }
   },
   "outputs": [],
   "source": [
    "plot(history)"
   ]
  },
  {
   "cell_type": "code",
   "execution_count": null,
   "metadata": {
    "vscode": {
     "languageId": "r"
    }
   },
   "outputs": [],
   "source": [
    "y_hat <- predict(model,x)\n",
    "plot(x,y,col='red')\n",
    "points(x,y_hat,col='black')"
   ]
  }
 ],
 "metadata": {
  "kernelspec": {
   "display_name": "R",
   "language": "R",
   "name": "ir"
  },
  "language_info": {
   "codemirror_mode": "r",
   "file_extension": ".r",
   "mimetype": "text/x-r-source",
   "name": "R",
   "pygments_lexer": "r",
   "version": "4.4.1"
  }
 },
 "nbformat": 4,
 "nbformat_minor": 4
}
