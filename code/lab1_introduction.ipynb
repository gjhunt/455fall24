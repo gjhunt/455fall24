{
 "cells": [
  {
   "cell_type": "markdown",
   "metadata": {
    "id": "526Rz-SjSS7M"
   },
   "source": [
    "# Lab 1\n",
    "\n",
    "This is loosely based on notes by Dr. Leemis: [here](http://www.math.wm.edu/~leemis/r.pdf). If you're not familiar with `r` I highly recommend you go through this. "
   ]
  },
  {
   "cell_type": "markdown",
   "metadata": {},
   "source": [
    "Can get jupyter via [jupyterhub.wm.edu](https://jupyterhub.wm.edu) or [colab.to/r](https://colab.to/r)"
   ]
  },
  {
   "cell_type": "markdown",
   "metadata": {
    "id": "DY8E9f8vSS7P"
   },
   "source": [
    "## Notebook basics"
   ]
  },
  {
   "cell_type": "markdown",
   "metadata": {
    "id": "vvajiKUESS7Q"
   },
   "source": [
    "Code notebooks allow interweaving of \n",
    "\n",
    "1. rich-text input (html, markdown, etc.)\n",
    "2. code input\n",
    "3. code output"
   ]
  },
  {
   "cell_type": "code",
   "execution_count": null,
   "metadata": {
    "colab": {
     "base_uri": "https://localhost:8080/"
    },
    "executionInfo": {
     "elapsed": 238,
     "status": "ok",
     "timestamp": 1662039792618,
     "user": {
      "displayName": "Gregory Hunt",
      "userId": "18205269313464225130"
     },
     "user_tz": 240
    },
    "id": "CN6CgAfpSS7R",
    "outputId": "a06a1688-6c37-4de1-c00d-05eb294753a8"
   },
   "outputs": [],
   "source": [
    "print('hello darkness my old friend')"
   ]
  },
  {
   "cell_type": "markdown",
   "metadata": {
    "id": "JjuFpQ4RSS7T"
   },
   "source": [
    "![sound of silence](https://upload.wikimedia.org/wikipedia/commons/e/e5/SimonandGarfunkel.jpg)"
   ]
  },
  {
   "cell_type": "markdown",
   "metadata": {
    "id": "7oq_1r1sSS7U"
   },
   "source": [
    "We can write notebooks using a couple different IDEs, popular being \n",
    "\n",
    "1. [jupyter](https://jupyter.org/install) which is a bit more advanced and requires installing [anaconda](https://www.anaconda.com/)\n",
    "\n",
    "2. [rstudio](https://rstudio.com/products/rstudio/)\n",
    "\n",
    "either can be used to write code in [R](https://www.r-project.org/)"
   ]
  },
  {
   "cell_type": "markdown",
   "metadata": {
    "id": "LSRURPr2SS7W"
   },
   "source": [
    "## R as a calculator"
   ]
  },
  {
   "cell_type": "markdown",
   "metadata": {
    "id": "jelmnfg-SS7X"
   },
   "source": [
    "We can use R as a calculator"
   ]
  },
  {
   "cell_type": "code",
   "execution_count": null,
   "metadata": {
    "colab": {
     "base_uri": "https://localhost:8080/",
     "height": 34
    },
    "executionInfo": {
     "elapsed": 15,
     "status": "ok",
     "timestamp": 1662039792857,
     "user": {
      "displayName": "Gregory Hunt",
      "userId": "18205269313464225130"
     },
     "user_tz": 240
    },
    "id": "h2VCyRJBSS7Y",
    "outputId": "694eca91-3085-47ba-b34e-3a1fda5aa2f8"
   },
   "outputs": [],
   "source": [
    "1+1"
   ]
  },
  {
   "cell_type": "code",
   "execution_count": null,
   "metadata": {
    "colab": {
     "base_uri": "https://localhost:8080/",
     "height": 34
    },
    "executionInfo": {
     "elapsed": 284,
     "status": "ok",
     "timestamp": 1662039793131,
     "user": {
      "displayName": "Gregory Hunt",
      "userId": "18205269313464225130"
     },
     "user_tz": 240
    },
    "id": "RZILcIiBSS7Z",
    "outputId": "8f86ffd8-4043-4241-e935-320d139f742e"
   },
   "outputs": [],
   "source": [
    "1+2*5"
   ]
  },
  {
   "cell_type": "markdown",
   "metadata": {
    "id": "tnqLUJZvSS7a"
   },
   "source": [
    "there are also some built-in constants in R"
   ]
  },
  {
   "cell_type": "code",
   "execution_count": null,
   "metadata": {
    "colab": {
     "base_uri": "https://localhost:8080/",
     "height": 52
    },
    "executionInfo": {
     "elapsed": 50,
     "status": "ok",
     "timestamp": 1662039793131,
     "user": {
      "displayName": "Gregory Hunt",
      "userId": "18205269313464225130"
     },
     "user_tz": 240
    },
    "id": "MLGt1h-SSS7b",
    "outputId": "4d82ee92-d167-42fa-d8ff-b7f4489e0fde"
   },
   "outputs": [],
   "source": [
    "pi\n",
    "exp(1)"
   ]
  },
  {
   "cell_type": "markdown",
   "metadata": {
    "id": "nt8UcH-xSS7c"
   },
   "source": [
    "there are also special infinite values"
   ]
  },
  {
   "cell_type": "code",
   "execution_count": null,
   "metadata": {
    "colab": {
     "base_uri": "https://localhost:8080/",
     "height": 52
    },
    "executionInfo": {
     "elapsed": 43,
     "status": "ok",
     "timestamp": 1662039793131,
     "user": {
      "displayName": "Gregory Hunt",
      "userId": "18205269313464225130"
     },
     "user_tz": 240
    },
    "id": "2voja10BSS7d",
    "outputId": "a0115251-7047-4741-8776-89d2a1c4fa37"
   },
   "outputs": [],
   "source": [
    "1/0\n",
    "-1/0"
   ]
  },
  {
   "cell_type": "code",
   "execution_count": null,
   "metadata": {
    "colab": {
     "base_uri": "https://localhost:8080/",
     "height": 34
    },
    "executionInfo": {
     "elapsed": 38,
     "status": "ok",
     "timestamp": 1662039793132,
     "user": {
      "displayName": "Gregory Hunt",
      "userId": "18205269313464225130"
     },
     "user_tz": 240
    },
    "id": "_Zzi2oU4SS7d",
    "outputId": "458d5f9a-b4ed-4f3d-b2b6-18e5ea132e61"
   },
   "outputs": [],
   "source": [
    "0/0"
   ]
  },
  {
   "cell_type": "markdown",
   "metadata": {
    "id": "5ZfXhpYvSS7e"
   },
   "source": [
    "to denote nothing we have"
   ]
  },
  {
   "cell_type": "code",
   "execution_count": null,
   "metadata": {
    "colab": {
     "base_uri": "https://localhost:8080/",
     "height": 34
    },
    "executionInfo": {
     "elapsed": 34,
     "status": "ok",
     "timestamp": 1662039793132,
     "user": {
      "displayName": "Gregory Hunt",
      "userId": "18205269313464225130"
     },
     "user_tz": 240
    },
    "id": "PkSSiBu0SS7e",
    "outputId": "4736baed-9b34-47f4-deb8-0d3e3a7a1130"
   },
   "outputs": [],
   "source": [
    "NULL"
   ]
  },
  {
   "cell_type": "markdown",
   "metadata": {
    "id": "AbEMItbxSS7f"
   },
   "source": [
    "to denote a missing value"
   ]
  },
  {
   "cell_type": "code",
   "execution_count": null,
   "metadata": {
    "colab": {
     "base_uri": "https://localhost:8080/",
     "height": 34
    },
    "executionInfo": {
     "elapsed": 31,
     "status": "ok",
     "timestamp": 1662039793133,
     "user": {
      "displayName": "Gregory Hunt",
      "userId": "18205269313464225130"
     },
     "user_tz": 240
    },
    "id": "HNhp02tnSS7f",
    "outputId": "c2447e28-2e97-4b47-8d47-87ae331362ae"
   },
   "outputs": [],
   "source": [
    "NA"
   ]
  },
  {
   "cell_type": "markdown",
   "metadata": {
    "id": "iPegy0i8SS7g"
   },
   "source": [
    "# Variable assignment and simple objects"
   ]
  },
  {
   "cell_type": "markdown",
   "metadata": {
    "id": "suE8UVG6SS7g"
   },
   "source": [
    "One can assign variables with either an `=` or `<-`"
   ]
  },
  {
   "cell_type": "code",
   "execution_count": null,
   "metadata": {
    "colab": {
     "base_uri": "https://localhost:8080/",
     "height": 34
    },
    "executionInfo": {
     "elapsed": 28,
     "status": "ok",
     "timestamp": 1662039793133,
     "user": {
      "displayName": "Gregory Hunt",
      "userId": "18205269313464225130"
     },
     "user_tz": 240
    },
    "id": "IVrzSa19SS7h",
    "outputId": "e6d67894-04a7-4ebd-bf14-d8c204219105"
   },
   "outputs": [],
   "source": [
    "x = 1\n",
    "x"
   ]
  },
  {
   "cell_type": "code",
   "execution_count": null,
   "metadata": {
    "colab": {
     "base_uri": "https://localhost:8080/",
     "height": 34
    },
    "executionInfo": {
     "elapsed": 25,
     "status": "ok",
     "timestamp": 1662039793133,
     "user": {
      "displayName": "Gregory Hunt",
      "userId": "18205269313464225130"
     },
     "user_tz": 240
    },
    "id": "Gw6HW3UpSS7h",
    "outputId": "15a87377-406b-466a-9796-895cb0aaa050"
   },
   "outputs": [],
   "source": [
    "x <- 1\n",
    "x"
   ]
  },
  {
   "cell_type": "markdown",
   "metadata": {
    "id": "Q11Rbt8pSS7h"
   },
   "source": [
    "## Vectors"
   ]
  },
  {
   "cell_type": "markdown",
   "metadata": {
    "id": "lxbDn2LLSS7h"
   },
   "source": [
    "vectors are made with the `c` command"
   ]
  },
  {
   "cell_type": "code",
   "execution_count": null,
   "metadata": {
    "colab": {
     "base_uri": "https://localhost:8080/",
     "height": 34
    },
    "executionInfo": {
     "elapsed": 24,
     "status": "ok",
     "timestamp": 1662039793134,
     "user": {
      "displayName": "Gregory Hunt",
      "userId": "18205269313464225130"
     },
     "user_tz": 240
    },
    "id": "rDxbLxFRSS7i",
    "outputId": "7bc42aec-1f70-40a5-c12e-a7f884057372"
   },
   "outputs": [],
   "source": [
    "x = c(5,3,7)\n",
    "x"
   ]
  },
  {
   "cell_type": "markdown",
   "metadata": {
    "id": "t_yYaggvSS7j"
   },
   "source": [
    "we get the elements with `[]`"
   ]
  },
  {
   "cell_type": "code",
   "execution_count": null,
   "metadata": {
    "colab": {
     "base_uri": "https://localhost:8080/",
     "height": 34
    },
    "executionInfo": {
     "elapsed": 243,
     "status": "ok",
     "timestamp": 1662039793354,
     "user": {
      "displayName": "Gregory Hunt",
      "userId": "18205269313464225130"
     },
     "user_tz": 240
    },
    "id": "kRCUNBFISS7j",
    "outputId": "ab636b0c-d17b-4255-ff61-047d43e3f751"
   },
   "outputs": [],
   "source": [
    "x[1]"
   ]
  },
  {
   "cell_type": "markdown",
   "metadata": {
    "id": "wnfiTHIXSS7j"
   },
   "source": [
    "negative numbers selects all but those elements"
   ]
  },
  {
   "cell_type": "code",
   "execution_count": null,
   "metadata": {
    "colab": {
     "base_uri": "https://localhost:8080/",
     "height": 34
    },
    "executionInfo": {
     "elapsed": 25,
     "status": "ok",
     "timestamp": 1662039793355,
     "user": {
      "displayName": "Gregory Hunt",
      "userId": "18205269313464225130"
     },
     "user_tz": 240
    },
    "id": "Nipn1cH3SS7j",
    "outputId": "c201a419-2a92-45b7-95eb-b1205681754a"
   },
   "outputs": [],
   "source": [
    "x[c(-1,-2)]"
   ]
  },
  {
   "cell_type": "markdown",
   "metadata": {
    "id": "Bd9K8GscSS7k"
   },
   "source": [
    "we can make a vector out of any type"
   ]
  },
  {
   "cell_type": "code",
   "execution_count": null,
   "metadata": {
    "colab": {
     "base_uri": "https://localhost:8080/",
     "height": 34
    },
    "executionInfo": {
     "elapsed": 260,
     "status": "ok",
     "timestamp": 1662065119780,
     "user": {
      "displayName": "Gregory Hunt",
      "userId": "18205269313464225130"
     },
     "user_tz": 240
    },
    "id": "47WX5hqGSS7k",
    "outputId": "9ff896eb-b31e-40fe-f7d3-3336fed1e3fb"
   },
   "outputs": [],
   "source": [
    "truths <- c(TRUE, FALSE, TRUE)\n",
    "truths"
   ]
  },
  {
   "cell_type": "markdown",
   "metadata": {
    "id": "ZaObxDvKSS7k"
   },
   "source": [
    "if we subset by boolean then it select those elements with `TRUE`"
   ]
  },
  {
   "cell_type": "code",
   "execution_count": null,
   "metadata": {
    "colab": {
     "base_uri": "https://localhost:8080/",
     "height": 34
    },
    "executionInfo": {
     "elapsed": 26,
     "status": "ok",
     "timestamp": 1662039793358,
     "user": {
      "displayName": "Gregory Hunt",
      "userId": "18205269313464225130"
     },
     "user_tz": 240
    },
    "id": "d9HD7zhqSS7l",
    "outputId": "efb2b9fa-ca5b-4123-9e75-125704886a02"
   },
   "outputs": [],
   "source": [
    "x"
   ]
  },
  {
   "cell_type": "code",
   "execution_count": null,
   "metadata": {
    "colab": {
     "base_uri": "https://localhost:8080/",
     "height": 34
    },
    "executionInfo": {
     "elapsed": 27,
     "status": "ok",
     "timestamp": 1662039793359,
     "user": {
      "displayName": "Gregory Hunt",
      "userId": "18205269313464225130"
     },
     "user_tz": 240
    },
    "id": "F6n7QqIOSS7l",
    "outputId": "565280f0-1d16-4c2d-83ef-e4282ef71b7e"
   },
   "outputs": [],
   "source": [
    "truths"
   ]
  },
  {
   "cell_type": "code",
   "execution_count": null,
   "metadata": {
    "colab": {
     "base_uri": "https://localhost:8080/",
     "height": 34
    },
    "executionInfo": {
     "elapsed": 26,
     "status": "ok",
     "timestamp": 1662039793359,
     "user": {
      "displayName": "Gregory Hunt",
      "userId": "18205269313464225130"
     },
     "user_tz": 240
    },
    "id": "aePcOo3tSS7l",
    "outputId": "b1eb9804-010c-4404-caad-846729f20246"
   },
   "outputs": [],
   "source": [
    "x[truths]"
   ]
  },
  {
   "cell_type": "markdown",
   "metadata": {
    "id": "OhnLrsuLSS7m"
   },
   "source": [
    "we can make consecutive integers using `:`"
   ]
  },
  {
   "cell_type": "code",
   "execution_count": null,
   "metadata": {
    "colab": {
     "base_uri": "https://localhost:8080/",
     "height": 34
    },
    "executionInfo": {
     "elapsed": 25,
     "status": "ok",
     "timestamp": 1662039793359,
     "user": {
      "displayName": "Gregory Hunt",
      "userId": "18205269313464225130"
     },
     "user_tz": 240
    },
    "id": "YzeBVy9kSS7m",
    "outputId": "6a18cb46-2185-4295-d075-0420c24bf76f"
   },
   "outputs": [],
   "source": [
    "1:10"
   ]
  },
  {
   "cell_type": "markdown",
   "metadata": {
    "id": "Dogsc50CSS7m"
   },
   "source": [
    "or the `seq` function"
   ]
  },
  {
   "cell_type": "code",
   "execution_count": null,
   "metadata": {
    "colab": {
     "base_uri": "https://localhost:8080/",
     "height": 34
    },
    "executionInfo": {
     "elapsed": 24,
     "status": "ok",
     "timestamp": 1662039793359,
     "user": {
      "displayName": "Gregory Hunt",
      "userId": "18205269313464225130"
     },
     "user_tz": 240
    },
    "id": "cySPKtQYSS7m",
    "outputId": "f8e6b559-c25a-47c7-a9dd-5df9dc989f62"
   },
   "outputs": [],
   "source": [
    "seq(1,20,by=3)"
   ]
  },
  {
   "cell_type": "markdown",
   "metadata": {
    "id": "7TExmVUqSS7n"
   },
   "source": [
    "## matrices"
   ]
  },
  {
   "cell_type": "markdown",
   "metadata": {
    "id": "kTKM7EEZSS7n"
   },
   "source": [
    "we can make a matrix using the ``matrix`` function"
   ]
  },
  {
   "cell_type": "code",
   "execution_count": null,
   "metadata": {
    "colab": {
     "base_uri": "https://localhost:8080/",
     "height": 209
    },
    "executionInfo": {
     "elapsed": 23,
     "status": "ok",
     "timestamp": 1662039793360,
     "user": {
      "displayName": "Gregory Hunt",
      "userId": "18205269313464225130"
     },
     "user_tz": 240
    },
    "id": "z_OzCgz_SS7n",
    "outputId": "de35265a-892d-4b38-943b-5d3230043d2d"
   },
   "outputs": [],
   "source": [
    "X <- matrix(1:25,nrow=5,byrow=TRUE)\n",
    "X"
   ]
  },
  {
   "cell_type": "markdown",
   "metadata": {
    "id": "eelBrflGSS7n"
   },
   "source": [
    "or the `array` function"
   ]
  },
  {
   "cell_type": "code",
   "execution_count": null,
   "metadata": {
    "colab": {
     "base_uri": "https://localhost:8080/",
     "height": 209
    },
    "executionInfo": {
     "elapsed": 22,
     "status": "ok",
     "timestamp": 1662039793360,
     "user": {
      "displayName": "Gregory Hunt",
      "userId": "18205269313464225130"
     },
     "user_tz": 240
    },
    "id": "7ZK3kBsASS7o",
    "outputId": "43d292f3-d12a-4eff-da88-377860fd1969"
   },
   "outputs": [],
   "source": [
    "Y <- array(25:49,c(5,5))\n",
    "Y"
   ]
  },
  {
   "cell_type": "markdown",
   "metadata": {
    "id": "swTy8axJSS7o"
   },
   "source": [
    "matrix multiplication is done with the operator ``%*%``"
   ]
  },
  {
   "cell_type": "code",
   "execution_count": null,
   "metadata": {
    "colab": {
     "base_uri": "https://localhost:8080/",
     "height": 191
    },
    "executionInfo": {
     "elapsed": 21,
     "status": "ok",
     "timestamp": 1662039793360,
     "user": {
      "displayName": "Gregory Hunt",
      "userId": "18205269313464225130"
     },
     "user_tz": 240
    },
    "id": "HYovmETFSS7o",
    "outputId": "ae20e2fa-a06a-46b9-e3ec-46c8ebddde14"
   },
   "outputs": [],
   "source": [
    "X %*% Y"
   ]
  },
  {
   "cell_type": "markdown",
   "metadata": {
    "id": "OpDPkMneSS7o"
   },
   "source": [
    "I can extract or assign individual elements with `[,]`"
   ]
  },
  {
   "cell_type": "code",
   "execution_count": null,
   "metadata": {
    "colab": {
     "base_uri": "https://localhost:8080/",
     "height": 34
    },
    "executionInfo": {
     "elapsed": 250,
     "status": "ok",
     "timestamp": 1662039793590,
     "user": {
      "displayName": "Gregory Hunt",
      "userId": "18205269313464225130"
     },
     "user_tz": 240
    },
    "id": "_9uZdogCSS7p",
    "outputId": "fd453e11-182d-405b-b251-8d82e4f739e5"
   },
   "outputs": [],
   "source": [
    "X[1,2]"
   ]
  },
  {
   "cell_type": "code",
   "execution_count": null,
   "metadata": {
    "colab": {
     "base_uri": "https://localhost:8080/",
     "height": 209
    },
    "executionInfo": {
     "elapsed": 20,
     "status": "ok",
     "timestamp": 1662039793590,
     "user": {
      "displayName": "Gregory Hunt",
      "userId": "18205269313464225130"
     },
     "user_tz": 240
    },
    "id": "3xknexnbSS7p",
    "outputId": "d7331111-a350-44c8-9f79-7544371459bd"
   },
   "outputs": [],
   "source": [
    "X[1,2] <- 3\n",
    "X"
   ]
  },
  {
   "cell_type": "markdown",
   "metadata": {
    "id": "sx1CrdRUSS7p"
   },
   "source": [
    "or entire rows/columns as follows"
   ]
  },
  {
   "cell_type": "code",
   "execution_count": null,
   "metadata": {
    "colab": {
     "base_uri": "https://localhost:8080/",
     "height": 34
    },
    "executionInfo": {
     "elapsed": 20,
     "status": "ok",
     "timestamp": 1662039793591,
     "user": {
      "displayName": "Gregory Hunt",
      "userId": "18205269313464225130"
     },
     "user_tz": 240
    },
    "id": "13OTbt4kSS7q",
    "outputId": "fa242164-e9d2-4432-8595-2b596837e9d6"
   },
   "outputs": [],
   "source": [
    "X[,1]"
   ]
  },
  {
   "cell_type": "code",
   "execution_count": null,
   "metadata": {
    "colab": {
     "base_uri": "https://localhost:8080/",
     "height": 34
    },
    "executionInfo": {
     "elapsed": 19,
     "status": "ok",
     "timestamp": 1662039793591,
     "user": {
      "displayName": "Gregory Hunt",
      "userId": "18205269313464225130"
     },
     "user_tz": 240
    },
    "id": "zBgFb7MxSS7q",
    "outputId": "e07d7797-bbc5-40c2-9d46-671873bdbae3"
   },
   "outputs": [],
   "source": [
    "X[1,]"
   ]
  },
  {
   "cell_type": "markdown",
   "metadata": {
    "id": "eYPK5147SS7q"
   },
   "source": [
    "# Flow Control"
   ]
  },
  {
   "cell_type": "markdown",
   "metadata": {
    "id": "mnRIpkhSSS7q"
   },
   "source": [
    "if statements are as follows"
   ]
  },
  {
   "cell_type": "code",
   "execution_count": null,
   "metadata": {
    "colab": {
     "base_uri": "https://localhost:8080/"
    },
    "executionInfo": {
     "elapsed": 19,
     "status": "ok",
     "timestamp": 1662039793592,
     "user": {
      "displayName": "Gregory Hunt",
      "userId": "18205269313464225130"
     },
     "user_tz": 240
    },
    "id": "jq0mfbqJSS7q",
    "outputId": "3713f44e-7c1d-4fec-c46f-f95e8ffa8e18"
   },
   "outputs": [],
   "source": [
    "A = 5\n",
    "if(A==0){\n",
    "    print(\"A=0\")\n",
    "} else if(A == 1){\n",
    "    print(\"A=1\")\n",
    "} else if(A==2) {\n",
    "    print(\"A=2\")\n",
    "} else {\n",
    "    print(\"A is not 0, 1 or 2\")\n",
    "}"
   ]
  },
  {
   "cell_type": "markdown",
   "metadata": {
    "id": "k-BMzKO3SS7r"
   },
   "source": [
    "we can also make `for` loops"
   ]
  },
  {
   "cell_type": "code",
   "execution_count": null,
   "metadata": {
    "colab": {
     "base_uri": "https://localhost:8080/"
    },
    "executionInfo": {
     "elapsed": 17,
     "status": "ok",
     "timestamp": 1662039793592,
     "user": {
      "displayName": "Gregory Hunt",
      "userId": "18205269313464225130"
     },
     "user_tz": 240
    },
    "id": "9UDn1rRySS7r",
    "outputId": "5fc69c2e-4560-4dce-b59b-c178974b8e6b"
   },
   "outputs": [],
   "source": [
    "for(i in 1:10){\n",
    "    print(i)\n",
    "}"
   ]
  },
  {
   "cell_type": "markdown",
   "metadata": {
    "id": "d8FI2_OCSS7s"
   },
   "source": [
    "and `while` loops"
   ]
  },
  {
   "cell_type": "code",
   "execution_count": null,
   "metadata": {
    "colab": {
     "base_uri": "https://localhost:8080/"
    },
    "executionInfo": {
     "elapsed": 14,
     "status": "ok",
     "timestamp": 1662039793592,
     "user": {
      "displayName": "Gregory Hunt",
      "userId": "18205269313464225130"
     },
     "user_tz": 240
    },
    "id": "37uxs0vCSS7s",
    "outputId": "736bd123-8368-4a9e-cda9-9433a675a4e6"
   },
   "outputs": [],
   "source": [
    "i = 1\n",
    "while(i <= 10){\n",
    "    print(i)\n",
    "    i = i + 1\n",
    "}"
   ]
  },
  {
   "cell_type": "markdown",
   "metadata": {
    "id": "-ZDP8kouSS7s"
   },
   "source": [
    "# major types"
   ]
  },
  {
   "cell_type": "markdown",
   "metadata": {
    "id": "-OpjkWr8SS7s"
   },
   "source": [
    "numeric"
   ]
  },
  {
   "cell_type": "code",
   "execution_count": null,
   "metadata": {
    "colab": {
     "base_uri": "https://localhost:8080/",
     "height": 34
    },
    "executionInfo": {
     "elapsed": 14,
     "status": "ok",
     "timestamp": 1662039793593,
     "user": {
      "displayName": "Gregory Hunt",
      "userId": "18205269313464225130"
     },
     "user_tz": 240
    },
    "id": "zJeXu36OSS7t",
    "outputId": "cd0610d0-033b-4dda-f4d1-4d1102bb2cb1"
   },
   "outputs": [],
   "source": [
    "c(1,2,3)"
   ]
  },
  {
   "cell_type": "code",
   "execution_count": null,
   "metadata": {
    "colab": {
     "base_uri": "https://localhost:8080/",
     "height": 34
    },
    "executionInfo": {
     "elapsed": 13,
     "status": "ok",
     "timestamp": 1662039793593,
     "user": {
      "displayName": "Gregory Hunt",
      "userId": "18205269313464225130"
     },
     "user_tz": 240
    },
    "id": "sLcL2GZRSS7t",
    "outputId": "e8967ac0-33ba-47a1-bec5-665cff910baa"
   },
   "outputs": [],
   "source": [
    "class(c(1,2,3))"
   ]
  },
  {
   "cell_type": "markdown",
   "metadata": {
    "id": "7kOrxwE5SS7t"
   },
   "source": [
    "strings"
   ]
  },
  {
   "cell_type": "code",
   "execution_count": null,
   "metadata": {
    "colab": {
     "base_uri": "https://localhost:8080/",
     "height": 34
    },
    "executionInfo": {
     "elapsed": 26,
     "status": "ok",
     "timestamp": 1662039793859,
     "user": {
      "displayName": "Gregory Hunt",
      "userId": "18205269313464225130"
     },
     "user_tz": 240
    },
    "id": "JCmq5O9jSS7t",
    "outputId": "f66f1d31-bcde-4d38-d34c-1882879353bc"
   },
   "outputs": [],
   "source": [
    "c('hello','darkness','my','old','friend')"
   ]
  },
  {
   "cell_type": "code",
   "execution_count": null,
   "metadata": {
    "colab": {
     "base_uri": "https://localhost:8080/",
     "height": 34
    },
    "executionInfo": {
     "elapsed": 25,
     "status": "ok",
     "timestamp": 1662039793859,
     "user": {
      "displayName": "Gregory Hunt",
      "userId": "18205269313464225130"
     },
     "user_tz": 240
    },
    "id": "XKzHS8duSS7u",
    "outputId": "8ac4e489-2237-4511-abc2-d0f31121b76e"
   },
   "outputs": [],
   "source": [
    "class(c('hello','darkness','my','old','friend'))"
   ]
  },
  {
   "cell_type": "markdown",
   "metadata": {
    "id": "enVxZe0-SS7u"
   },
   "source": [
    "boolean"
   ]
  },
  {
   "cell_type": "code",
   "execution_count": null,
   "metadata": {
    "colab": {
     "base_uri": "https://localhost:8080/",
     "height": 34
    },
    "executionInfo": {
     "elapsed": 25,
     "status": "ok",
     "timestamp": 1662039793860,
     "user": {
      "displayName": "Gregory Hunt",
      "userId": "18205269313464225130"
     },
     "user_tz": 240
    },
    "id": "-5RnnCF1SS7u",
    "outputId": "5c5412c8-e20c-44f5-b92a-0e50f15f7e75"
   },
   "outputs": [],
   "source": [
    "c(TRUE,FALSE)"
   ]
  },
  {
   "cell_type": "code",
   "execution_count": null,
   "metadata": {
    "colab": {
     "base_uri": "https://localhost:8080/",
     "height": 34
    },
    "executionInfo": {
     "elapsed": 25,
     "status": "ok",
     "timestamp": 1662039793860,
     "user": {
      "displayName": "Gregory Hunt",
      "userId": "18205269313464225130"
     },
     "user_tz": 240
    },
    "id": "SYhd5QibSS7u",
    "outputId": "b3910707-7882-48d8-8364-30a3083c7791"
   },
   "outputs": [],
   "source": [
    "class(c(TRUE,FALSE))"
   ]
  },
  {
   "cell_type": "markdown",
   "metadata": {
    "id": "hLZ8O6dASS7u"
   },
   "source": [
    "factors for discrete variables"
   ]
  },
  {
   "cell_type": "code",
   "execution_count": null,
   "metadata": {
    "id": "s9mr2QCjSS7v"
   },
   "outputs": [],
   "source": [
    "fctr = as.factor(c('hello','darkness'))"
   ]
  },
  {
   "cell_type": "code",
   "execution_count": null,
   "metadata": {
    "colab": {
     "base_uri": "https://localhost:8080/",
     "height": 52
    },
    "executionInfo": {
     "elapsed": 25,
     "status": "ok",
     "timestamp": 1662039793861,
     "user": {
      "displayName": "Gregory Hunt",
      "userId": "18205269313464225130"
     },
     "user_tz": 240
    },
    "id": "c6fDHydjSS7v",
    "outputId": "f84563a0-6366-49b0-ba2e-43cf920d1780"
   },
   "outputs": [],
   "source": [
    "fctr"
   ]
  },
  {
   "cell_type": "code",
   "execution_count": null,
   "metadata": {
    "colab": {
     "base_uri": "https://localhost:8080/",
     "height": 34
    },
    "executionInfo": {
     "elapsed": 24,
     "status": "ok",
     "timestamp": 1662039793861,
     "user": {
      "displayName": "Gregory Hunt",
      "userId": "18205269313464225130"
     },
     "user_tz": 240
    },
    "id": "xNqs64NHSS7v",
    "outputId": "b5862edb-6b66-4b46-e1df-4680d5fa4fb0"
   },
   "outputs": [],
   "source": [
    "class(fctr)"
   ]
  },
  {
   "cell_type": "code",
   "execution_count": null,
   "metadata": {
    "colab": {
     "base_uri": "https://localhost:8080/",
     "height": 34
    },
    "executionInfo": {
     "elapsed": 23,
     "status": "ok",
     "timestamp": 1662039793861,
     "user": {
      "displayName": "Gregory Hunt",
      "userId": "18205269313464225130"
     },
     "user_tz": 240
    },
    "id": "o5ss9UiGSS7v",
    "outputId": "737051fc-755f-4d9f-b12f-98b37a7175a7"
   },
   "outputs": [],
   "source": [
    "as.numeric(fctr)"
   ]
  },
  {
   "cell_type": "code",
   "execution_count": null,
   "metadata": {
    "colab": {
     "base_uri": "https://localhost:8080/",
     "height": 69
    },
    "executionInfo": {
     "elapsed": 22,
     "status": "ok",
     "timestamp": 1662039793861,
     "user": {
      "displayName": "Gregory Hunt",
      "userId": "18205269313464225130"
     },
     "user_tz": 240
    },
    "id": "LuYhgiSqSS7w",
    "outputId": "851cfabc-4c73-4913-c2c3-b21d8b999c11"
   },
   "outputs": [],
   "source": [
    "fctr*2"
   ]
  },
  {
   "cell_type": "markdown",
   "metadata": {
    "id": "Y4tprnuqSS7w"
   },
   "source": [
    "# data-frames and matrices:"
   ]
  },
  {
   "cell_type": "markdown",
   "metadata": {
    "id": "ifYlix75SS7w"
   },
   "source": [
    "matrcies all have to be the same type:"
   ]
  },
  {
   "cell_type": "code",
   "execution_count": null,
   "metadata": {
    "colab": {
     "base_uri": "https://localhost:8080/",
     "height": 209
    },
    "executionInfo": {
     "elapsed": 246,
     "status": "ok",
     "timestamp": 1662039794088,
     "user": {
      "displayName": "Gregory Hunt",
      "userId": "18205269313464225130"
     },
     "user_tz": 240
    },
    "id": "fHBpRtmOSS7w",
    "outputId": "6120fef5-00fc-4a8f-d51f-23e17928cef7"
   },
   "outputs": [],
   "source": [
    "X = array(0,c(5,5))\n",
    "X"
   ]
  },
  {
   "cell_type": "code",
   "execution_count": null,
   "metadata": {
    "colab": {
     "base_uri": "https://localhost:8080/",
     "height": 209
    },
    "executionInfo": {
     "elapsed": 25,
     "status": "ok",
     "timestamp": 1662039794089,
     "user": {
      "displayName": "Gregory Hunt",
      "userId": "18205269313464225130"
     },
     "user_tz": 240
    },
    "id": "gVfMccuzSS7w",
    "outputId": "0364334e-2df0-41b6-c6b1-af1e788b76a7"
   },
   "outputs": [],
   "source": [
    "X = array(LETTERS[1:25],c(5,5))\n",
    "X"
   ]
  },
  {
   "cell_type": "markdown",
   "metadata": {
    "id": "xH2kiW8kSS7x"
   },
   "source": [
    "so if I have a character `X` and I assign the number `5` to the first column, what happens?"
   ]
  },
  {
   "cell_type": "code",
   "execution_count": null,
   "metadata": {
    "id": "zF_WqYAOSS7x"
   },
   "outputs": [],
   "source": [
    "X[,1] = rep(5,5)"
   ]
  },
  {
   "cell_type": "code",
   "execution_count": null,
   "metadata": {
    "colab": {
     "base_uri": "https://localhost:8080/",
     "height": 209
    },
    "executionInfo": {
     "elapsed": 25,
     "status": "ok",
     "timestamp": 1662039794090,
     "user": {
      "displayName": "Gregory Hunt",
      "userId": "18205269313464225130"
     },
     "user_tz": 240
    },
    "id": "THYG71uBSS7x",
    "outputId": "bf4f4860-a541-419e-99d1-5f8fcec95d0c"
   },
   "outputs": [],
   "source": [
    "X"
   ]
  },
  {
   "cell_type": "code",
   "execution_count": null,
   "metadata": {
    "colab": {
     "base_uri": "https://localhost:8080/",
     "height": 34
    },
    "executionInfo": {
     "elapsed": 23,
     "status": "ok",
     "timestamp": 1662039794090,
     "user": {
      "displayName": "Gregory Hunt",
      "userId": "18205269313464225130"
     },
     "user_tz": 240
    },
    "id": "aiBrGkrtSS7x",
    "outputId": "9a5e40fc-530a-46d0-cf6c-92536abb00b5"
   },
   "outputs": [],
   "source": [
    "X[,1]"
   ]
  },
  {
   "cell_type": "markdown",
   "metadata": {
    "id": "A2oXWD3vSS7y"
   },
   "source": [
    "this is not the number `5`, its the character `'5'`"
   ]
  },
  {
   "cell_type": "markdown",
   "metadata": {
    "id": "aHpxwG_mSS7y"
   },
   "source": [
    "The proper way to have mixed types is to have a `data.frame`"
   ]
  },
  {
   "cell_type": "code",
   "execution_count": null,
   "metadata": {
    "colab": {
     "base_uri": "https://localhost:8080/",
     "height": 272
    },
    "executionInfo": {
     "elapsed": 22,
     "status": "ok",
     "timestamp": 1662039794090,
     "user": {
      "displayName": "Gregory Hunt",
      "userId": "18205269313464225130"
     },
     "user_tz": 240
    },
    "id": "slqsaRZ8SS7y",
    "outputId": "46cd1388-bffd-4fd2-8638-c6920e0f2c35"
   },
   "outputs": [],
   "source": [
    "df = data.frame(x=rep(5,5),y=LETTERS[1:5])\n",
    "df"
   ]
  },
  {
   "cell_type": "markdown",
   "metadata": {
    "id": "BjEPH-ToSS7y"
   },
   "source": [
    "I can access the elements like matrices"
   ]
  },
  {
   "cell_type": "code",
   "execution_count": null,
   "metadata": {
    "colab": {
     "base_uri": "https://localhost:8080/",
     "height": 34
    },
    "executionInfo": {
     "elapsed": 21,
     "status": "ok",
     "timestamp": 1662039794091,
     "user": {
      "displayName": "Gregory Hunt",
      "userId": "18205269313464225130"
     },
     "user_tz": 240
    },
    "id": "ZEnbJQXmSS7y",
    "outputId": "a34c0d52-0d5a-4926-8578-9c6e818cd9ab"
   },
   "outputs": [],
   "source": [
    "df[1,1]"
   ]
  },
  {
   "cell_type": "code",
   "execution_count": null,
   "metadata": {
    "colab": {
     "base_uri": "https://localhost:8080/",
     "height": 34
    },
    "executionInfo": {
     "elapsed": 20,
     "status": "ok",
     "timestamp": 1662039794091,
     "user": {
      "displayName": "Gregory Hunt",
      "userId": "18205269313464225130"
     },
     "user_tz": 240
    },
    "id": "ODv18h8LSS7y",
    "outputId": "07988abb-5e37-44dc-b33d-72ff689730f8"
   },
   "outputs": [],
   "source": [
    "df[1,2]"
   ]
  },
  {
   "cell_type": "markdown",
   "metadata": {
    "id": "6EOaxVmmSS7y"
   },
   "source": [
    "or with names"
   ]
  },
  {
   "cell_type": "code",
   "execution_count": null,
   "metadata": {
    "colab": {
     "base_uri": "https://localhost:8080/",
     "height": 34
    },
    "executionInfo": {
     "elapsed": 19,
     "status": "ok",
     "timestamp": 1662039794091,
     "user": {
      "displayName": "Gregory Hunt",
      "userId": "18205269313464225130"
     },
     "user_tz": 240
    },
    "id": "eM7FHAaGSS7y",
    "outputId": "54c7fcaf-4c78-4ec1-942e-00cfd9790cd6"
   },
   "outputs": [],
   "source": [
    "df$x"
   ]
  },
  {
   "cell_type": "code",
   "execution_count": null,
   "metadata": {
    "colab": {
     "base_uri": "https://localhost:8080/",
     "height": 34
    },
    "executionInfo": {
     "elapsed": 18,
     "status": "ok",
     "timestamp": 1662039794091,
     "user": {
      "displayName": "Gregory Hunt",
      "userId": "18205269313464225130"
     },
     "user_tz": 240
    },
    "id": "ncUS4SYcSS7z",
    "outputId": "e55cce4c-4d94-4429-908b-3bf7b414921a"
   },
   "outputs": [],
   "source": [
    "df$y"
   ]
  },
  {
   "cell_type": "code",
   "execution_count": null,
   "metadata": {
    "colab": {
     "base_uri": "https://localhost:8080/",
     "height": 34
    },
    "executionInfo": {
     "elapsed": 227,
     "status": "ok",
     "timestamp": 1662039794302,
     "user": {
      "displayName": "Gregory Hunt",
      "userId": "18205269313464225130"
     },
     "user_tz": 240
    },
    "id": "CK6Vey69SS7z",
    "outputId": "01aac9ee-d495-447f-ca32-3d1dd29e95ed"
   },
   "outputs": [],
   "source": [
    "df[['x']]"
   ]
  },
  {
   "cell_type": "code",
   "execution_count": null,
   "metadata": {
    "colab": {
     "base_uri": "https://localhost:8080/",
     "height": 34
    },
    "executionInfo": {
     "elapsed": 8,
     "status": "ok",
     "timestamp": 1662039794303,
     "user": {
      "displayName": "Gregory Hunt",
      "userId": "18205269313464225130"
     },
     "user_tz": 240
    },
    "id": "BZffrCm8SS7z",
    "outputId": "1fa63e23-c9b5-4bf1-88f8-792d3cc79348"
   },
   "outputs": [],
   "source": [
    "df[['y']]"
   ]
  }
 ],
 "metadata": {
  "colab": {
   "collapsed_sections": [],
   "provenance": []
  },
  "jupytext": {
   "formats": "ipynb,Rmd,R"
  },
  "kernelspec": {
   "display_name": "R",
   "language": "R",
   "name": "ir"
  },
  "language_info": {
   "codemirror_mode": "r",
   "file_extension": ".r",
   "mimetype": "text/x-r-source",
   "name": "R",
   "pygments_lexer": "r",
   "version": "4.0.3"
  }
 },
 "nbformat": 4,
 "nbformat_minor": 4
}
