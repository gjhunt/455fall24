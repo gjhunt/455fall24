{
 "cells": [
  {
   "cell_type": "code",
   "execution_count": null,
   "id": "0",
   "metadata": {
    "vscode": {
     "languageId": "r"
    }
   },
   "outputs": [],
   "source": [
    "library(\"ggplot2\")\n",
    "library(\"reshape2\")\n",
    "library(\"tibble\")\n",
    "library(\"dplyr\")\n",
    "library(\"purrr\")\n",
    "library(\"tidyr\")"
   ]
  },
  {
   "cell_type": "code",
   "execution_count": null,
   "id": "1",
   "metadata": {
    "vscode": {
     "languageId": "r"
    }
   },
   "outputs": [],
   "source": [
    "sig2 <- 1\n",
    "mus <- c(1, 5, 20)\n",
    "N <- 100"
   ]
  },
  {
   "cell_type": "code",
   "execution_count": null,
   "id": "2",
   "metadata": {
    "vscode": {
     "languageId": "r"
    }
   },
   "outputs": [],
   "source": [
    "Ns <- rep(N, 3)\n",
    "Ns"
   ]
  },
  {
   "cell_type": "code",
   "execution_count": null,
   "id": "3",
   "metadata": {
    "vscode": {
     "languageId": "r"
    }
   },
   "outputs": [],
   "source": [
    "g1 <- data.frame(group = 1, x = rnorm(Ns[1], mus[1], 1))\n",
    "g2 <- data.frame(group = 2, x = rnorm(Ns[2], mus[2], 1))\n",
    "g3 <- data.frame(group = 3, x = rnorm(Ns[3], mus[3], 1))\n",
    "d <- rbind(g1, g2, g3)\n",
    "d$group <- as.factor(d$group)\n",
    "d <- as_tibble(d[sample(nrow(d)), ])"
   ]
  },
  {
   "cell_type": "code",
   "execution_count": null,
   "id": "4",
   "metadata": {
    "vscode": {
     "languageId": "r"
    }
   },
   "outputs": [],
   "source": [
    "d %>% head()"
   ]
  },
  {
   "cell_type": "code",
   "execution_count": null,
   "id": "5",
   "metadata": {
    "vscode": {
     "languageId": "r"
    }
   },
   "outputs": [],
   "source": [
    "options(repr.plot.width = 10, repr.plot.height = 3, repr.plot.res = 100)\n",
    "ggplot(data = d, mapping = aes(x = x, color = group, group = group)) +\n",
    "  geom_density() +\n",
    "  geom_point(mapping = aes(x = x, y = 0))"
   ]
  },
  {
   "cell_type": "code",
   "execution_count": null,
   "id": "6",
   "metadata": {
    "vscode": {
     "languageId": "r"
    }
   },
   "outputs": [],
   "source": [
    "class <- 1\n",
    "\n",
    "subd <- d %>% filter(group == class)\n",
    "subd %>% head()"
   ]
  },
  {
   "cell_type": "code",
   "execution_count": null,
   "id": "7",
   "metadata": {
    "vscode": {
     "languageId": "r"
    }
   },
   "outputs": [],
   "source": [
    "# mu1_hat\n",
    "mu_hat <- d %>%\n",
    "  summarize(mu_hat = mean(x)) %>%\n",
    "  pull(mu_hat)\n",
    "mu_hat"
   ]
  },
  {
   "cell_type": "code",
   "execution_count": null,
   "id": "8",
   "metadata": {
    "vscode": {
     "languageId": "r"
    }
   },
   "outputs": [],
   "source": [
    "# pi_hat\n",
    "pi_hat <- d %>%\n",
    "  summarize(pi_hat = mean(group == class)) %>%\n",
    "  pull(pi_hat)\n",
    "pi_hat"
   ]
  },
  {
   "cell_type": "code",
   "execution_count": null,
   "id": "9",
   "metadata": {
    "vscode": {
     "languageId": "r"
    }
   },
   "outputs": [],
   "source": [
    "# pooled sd\n",
    "vars <- d %>%\n",
    "  group_by(group) %>%\n",
    "  summarize(var_hat = var(x)) %>%\n",
    "  pull(var_hat)\n",
    "vars"
   ]
  },
  {
   "cell_type": "code",
   "execution_count": null,
   "id": "10",
   "metadata": {
    "vscode": {
     "languageId": "r"
    }
   },
   "outputs": [],
   "source": [
    "pooled_var <- sum((Ns - 1) * vars) / (sum(Ns) - 3)\n",
    "pooled_var"
   ]
  },
  {
   "cell_type": "code",
   "execution_count": null,
   "id": "11",
   "metadata": {
    "vscode": {
     "languageId": "r"
    }
   },
   "outputs": [],
   "source": [
    "var(d$x)"
   ]
  },
  {
   "cell_type": "code",
   "execution_count": null,
   "id": "12",
   "metadata": {
    "vscode": {
     "languageId": "r"
    }
   },
   "outputs": [],
   "source": [
    "x0 <- 1"
   ]
  },
  {
   "cell_type": "code",
   "execution_count": null,
   "id": "13",
   "metadata": {
    "vscode": {
     "languageId": "r"
    }
   },
   "outputs": [],
   "source": [
    "dnorm(x0, mean = mu_hat, sd = sqrt(pooled_var)) * pi_hat"
   ]
  },
  {
   "cell_type": "code",
   "execution_count": null,
   "id": "14",
   "metadata": {
    "lines_to_next_cell": 2,
    "vscode": {
     "languageId": "r"
    }
   },
   "outputs": [],
   "source": [
    "mu_hats <- d %>%\n",
    "  group_by(group) %>%\n",
    "  summarize(mu_hat = mean(x)) %>%\n",
    "  pull(mu_hat)\n",
    "mu_hats\n",
    "\n",
    "pi_hats <- map_vec(d %>% pull(group) %>% unique(), ~ d %>%\n",
    "  summarize(pi_hat = mean(group == ..1)) %>%\n",
    "  pull(pi_hat))\n",
    "pi_hats\n",
    "\n",
    "vars <- d %>%\n",
    "  group_by(group) %>%\n",
    "  summarize(var_hat = var(x)) %>%\n",
    "  pull(var_hat)\n",
    "pooled_var <- sum((Ns - 1) * vars) / (sum(Ns) - 3)\n",
    "pooled_var"
   ]
  },
  {
   "cell_type": "code",
   "execution_count": null,
   "id": "15",
   "metadata": {
    "vscode": {
     "languageId": "r"
    }
   },
   "outputs": [],
   "source": [
    "groups <- d %>%\n",
    "  pull(group) %>%\n",
    "  unique()\n",
    "mu_hats[groups[3]]"
   ]
  },
  {
   "cell_type": "code",
   "execution_count": null,
   "id": "16",
   "metadata": {
    "lines_to_next_cell": 2,
    "vscode": {
     "languageId": "r"
    }
   },
   "outputs": [],
   "source": [
    "delta_lda_c <- function(x0, class) {\n",
    "  class <- as.integer(class)\n",
    "  dlta <- dnorm(x0, mean = mu_hats[class], sd = sqrt(pooled_var)) * pi_hats[class]\n",
    "  return(dlta)\n",
    "}"
   ]
  },
  {
   "cell_type": "code",
   "execution_count": null,
   "id": "17",
   "metadata": {
    "vscode": {
     "languageId": "r"
    }
   },
   "outputs": [],
   "source": [
    "x0 <- 1"
   ]
  },
  {
   "cell_type": "code",
   "execution_count": null,
   "id": "18",
   "metadata": {
    "vscode": {
     "languageId": "r"
    }
   },
   "outputs": [],
   "source": [
    "delta_lda_c(x0, class = 1)"
   ]
  },
  {
   "cell_type": "code",
   "execution_count": null,
   "id": "19",
   "metadata": {
    "vscode": {
     "languageId": "r"
    }
   },
   "outputs": [],
   "source": [
    "delta_lda_c(x0, class = 2)"
   ]
  },
  {
   "cell_type": "code",
   "execution_count": null,
   "id": "20",
   "metadata": {
    "vscode": {
     "languageId": "r"
    }
   },
   "outputs": [],
   "source": [
    "delta_lda_c(x0, class = 3)"
   ]
  },
  {
   "cell_type": "code",
   "execution_count": null,
   "id": "21",
   "metadata": {
    "vscode": {
     "languageId": "r"
    }
   },
   "outputs": [],
   "source": [
    "lda_pred <- function(x0) {\n",
    "  deltas <- map(1:3, ~ delta_lda_c(x0, ..1))\n",
    "  return(which.max(deltas))\n",
    "}"
   ]
  },
  {
   "cell_type": "code",
   "execution_count": null,
   "id": "22",
   "metadata": {
    "vscode": {
     "languageId": "r"
    }
   },
   "outputs": [],
   "source": [
    "lda_pred(x0 = 1)"
   ]
  },
  {
   "cell_type": "code",
   "execution_count": null,
   "id": "23",
   "metadata": {
    "vscode": {
     "languageId": "r"
    }
   },
   "outputs": [],
   "source": [
    "lda_pred(x0 = 7)"
   ]
  },
  {
   "cell_type": "code",
   "execution_count": null,
   "id": "24",
   "metadata": {
    "vscode": {
     "languageId": "r"
    }
   },
   "outputs": [],
   "source": [
    "lda_pred(x0 = 20)"
   ]
  },
  {
   "cell_type": "code",
   "execution_count": null,
   "id": "25",
   "metadata": {
    "vscode": {
     "languageId": "r"
    }
   },
   "outputs": [],
   "source": [
    "x_seq <- seq(-2, 25, length.out = 500)"
   ]
  },
  {
   "cell_type": "code",
   "execution_count": null,
   "id": "26",
   "metadata": {
    "lines_to_next_cell": 2,
    "vscode": {
     "languageId": "r"
    }
   },
   "outputs": [],
   "source": [
    "df <- tibble(x = x_seq, y_pred = map_vec(x_seq, lda_pred))\n",
    "df <- df %>% mutate(y_pred = factor(y_pred))\n",
    "df <- df %>% mutate(\n",
    "  c1 = map_vec(x, ~ delta_lda_c(..1, class = 1)),\n",
    "  c2 = map_vec(x, ~ delta_lda_c(..1, class = 2)),\n",
    "  c3 = map_vec(x, ~ delta_lda_c(..1, class = 3))\n",
    ")\n",
    "head(df)"
   ]
  },
  {
   "cell_type": "code",
   "execution_count": null,
   "id": "27",
   "metadata": {
    "vscode": {
     "languageId": "r"
    }
   },
   "outputs": [],
   "source": [
    "ggplot(data = d, mapping = aes(x = x, color = group, group = group)) +\n",
    "  geom_density() +\n",
    "  geom_point(mapping = aes(x = x, y = 0))"
   ]
  },
  {
   "cell_type": "code",
   "execution_count": null,
   "id": "28",
   "metadata": {
    "vscode": {
     "languageId": "r"
    }
   },
   "outputs": [],
   "source": [
    "df_long <- df %>% pivot_longer(cols = c(c1, c2, c3))\n",
    "df_long <- df_long %>% mutate(y_pred = paste0(\"c\", y_pred))\n",
    "df_long %>% head()"
   ]
  },
  {
   "cell_type": "code",
   "execution_count": null,
   "id": "29",
   "metadata": {
    "lines_to_next_cell": 2,
    "vscode": {
     "languageId": "r"
    }
   },
   "outputs": [],
   "source": [
    "options(repr.plot.width = 10, repr.plot.height = 4, repr.plot.res = 100)\n",
    "ggplot(data = df_long, mapping = aes(x = x, y = 0, color = y_pred, group = y_pred)) +\n",
    "  geom_line(mapping = aes(x = x, y = value, group = name, color = name), lwd = 2, inherit.aes = FALSE) +\n",
    "  geom_point()"
   ]
  },
  {
   "cell_type": "code",
   "execution_count": null,
   "id": "30",
   "metadata": {
    "vscode": {
     "languageId": "r"
    }
   },
   "outputs": [],
   "source": [
    "library(\"MASS\")\n",
    "?lda"
   ]
  },
  {
   "cell_type": "code",
   "execution_count": null,
   "id": "31",
   "metadata": {
    "vscode": {
     "languageId": "r"
    }
   },
   "outputs": [],
   "source": [
    "my_preds <- sapply(d$x, lda_pred)\n",
    "my_preds"
   ]
  },
  {
   "cell_type": "code",
   "execution_count": null,
   "id": "32",
   "metadata": {
    "vscode": {
     "languageId": "r"
    }
   },
   "outputs": [],
   "source": [
    "mod <- lda(group ~ ., data = d)"
   ]
  },
  {
   "cell_type": "code",
   "execution_count": null,
   "id": "33",
   "metadata": {
    "vscode": {
     "languageId": "r"
    }
   },
   "outputs": [],
   "source": [
    "mod"
   ]
  },
  {
   "cell_type": "code",
   "execution_count": null,
   "id": "34",
   "metadata": {
    "vscode": {
     "languageId": "r"
    }
   },
   "outputs": [],
   "source": [
    "mu_hat"
   ]
  },
  {
   "cell_type": "code",
   "execution_count": null,
   "id": "35",
   "metadata": {
    "vscode": {
     "languageId": "r"
    }
   },
   "outputs": [],
   "source": [
    "pi_hat"
   ]
  },
  {
   "cell_type": "code",
   "execution_count": null,
   "id": "36",
   "metadata": {
    "vscode": {
     "languageId": "r"
    }
   },
   "outputs": [],
   "source": [
    "mod_preds <- predict(mod)$class\n",
    "mod_preds"
   ]
  },
  {
   "cell_type": "code",
   "execution_count": null,
   "id": "37",
   "metadata": {
    "vscode": {
     "languageId": "r"
    }
   },
   "outputs": [],
   "source": [
    "all(mod_preds == my_preds)"
   ]
  },
  {
   "cell_type": "code",
   "execution_count": null,
   "id": "38",
   "metadata": {
    "vscode": {
     "languageId": "r"
    }
   },
   "outputs": [],
   "source": [
    "head(predict(mod)$posterior)"
   ]
  },
  {
   "cell_type": "code",
   "execution_count": null,
   "id": "39",
   "metadata": {
    "vscode": {
     "languageId": "r"
    }
   },
   "outputs": [],
   "source": [
    "mod_df <- bind_cols(tibble(x = x_seq), predict(mod, newdata = data.frame(x = x_seq))$posterior)\n",
    "mod_df <- mod_df %>% pivot_longer(cols = 2:4)\n",
    "mod_df <- mod_df %>% mutate(name = factor(name))\n",
    "mod_df %>% head()"
   ]
  },
  {
   "cell_type": "code",
   "execution_count": null,
   "id": "40",
   "metadata": {
    "lines_to_next_cell": 2,
    "vscode": {
     "languageId": "r"
    }
   },
   "outputs": [],
   "source": [
    "options(repr.plot.width = 10, repr.plot.height = 3, repr.plot.res = 100)\n",
    "ggplot(data = mod_df, mapping = aes(x = x, y = value, group = name, color = name)) +\n",
    "  geom_line(lwd = 2)"
   ]
  },
  {
   "cell_type": "code",
   "execution_count": null,
   "id": "41",
   "metadata": {
    "vscode": {
     "languageId": "r"
    }
   },
   "outputs": [],
   "source": [
    "delta_lda_c2 <- function(x0, class) {\n",
    "  class <- as.integer(class)\n",
    "  dlta <- mu_hats[class] * x0 / (pooled_var) - mu_hats[class]^2 / (2 * pooled_var) + log(pi_hats[class])\n",
    "  return(dlta)\n",
    "}\n",
    "lda_pred2 <- function(x0) {\n",
    "  deltas <- map(1:3, ~ delta_lda_c2(x0, ..1))\n",
    "  return(which.max(deltas))\n",
    "}"
   ]
  },
  {
   "cell_type": "code",
   "execution_count": null,
   "id": "42",
   "metadata": {
    "lines_to_next_cell": 2,
    "vscode": {
     "languageId": "r"
    }
   },
   "outputs": [],
   "source": [
    "df <- tibble(x = x_seq, y_pred = map_vec(x_seq, lda_pred2))\n",
    "df <- df %>% mutate(y_pred = factor(y_pred))\n",
    "df <- df %>% mutate(\n",
    "  c1 = map_vec(x, ~ delta_lda_c2(..1, class = 1)),\n",
    "  c2 = map_vec(x, ~ delta_lda_c2(..1, class = 2)),\n",
    "  c3 = map_vec(x, ~ delta_lda_c2(..1, class = 3))\n",
    ")\n",
    "head(df)"
   ]
  },
  {
   "cell_type": "code",
   "execution_count": null,
   "id": "43",
   "metadata": {
    "lines_to_next_cell": 2,
    "vscode": {
     "languageId": "r"
    }
   },
   "outputs": [],
   "source": [
    "options(repr.plot.width = 10, repr.plot.height = 4, repr.plot.res = 100)\n",
    "\n",
    "df_long <- df %>% pivot_longer(cols = c(c1, c2, c3))\n",
    "df_long <- df_long %>% mutate(y_pred = paste0(\"c\", y_pred))\n",
    "\n",
    "ggplot(data = df_long, mapping = aes(x = x, y = 0, color = y_pred, group = y_pred)) +\n",
    "  geom_line(mapping = aes(x = x, y = value, group = name, color = name), lwd = 2, inherit.aes = FALSE) +\n",
    "  geom_point()"
   ]
  },
  {
   "cell_type": "markdown",
   "id": "44",
   "metadata": {},
   "source": [
    "# LDA from a package"
   ]
  },
  {
   "cell_type": "code",
   "execution_count": null,
   "id": "45",
   "metadata": {
    "vscode": {
     "languageId": "r"
    }
   },
   "outputs": [],
   "source": [
    "library(\"palmerpenguins\")"
   ]
  },
  {
   "cell_type": "code",
   "execution_count": null,
   "id": "46",
   "metadata": {
    "vscode": {
     "languageId": "r"
    }
   },
   "outputs": [],
   "source": [
    "penguins <- penguins %>% filter(complete.cases(.))"
   ]
  },
  {
   "cell_type": "code",
   "execution_count": null,
   "id": "47",
   "metadata": {
    "lines_to_next_cell": 2,
    "vscode": {
     "languageId": "r"
    }
   },
   "outputs": [],
   "source": [
    "d <- penguins %>% dplyr::select(c(bill_length_mm, bill_depth_mm, species))\n",
    "head(d)"
   ]
  },
  {
   "cell_type": "code",
   "execution_count": null,
   "id": "48",
   "metadata": {
    "vscode": {
     "languageId": "r"
    }
   },
   "outputs": [],
   "source": [
    "mod <- lda(species ~ ., data = d)\n",
    "mod"
   ]
  },
  {
   "cell_type": "code",
   "execution_count": null,
   "id": "49",
   "metadata": {
    "lines_to_next_cell": 2,
    "vscode": {
     "languageId": "r"
    }
   },
   "outputs": [],
   "source": [
    "plot_fit <- function(v1, v2, df = penguins, N = floor(sqrt(10000)), scaleit = TRUE, fmla = \"species~.\") {\n",
    "  train_df <- df %>% dplyr::select(all_of(c(\"species\", v1, v2)))\n",
    "  if (scaleit) {\n",
    "    train_df <- train_df %>% mutate(across(-species, ~ (.x - mean(.x)) / sd(.x)))\n",
    "  }\n",
    "\n",
    "  mod <- lda(formula = as.formula(fmla), data = train_df)\n",
    "\n",
    "  combinations <- expand_grid(!!!map(train_df %>% dplyr::select(-species), ~ seq(min(.x), max(.x), length.out = N)))\n",
    "  colnames(combinations) <- c(v1, v2)\n",
    "  preds <- predict(mod, newdata = combinations)$class\n",
    "  combinations$species <- preds\n",
    "\n",
    "  ggplot(data = combinations, mapping = aes(x = !!sym(v1), y = !!sym(v2), fill = species, shape = species)) +\n",
    "    geom_tile() +\n",
    "    geom_point(data = train_df, size = 5) +\n",
    "    coord_fixed()\n",
    "}"
   ]
  },
  {
   "cell_type": "code",
   "execution_count": null,
   "id": "50",
   "metadata": {
    "vscode": {
     "languageId": "r"
    }
   },
   "outputs": [],
   "source": [
    "options(repr.plot.width = 10, repr.plot.height = 10, repr.plot.res = 100)\n",
    "plot_fit(v1 = \"bill_length_mm\", v2 = \"bill_depth_mm\", df = penguins)"
   ]
  },
  {
   "cell_type": "code",
   "execution_count": null,
   "id": "51",
   "metadata": {
    "vscode": {
     "languageId": "r"
    }
   },
   "outputs": [],
   "source": [
    "plot_fit(v1 = \"flipper_length_mm\", v2 = \"bill_depth_mm\", df = penguins)"
   ]
  },
  {
   "cell_type": "code",
   "execution_count": null,
   "id": "52",
   "metadata": {
    "vscode": {
     "languageId": "r"
    }
   },
   "outputs": [],
   "source": [
    "plot_fit(\n",
    "  v1 = \"bill_length_mm\", v2 = \"bill_depth_mm\", df = penguins,\n",
    "  fmla = \"species~I(bill_length_mm^5)+I(bill_depth_mm^3)+I(bill_depth_mm^2)\"\n",
    ")"
   ]
  },
  {
   "cell_type": "markdown",
   "id": "53",
   "metadata": {
    "vscode": {
     "languageId": "r"
    }
   },
   "source": [
    "# QDA from a package\n"
   ]
  },
  {
   "cell_type": "code",
   "execution_count": null,
   "id": "54",
   "metadata": {
    "lines_to_next_cell": 2,
    "vscode": {
     "languageId": "r"
    }
   },
   "outputs": [],
   "source": [
    "plot_fit_qda <- function(v1, v2, df = penguins, N = floor(sqrt(10000)), scaleit = TRUE, fmla = \"species~.\") {\n",
    "  train_df <- df %>% dplyr::select(all_of(c(\"species\", v1, v2)))\n",
    "  if (scaleit) {\n",
    "    train_df <- train_df %>% mutate(across(-species, ~ (.x - mean(.x)) / sd(.x)))\n",
    "  }\n",
    "\n",
    "  mod <- qda(formula = as.formula(fmla), data = train_df)\n",
    "\n",
    "  combinations <- expand_grid(!!!map(train_df %>% dplyr::select(-species), ~ seq(min(.x), max(.x), length.out = N)))\n",
    "  colnames(combinations) <- c(v1, v2)\n",
    "  preds <- predict(mod, newdata = combinations)$class\n",
    "  combinations$species <- preds\n",
    "\n",
    "  ggplot(data = combinations, mapping = aes(x = !!sym(v1), y = !!sym(v2), fill = species, shape = species)) +\n",
    "    geom_tile() +\n",
    "    geom_point(data = train_df, size = 5) +\n",
    "    coord_fixed()\n",
    "}"
   ]
  },
  {
   "cell_type": "code",
   "execution_count": null,
   "id": "55",
   "metadata": {
    "vscode": {
     "languageId": "r"
    }
   },
   "outputs": [],
   "source": [
    "options(repr.plot.width = 10, repr.plot.height = 10, repr.plot.res = 100)\n",
    "plot_fit_qda(v1 = \"bill_length_mm\", v2 = \"bill_depth_mm\", df = penguins)"
   ]
  },
  {
   "cell_type": "code",
   "execution_count": null,
   "id": "56",
   "metadata": {
    "vscode": {
     "languageId": "r"
    }
   },
   "outputs": [],
   "source": [
    "plot_fit_qda(v1 = \"flipper_length_mm\", v2 = \"bill_depth_mm\", df = penguins)"
   ]
  },
  {
   "cell_type": "code",
   "execution_count": null,
   "id": "57",
   "metadata": {
    "vscode": {
     "languageId": "r"
    }
   },
   "outputs": [],
   "source": [
    "plot_fit_qda(\n",
    "  v1 = \"bill_length_mm\", v2 = \"bill_depth_mm\", df = penguins,\n",
    "  fmla = \"species~I(bill_length_mm^5)+I(bill_depth_mm^3)+I(bill_depth_mm^2)\"\n",
    ")"
   ]
  }
 ],
 "metadata": {
  "kernelspec": {
   "display_name": "R",
   "language": "R",
   "name": "ir"
  },
  "language_info": {
   "codemirror_mode": "r",
   "file_extension": ".r",
   "mimetype": "text/x-r-source",
   "name": "R",
   "pygments_lexer": "r",
   "version": "4.4.1"
  }
 },
 "nbformat": 4,
 "nbformat_minor": 5
}
