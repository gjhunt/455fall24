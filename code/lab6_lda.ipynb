{
 "cells": [
  {
   "cell_type": "code",
   "execution_count": null,
   "metadata": {},
   "outputs": [],
   "source": [
    "load_or_install = function(list.of.packages){\n",
    "    new.packages <- list.of.packages[!(list.of.packages %in% installed.packages()[,\"Package\"])]\n",
    "    if(length(new.packages)) install.packages(new.packages)\n",
    "    for(pkg in list.of.packages)\n",
    "        library(pkg,character.only=TRUE)\n",
    "}"
   ]
  },
  {
   "cell_type": "code",
   "execution_count": null,
   "metadata": {},
   "outputs": [],
   "source": [
    "library('ggplot2')\n",
    "library('reshape2')"
   ]
  },
  {
   "cell_type": "code",
   "execution_count": null,
   "metadata": {},
   "outputs": [],
   "source": [
    "sig2 = 1\n",
    "mus = c(1,5,20)\n",
    "N = 100"
   ]
  },
  {
   "cell_type": "code",
   "execution_count": null,
   "metadata": {},
   "outputs": [],
   "source": [
    "Ns = rep(N,3)\n",
    "Ns"
   ]
  },
  {
   "cell_type": "code",
   "execution_count": null,
   "metadata": {},
   "outputs": [],
   "source": [
    "g1 <- data.frame(group=1,x = rnorm(Ns[1],mus[1],1))\n",
    "g2 <- data.frame(group=2,x = rnorm(Ns[2],mus[2],1))\n",
    "g3 <- data.frame(group=3,x = rnorm(Ns[3],mus[3],1))\n",
    "d = rbind(g1,g2,g3)\n",
    "d$group <- as.factor(d$group)\n",
    "d = d[sample(nrow(d)),]"
   ]
  },
  {
   "cell_type": "code",
   "execution_count": null,
   "metadata": {},
   "outputs": [],
   "source": [
    "head(d)"
   ]
  },
  {
   "cell_type": "code",
   "execution_count": null,
   "metadata": {},
   "outputs": [],
   "source": [
    "ggplot(data=d,mapping=aes(x=x,color=group,group=group))+\n",
    "    geom_density()+\n",
    "    geom_point(mapping=aes(x=x,y=0))"
   ]
  },
  {
   "cell_type": "code",
   "execution_count": null,
   "metadata": {},
   "outputs": [],
   "source": [
    "class=1\n",
    "  \n",
    "subd = d[d$group==class,]\n",
    "head(subd)"
   ]
  },
  {
   "cell_type": "code",
   "execution_count": null,
   "metadata": {},
   "outputs": [],
   "source": [
    "# mu1_hat\n",
    "muhat = mean(subd$x)\n",
    "muhat"
   ]
  },
  {
   "cell_type": "code",
   "execution_count": null,
   "metadata": {},
   "outputs": [],
   "source": [
    "# pi_hat\n",
    "pi_hat = mean(d$group==class)\n",
    "pi_hat"
   ]
  },
  {
   "cell_type": "code",
   "execution_count": null,
   "metadata": {},
   "outputs": [],
   "source": [
    "# pooled sd\n",
    "vars = sapply(1:3,function(i)var(d[d$group==i,'x']))\n",
    "vars"
   ]
  },
  {
   "cell_type": "code",
   "execution_count": null,
   "metadata": {},
   "outputs": [],
   "source": [
    "pooled_var = sum((Ns-1)*vars)/(sum(Ns)-3)\n",
    "pooled_var"
   ]
  },
  {
   "cell_type": "code",
   "execution_count": null,
   "metadata": {},
   "outputs": [],
   "source": [
    "var(d$x)"
   ]
  },
  {
   "cell_type": "code",
   "execution_count": null,
   "metadata": {},
   "outputs": [],
   "source": [
    "x0 = 1"
   ]
  },
  {
   "cell_type": "code",
   "execution_count": null,
   "metadata": {},
   "outputs": [],
   "source": [
    "dnorm(x0,mean=muhat,sd=sqrt(pooled_var))*pi_hat"
   ]
  },
  {
   "cell_type": "code",
   "execution_count": null,
   "metadata": {},
   "outputs": [],
   "source": [
    "delta_lda_c = function(x0,class){\n",
    "    subd = d[d$group==class,]\n",
    "    muhat = mean(subd$x)\n",
    "    pi_hat = mean(d$group==class)\n",
    "    vars = sapply(1:3,function(i)var(d[d$group==i,'x']))\n",
    "    pooled_var = sum((Ns-1)*vars)/(sum(Ns)-3)\n",
    "    dlta = dnorm(x0,mean=muhat,sd=sqrt(pooled_var))*pi_hat\n",
    "    return(dlta)\n",
    "}"
   ]
  },
  {
   "cell_type": "code",
   "execution_count": null,
   "metadata": {},
   "outputs": [],
   "source": [
    "delta_lda_c(x0,class=1)"
   ]
  },
  {
   "cell_type": "code",
   "execution_count": null,
   "metadata": {},
   "outputs": [],
   "source": [
    "delta_lda_c(x0,class=2)"
   ]
  },
  {
   "cell_type": "code",
   "execution_count": null,
   "metadata": {},
   "outputs": [],
   "source": [
    "delta_lda_c(x0,class=3)"
   ]
  },
  {
   "cell_type": "code",
   "execution_count": null,
   "metadata": {},
   "outputs": [],
   "source": [
    "lda_pred = function(x0){\n",
    "    deltas = sapply(1:3,function(c)delta_lda_c(x0,c))\n",
    "    return(which.max(deltas))\n",
    "}"
   ]
  },
  {
   "cell_type": "code",
   "execution_count": null,
   "metadata": {},
   "outputs": [],
   "source": [
    "lda_pred(x0=1)"
   ]
  },
  {
   "cell_type": "code",
   "execution_count": null,
   "metadata": {},
   "outputs": [],
   "source": [
    "lda_pred(x0=7)"
   ]
  },
  {
   "cell_type": "code",
   "execution_count": null,
   "metadata": {},
   "outputs": [],
   "source": [
    "lda_pred(x0=20)"
   ]
  },
  {
   "cell_type": "code",
   "execution_count": null,
   "metadata": {},
   "outputs": [],
   "source": [
    "x_seq = seq(-2,25,length.out=500)"
   ]
  },
  {
   "cell_type": "code",
   "execution_count": null,
   "metadata": {},
   "outputs": [],
   "source": [
    "df = data.frame(x=x_seq,y_pred = sapply(x_seq,lda_pred))\n",
    "df$y_pred = factor(df$y_pred)\n",
    "df$c1 = sapply(x_seq,delta_lda_c,class=1)\n",
    "df$c2 = sapply(x_seq,delta_lda_c,class=2)\n",
    "df$c3 = sapply(x_seq,delta_lda_c,class=3)\n",
    "head(df)"
   ]
  },
  {
   "cell_type": "code",
   "execution_count": null,
   "metadata": {},
   "outputs": [],
   "source": [
    "mdf = melt(df,id.vars=c('x','y_pred'))"
   ]
  },
  {
   "cell_type": "code",
   "execution_count": null,
   "metadata": {},
   "outputs": [],
   "source": [
    "levels(mdf$variable) = c(1,2,3)"
   ]
  },
  {
   "cell_type": "code",
   "execution_count": null,
   "metadata": {},
   "outputs": [],
   "source": [
    "ggplot(data=d,mapping=aes(x=x,color=group,group=group))+\n",
    "    geom_density()+\n",
    "    geom_point(mapping=aes(x=x,y=0))"
   ]
  },
  {
   "cell_type": "code",
   "execution_count": null,
   "metadata": {},
   "outputs": [],
   "source": [
    "options(repr.plot.width = 10, repr.plot.height = 4, repr.plot.res = 100)\n",
    "ggplot(data=mdf,mapping=aes(x=x,y=0,color=y_pred,group=y_pred))+\n",
    "    geom_point()+\n",
    "    geom_line(mapping=aes(x=x,y=value,group=variable,color=variable),inherit.aes=FALSE)"
   ]
  },
  {
   "cell_type": "code",
   "execution_count": null,
   "metadata": {},
   "outputs": [],
   "source": [
    "library('MASS')\n",
    "?lda"
   ]
  },
  {
   "cell_type": "code",
   "execution_count": null,
   "metadata": {},
   "outputs": [],
   "source": [
    "my_preds = sapply(d$x,lda_pred)\n",
    "my_preds"
   ]
  },
  {
   "cell_type": "code",
   "execution_count": null,
   "metadata": {},
   "outputs": [],
   "source": [
    "mod = lda(group~.,data=d)"
   ]
  },
  {
   "cell_type": "code",
   "execution_count": null,
   "metadata": {},
   "outputs": [],
   "source": [
    "mod"
   ]
  },
  {
   "cell_type": "code",
   "execution_count": null,
   "metadata": {},
   "outputs": [],
   "source": [
    "muhat"
   ]
  },
  {
   "cell_type": "code",
   "execution_count": null,
   "metadata": {},
   "outputs": [],
   "source": [
    "pi_hat"
   ]
  },
  {
   "cell_type": "code",
   "execution_count": null,
   "metadata": {},
   "outputs": [],
   "source": [
    "mod_preds = predict(mod)$class\n",
    "mod_preds"
   ]
  },
  {
   "cell_type": "code",
   "execution_count": null,
   "metadata": {},
   "outputs": [],
   "source": [
    "all(mod_preds == my_preds)"
   ]
  },
  {
   "cell_type": "code",
   "execution_count": null,
   "metadata": {},
   "outputs": [],
   "source": [
    "head(predict(mod)$posterior)"
   ]
  },
  {
   "cell_type": "code",
   "execution_count": null,
   "metadata": {},
   "outputs": [],
   "source": [
    "mod_df = cbind(x_seq,predict(mod,newdata=data.frame(x=x_seq))$posterior)\n",
    "colnames(mod_df)[1] = c('x')\n",
    "mod_df = data.frame(mod_df)\n",
    "mmod_df = melt(mod_df,id.vars='x')\n",
    "levels(mmod_df$variable) = 1:3"
   ]
  },
  {
   "cell_type": "code",
   "execution_count": null,
   "metadata": {},
   "outputs": [],
   "source": [
    "options(repr.plot.width = 10, repr.plot.height = 3, repr.plot.res = 100)\n",
    "ggplot(data=mdf,mapping=aes(x=x,y=0,color=y_pred,group=y_pred))+\n",
    "    geom_point()+\n",
    "    #geom_line(mapping=aes(x=x,y=value,group=variable,color=variable),inherit.aes=FALSE)+\n",
    "    geom_line(mapping=aes(x=x,y=value,group=variable,color=variable),inherit.aes=FALSE,data=mmod_df)"
   ]
  },
  {
   "cell_type": "code",
   "execution_count": null,
   "metadata": {},
   "outputs": [],
   "source": [
    "head(df)"
   ]
  },
  {
   "cell_type": "code",
   "execution_count": null,
   "metadata": {},
   "outputs": [],
   "source": [
    "df[,3:5] = df[,3:5]/rowSums(df[,3:5])"
   ]
  },
  {
   "cell_type": "code",
   "execution_count": null,
   "metadata": {},
   "outputs": [],
   "source": [
    "mdf = melt(df,id.vars=c('x','y_pred'))"
   ]
  },
  {
   "cell_type": "code",
   "execution_count": null,
   "metadata": {},
   "outputs": [],
   "source": [
    "levels(mdf$variable) = c(1,2,3)"
   ]
  },
  {
   "cell_type": "code",
   "execution_count": null,
   "metadata": {},
   "outputs": [],
   "source": [
    "options(repr.plot.width = 10, repr.plot.height = 4, repr.plot.res = 100)\n",
    "ggplot(data=mdf,mapping=aes(x=x,y=0,color=y_pred,group=y_pred))+\n",
    "    geom_point()+\n",
    "    geom_line(mapping=aes(x=x,y=value,group=variable,color=variable),inherit.aes=FALSE)\n",
    "    geom_line(mapping=aes(x=x,y=value,group=variable,color=variable),inherit.aes=FALSE,data=mmod_df)"
   ]
  },
  {
   "cell_type": "code",
   "execution_count": null,
   "metadata": {},
   "outputs": [],
   "source": [
    "delta_lda_c2 = function(x0,class){\n",
    "    subd = d[d$group==class,]\n",
    "    muhat = mean(subd$x)\n",
    "    pi_hat = mean(d$group==class)\n",
    "    vars = sapply(1:3,function(i)var(d[d$group==i,'x']))\n",
    "    pooled_var = sum((Ns-1)*vars)/(sum(Ns)-3)\n",
    "    dlta = muhat*x0/(pooled_var) - muhat^2/(2*pooled_var)+log(pi_hat)\n",
    "    return(dlta)\n",
    "}\n",
    "lda_pred2 = function(x0){\n",
    "    deltas = sapply(1:3,function(c)delta_lda_c(x0,c))\n",
    "    return(which.max(deltas))\n",
    "}"
   ]
  },
  {
   "cell_type": "code",
   "execution_count": null,
   "metadata": {},
   "outputs": [],
   "source": [
    "df = data.frame(x=x_seq,y_pred = sapply(x_seq,lda_pred2))\n",
    "df$y_pred = factor(df$y_pred)\n",
    "df$c1 = sapply(x_seq,delta_lda_c2,class=1)\n",
    "df$c2 = sapply(x_seq,delta_lda_c2,class=2)\n",
    "df$c3 = sapply(x_seq,delta_lda_c2,class=3)\n",
    "\n",
    "mdf = melt(df,id.vars=c('x','y_pred'))\n",
    "levels(mdf$variable) = c(1,2,3)"
   ]
  },
  {
   "cell_type": "code",
   "execution_count": null,
   "metadata": {},
   "outputs": [],
   "source": [
    "ggplot(data=mdf,mapping=aes(x=x,y=0,color=y_pred,group=y_pred))+\n",
    "    geom_point(shape=1,size=1/10)+\n",
    "    geom_line(mapping=aes(x=x,y=value,group=variable,color=variable),lwd=2)+\n",
    "    coord_cartesian(ylim=c(-50,50))"
   ]
  },
  {
   "cell_type": "markdown",
   "metadata": {},
   "source": [
    "# for $p>1$"
   ]
  },
  {
   "cell_type": "code",
   "execution_count": null,
   "metadata": {},
   "outputs": [],
   "source": [
    "load_or_install('palmerpenguins')\n",
    "penguins = penguins[complete.cases(penguins),]\n",
    "head(penguins)"
   ]
  },
  {
   "cell_type": "code",
   "execution_count": null,
   "metadata": {},
   "outputs": [],
   "source": [
    "d = penguins[,c('bill_length_mm','bill_depth_mm','species')]\n",
    "head(d)"
   ]
  },
  {
   "cell_type": "code",
   "execution_count": null,
   "metadata": {},
   "outputs": [],
   "source": [
    "mod = lda(species~.,data=d)\n",
    "mod"
   ]
  },
  {
   "cell_type": "code",
   "execution_count": null,
   "metadata": {},
   "outputs": [],
   "source": [
    "plot_fit = function(v1,v2,df=penguins,N=floor(sqrt(10000)),scaleit=FALSE,fmla='species~.'){\n",
    "    train_df = df[,c('species',v1,v2)]\n",
    "    if(scaleit)\n",
    "        train_df[,c(v1,v2)] = scale(train_df[,c(v1,v2)])\n",
    "    \n",
    "    #mod = knn3(species~.,data=train_df,k=k)\n",
    "    mod = lda(formula=as.formula(fmla),data=train_df)\n",
    "    \n",
    "    r1 = range(train_df[[v1]])\n",
    "    r2 = range(train_df[[v2]])\n",
    "    \n",
    "    s1 = seq(r1[1],r1[2],length.out=N)\n",
    "    s2 = seq(r2[1],r2[2],length.out=N)\n",
    "    \n",
    "    p_df = expand.grid(v1=s1,v2=s2)\n",
    "    colnames(p_df) = c(v1,v2)\n",
    "    preds = predict(mod,newdata=p_df)$class\n",
    "    p_df$species = preds\n",
    "    \n",
    "    ggplot(data=p_df,mapping=aes_string(x=v1,y=v2,fill='species',shape='species'))+geom_tile()+\n",
    "        geom_point(data=train_df,size=5)\n",
    "}"
   ]
  },
  {
   "cell_type": "code",
   "execution_count": null,
   "metadata": {},
   "outputs": [],
   "source": [
    "options(repr.plot.width = 10, repr.plot.height = 3, repr.plot.res = 100)\n",
    "plot_fit(v1='bill_length_mm',v2='bill_depth_mm',df=penguins)"
   ]
  },
  {
   "cell_type": "code",
   "execution_count": null,
   "metadata": {},
   "outputs": [],
   "source": [
    "plot_fit(v1='flipper_length_mm',v2='bill_depth_mm',df=penguins)"
   ]
  },
  {
   "cell_type": "code",
   "execution_count": null,
   "metadata": {},
   "outputs": [],
   "source": [
    "options(repr.plot.width = 10, repr.plot.height = 5, repr.plot.res = 100)\n",
    "plot_fit(v1='bill_length_mm',v2='bill_depth_mm',df=penguins,\n",
    "             fmla='species~I(bill_length_mm^5)+I(bill_depth_mm^3)+I(bill_depth_mm^2)')"
   ]
  },
  {
   "cell_type": "code",
   "execution_count": null,
   "metadata": {},
   "outputs": [],
   "source": []
  }
 ],
 "metadata": {
  "kernelspec": {
   "display_name": "R",
   "language": "R",
   "name": "ir"
  },
  "language_info": {
   "codemirror_mode": "r",
   "file_extension": ".r",
   "mimetype": "text/x-r-source",
   "name": "R",
   "pygments_lexer": "r",
   "version": "4.3.1"
  }
 },
 "nbformat": 4,
 "nbformat_minor": 4
}
