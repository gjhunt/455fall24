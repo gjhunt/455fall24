{
 "cells": [
  {
   "cell_type": "markdown",
   "id": "0",
   "metadata": {},
   "source": [
    "# Evaluation\n"
   ]
  },
  {
   "cell_type": "code",
   "execution_count": null,
   "id": "1",
   "metadata": {
    "vscode": {
     "languageId": "r"
    }
   },
   "outputs": [],
   "source": [
    "library(\"caret\")\n",
    "library(\"rsample\")\n",
    "library(\"dplyr\")\n",
    "library(\"purrr\")\n",
    "library(\"ggplot2\")\n",
    "library(\"tidyr\")"
   ]
  },
  {
   "cell_type": "markdown",
   "id": "2",
   "metadata": {},
   "source": [
    "# simulation"
   ]
  },
  {
   "cell_type": "code",
   "execution_count": null,
   "id": "3",
   "metadata": {
    "vscode": {
     "languageId": "r"
    }
   },
   "outputs": [],
   "source": [
    "W <- 10\n",
    "H <- 7"
   ]
  },
  {
   "cell_type": "code",
   "execution_count": null,
   "id": "4",
   "metadata": {
    "vscode": {
     "languageId": "r"
    }
   },
   "outputs": [],
   "source": [
    "f <- function(x) (x - pi)^2 / 10 + sin(x) / 5"
   ]
  },
  {
   "cell_type": "code",
   "execution_count": null,
   "id": "5",
   "metadata": {
    "lines_to_next_cell": 2,
    "vscode": {
     "languageId": "r"
    }
   },
   "outputs": [],
   "source": [
    "gen_data <- function(N) {\n",
    "  x <- runif(N, 0, 2 * pi)\n",
    "  y <- f(x)\n",
    "  e <- rnorm(N, 0, 1 / 10)\n",
    "  y <- y + e\n",
    "  all_data <- tibble(data.frame(x = x, y = y))\n",
    "  return(all_data)\n",
    "}\n",
    "\n",
    "N_train <- 250\n",
    "K_max <- 55\n",
    "Num_K <- min(K_max,100)\n",
    "\n",
    "\n",
    "all_data <- gen_data(N_train)\n",
    "\n",
    "K_seq <- floor(seq(1, K_max, length.out = min(Num_K, K_max)))\n",
    "K_seq\n",
    "\n",
    "options(repr.plot.width = W, repr.plot.height = H, repr.plot.res = 100)\n",
    "ggplot(data = all_data, mapping = aes(x = x, y = y)) +\n",
    "  geom_point()"
   ]
  },
  {
   "cell_type": "code",
   "execution_count": null,
   "id": "6",
   "metadata": {
    "vscode": {
     "languageId": "r"
    }
   },
   "outputs": [],
   "source": [
    "super_test <- gen_data(5000) # wouldn't have this in real life, but good for demo purposes"
   ]
  },
  {
   "cell_type": "markdown",
   "id": "7",
   "metadata": {},
   "source": [
    "# Simple test/train split"
   ]
  },
  {
   "cell_type": "code",
   "execution_count": null,
   "id": "8",
   "metadata": {
    "vscode": {
     "languageId": "r"
    }
   },
   "outputs": [],
   "source": [
    "splt <- initial_split(all_data, prop = .9)\n",
    "splt"
   ]
  },
  {
   "cell_type": "code",
   "execution_count": null,
   "id": "9",
   "metadata": {
    "vscode": {
     "languageId": "r"
    }
   },
   "outputs": [],
   "source": [
    "training(splt) %>% dim()\n",
    "testing(splt) %>% dim()"
   ]
  },
  {
   "cell_type": "code",
   "execution_count": null,
   "id": "10",
   "metadata": {
    "vscode": {
     "languageId": "r"
    }
   },
   "outputs": [],
   "source": [
    "# build on the testing data\n",
    "knn_mod <- knnreg(y ~ ., data = training(splt), k = 5)"
   ]
  },
  {
   "cell_type": "code",
   "execution_count": null,
   "id": "11",
   "metadata": {
    "vscode": {
     "languageId": "r"
    }
   },
   "outputs": [],
   "source": [
    "calc_metric <- function(y, yhat) sqrt(mean((y - yhat)^2))"
   ]
  },
  {
   "cell_type": "code",
   "execution_count": null,
   "id": "12",
   "metadata": {
    "vscode": {
     "languageId": "r"
    }
   },
   "outputs": [],
   "source": [
    "train_preds <- predict(knn_mod, training(splt))\n",
    "MSE_train <- calc_metric(training(splt) %>% pull(y), train_preds)\n",
    "MSE_train"
   ]
  },
  {
   "cell_type": "code",
   "execution_count": null,
   "id": "13",
   "metadata": {
    "vscode": {
     "languageId": "r"
    }
   },
   "outputs": [],
   "source": [
    "test_preds <- predict(knn_mod, testing(splt))\n",
    "MSE_test <- calc_metric(testing(splt) %>% pull(y), test_preds)\n",
    "MSE_test"
   ]
  },
  {
   "cell_type": "code",
   "execution_count": null,
   "id": "14",
   "metadata": {
    "vscode": {
     "languageId": "r"
    }
   },
   "outputs": [],
   "source": [
    "plot(all_data$x, all_data$y)\n",
    "xe <- data.frame(x = sort(runif(1000, 0, 2 * pi)))\n",
    "lines(xe$x, f(xe$x), col = \"blue\", lwd = 5)\n",
    "lines(xe$x, predict(knn_mod, xe), col = \"red\", lwd = 5)"
   ]
  },
  {
   "cell_type": "markdown",
   "id": "15",
   "metadata": {},
   "source": [
    "notice how the training MSE is typically lower than the testing MSE"
   ]
  },
  {
   "cell_type": "code",
   "execution_count": null,
   "id": "16",
   "metadata": {
    "vscode": {
     "languageId": "r"
    }
   },
   "outputs": [],
   "source": [
    "# demo only (wouldn't have in real analysis)\n",
    "super_preds <- predict(knn_mod, super_test)\n",
    "MSE_super <- calc_metric(super_test %>% pull(y), super_preds)\n",
    "MSE_super"
   ]
  },
  {
   "cell_type": "code",
   "execution_count": null,
   "id": "17",
   "metadata": {},
   "outputs": [],
   "source": [
    "over_K = function(K){\n",
    "    knn_mod <- knnreg(y ~ ., data = training(splt), k = K)\n",
    "\n",
    "    train_preds <- predict(knn_mod, training(splt))\n",
    "    MSE_train <- calc_metric(training(splt) %>% pull(y), train_preds)\n",
    "    MSE_train\n",
    "\n",
    "    test_preds <- predict(knn_mod, testing(splt))\n",
    "    MSE_test <- calc_metric(testing(splt) %>% pull(y), test_preds)\n",
    "    MSE_test\n",
    "\n",
    "    super_preds <- predict(knn_mod, super_test)\n",
    "    MSE_super <- calc_metric(super_test %>% pull(y), super_preds)\n",
    "    MSE_super\n",
    "\n",
    "    return(tibble(train=MSE_train,test=MSE_test,super=MSE_super,K=K))\n",
    "}"
   ]
  },
  {
   "cell_type": "code",
   "execution_count": null,
   "id": "18",
   "metadata": {},
   "outputs": [],
   "source": [
    "ret <- map(K_seq, ~ over_K(.x))"
   ]
  },
  {
   "cell_type": "code",
   "execution_count": null,
   "id": "19",
   "metadata": {},
   "outputs": [],
   "source": [
    "tttbl <- ret %>% bind_rows()"
   ]
  },
  {
   "cell_type": "code",
   "execution_count": null,
   "id": "20",
   "metadata": {},
   "outputs": [],
   "source": [
    "tttbl %>% pivot_longer(cols=c(train,test,super)) %>% \n",
    "    ggplot(mapping=aes(x=1/K,y=value,color=name,group=name))+geom_point() + \n",
    "    scale_x_log10() + \n",
    "    scale_y_log10()"
   ]
  },
  {
   "cell_type": "code",
   "execution_count": null,
   "id": "21",
   "metadata": {},
   "outputs": [],
   "source": [
    "tttbl %>% filter(test==min(test))"
   ]
  },
  {
   "cell_type": "markdown",
   "id": "22",
   "metadata": {},
   "source": [
    "A little simulation:"
   ]
  },
  {
   "cell_type": "code",
   "execution_count": null,
   "id": "23",
   "metadata": {},
   "outputs": [],
   "source": [
    "sim = function(i){\n",
    "    splt <- initial_split(all_data, prop = .9)\n",
    "\n",
    "    over_K = function(K){\n",
    "        knn_mod <- knnreg(y ~ ., data = training(splt), k = K)\n",
    "    \n",
    "        train_preds <- predict(knn_mod, training(splt))\n",
    "        MSE_train <- calc_metric(training(splt) %>% pull(y), train_preds)\n",
    "        MSE_train\n",
    "    \n",
    "        test_preds <- predict(knn_mod, testing(splt))\n",
    "        MSE_test <- calc_metric(testing(splt) %>% pull(y), test_preds)\n",
    "        MSE_test\n",
    "    \n",
    "        super_preds <- predict(knn_mod, super_test)\n",
    "        MSE_super <- calc_metric(super_test %>% pull(y), super_preds)\n",
    "        MSE_super\n",
    "    \n",
    "        return(tibble(train=MSE_train,test=MSE_test,super=MSE_super,K=K))\n",
    "    }\n",
    "\n",
    "    ret <- map(K_seq, ~ over_K(.x))\n",
    "    tttbl <- ret %>% bind_rows()\n",
    "    return(tttbl %>% filter(test==min(test)))\n",
    "}"
   ]
  },
  {
   "cell_type": "code",
   "execution_count": null,
   "id": "24",
   "metadata": {},
   "outputs": [],
   "source": [
    "sim_out <- map(1:10,sim)"
   ]
  },
  {
   "cell_type": "code",
   "execution_count": null,
   "id": "25",
   "metadata": {},
   "outputs": [],
   "source": [
    "sim_tbl <- sim_out %>% bind_rows()\n",
    "sim_tbl$i <- 1:nrow(sim_tbl)\n",
    "sim_tbl"
   ]
  },
  {
   "cell_type": "code",
   "execution_count": null,
   "id": "26",
   "metadata": {},
   "outputs": [],
   "source": [
    "sim_tbl %>% pivot_longer(cols=c(train,test,super)) %>% \n",
    "    ggplot(mapping=aes(x=i,y=value,color=name,shape=name)) + \n",
    "    geom_point()"
   ]
  },
  {
   "cell_type": "markdown",
   "id": "27",
   "metadata": {},
   "source": [
    "# Cross-validation"
   ]
  },
  {
   "cell_type": "code",
   "execution_count": null,
   "id": "28",
   "metadata": {
    "vscode": {
     "languageId": "r"
    }
   },
   "outputs": [],
   "source": [
    "xvsplt <- vfold_cv(all_data, v = 10)"
   ]
  },
  {
   "cell_type": "code",
   "execution_count": null,
   "id": "29",
   "metadata": {
    "vscode": {
     "languageId": "r"
    }
   },
   "outputs": [],
   "source": [
    "map(xvsplt$splits, dim)"
   ]
  },
  {
   "cell_type": "code",
   "execution_count": null,
   "id": "30",
   "metadata": {
    "vscode": {
     "languageId": "r"
    }
   },
   "outputs": [],
   "source": [
    "training(xvsplt$splits[[2]]) %>% dim()\n",
    "testing(xvsplt$splits[[2]]) %>% dim()"
   ]
  },
  {
   "cell_type": "markdown",
   "id": "31",
   "metadata": {},
   "source": [
    "let's put this in a function"
   ]
  },
  {
   "cell_type": "code",
   "execution_count": null,
   "id": "32",
   "metadata": {
    "vscode": {
     "languageId": "r"
    }
   },
   "outputs": [],
   "source": [
    "split_eval <- function(splt) {\n",
    "  knn_mod <- knnreg(y ~ ., data = training(splt), k = 5)\n",
    "\n",
    "  train_preds <- predict(knn_mod, training(splt))\n",
    "  MSE_train <- calc_metric(training(splt) %>% pull(y), train_preds)\n",
    "\n",
    "  test_preds <- predict(knn_mod, testing(splt))\n",
    "  MSE_test <- calc_metric(testing(splt) %>% pull(y), test_preds)\n",
    "\n",
    "  return(data.frame(\n",
    "    train = MSE_train,\n",
    "    test = MSE_test\n",
    "  ))\n",
    "}"
   ]
  },
  {
   "cell_type": "code",
   "execution_count": null,
   "id": "33",
   "metadata": {
    "vscode": {
     "languageId": "r"
    }
   },
   "outputs": [],
   "source": [
    "split_eval(xvsplt$splits[[1]])"
   ]
  },
  {
   "cell_type": "code",
   "execution_count": null,
   "id": "34",
   "metadata": {
    "vscode": {
     "languageId": "r"
    }
   },
   "outputs": [],
   "source": [
    "split_eval(xvsplt$splits[[2]])"
   ]
  },
  {
   "cell_type": "code",
   "execution_count": null,
   "id": "35",
   "metadata": {
    "vscode": {
     "languageId": "r"
    }
   },
   "outputs": [],
   "source": [
    "xv_res <- map(xvsplt$splits, split_eval) %>% bind_rows()\n",
    "xv_res$fold <- 1:length(xvsplt$splits)\n",
    "xv_res"
   ]
  },
  {
   "cell_type": "code",
   "execution_count": null,
   "id": "36",
   "metadata": {
    "vscode": {
     "languageId": "r"
    }
   },
   "outputs": [],
   "source": [
    "xv_res_long <- xv_res %>% pivot_longer(cols = c(train, test))\n",
    "xv_res_long"
   ]
  },
  {
   "cell_type": "code",
   "execution_count": null,
   "id": "37",
   "metadata": {
    "vscode": {
     "languageId": "r"
    }
   },
   "outputs": [],
   "source": [
    "ggplot(data = xv_res_long, mapping = aes(x = fold, y = value, color = name)) +\n",
    "  geom_point() +\n",
    "  geom_hline(yintercept = MSE_super, lty = 2)"
   ]
  },
  {
   "cell_type": "markdown",
   "id": "38",
   "metadata": {},
   "source": [
    "in total summary we can summarize the RMSEs"
   ]
  },
  {
   "cell_type": "code",
   "execution_count": null,
   "id": "39",
   "metadata": {
    "vscode": {
     "languageId": "r"
    }
   },
   "outputs": [],
   "source": [
    "xv_res_long %>%\n",
    "  group_by(name) %>%\n",
    "  summarize(mean = mean(value), sd = sd(value))"
   ]
  },
  {
   "cell_type": "code",
   "execution_count": null,
   "id": "40",
   "metadata": {
    "vscode": {
     "languageId": "r"
    }
   },
   "outputs": [],
   "source": [
    "# demo only (wouldn't have in real analysis)\n",
    "super_preds <- predict(knn_mod, super_test)\n",
    "MSE_super <- calc_metric(super_test %>% pull(y), super_preds)\n",
    "MSE_super"
   ]
  },
  {
   "cell_type": "markdown",
   "id": "41",
   "metadata": {},
   "source": [
    "# Train/Test/Validate to choose $K$"
   ]
  },
  {
   "cell_type": "markdown",
   "id": "42",
   "metadata": {},
   "source": [
    "How can we use this to choose a value of $k$ for KNN? Use a train/validate/test 3-way split"
   ]
  },
  {
   "cell_type": "code",
   "execution_count": null,
   "id": "43",
   "metadata": {
    "vscode": {
     "languageId": "r"
    }
   },
   "outputs": [],
   "source": [
    "splt <- initial_validation_split(all_data, prop = c(0.6, .2))\n",
    "splt"
   ]
  },
  {
   "cell_type": "code",
   "execution_count": null,
   "id": "44",
   "metadata": {
    "vscode": {
     "languageId": "r"
    }
   },
   "outputs": [],
   "source": [
    "split_eval <- function(splt, K = NULL) {\n",
    "  knn_mod <- knnreg(y ~ ., data = training(splt), k = K)\n",
    "\n",
    "  train_preds <- predict(knn_mod, training(splt))\n",
    "  MSE_train <- calc_metric(training(splt) %>% pull(y), train_preds)\n",
    "\n",
    "  val_preds <- predict(knn_mod, validation(splt))\n",
    "  MSE_val <- calc_metric(validation(splt) %>% pull(y), val_preds)\n",
    "\n",
    "  test_preds <- predict(knn_mod, testing(splt))\n",
    "  MSE_test <- calc_metric(testing(splt) %>% pull(y), test_preds)\n",
    "\n",
    "  super_preds <- predict(knn_mod, super_test)\n",
    "  MSE_super <- calc_metric(super_test %>% pull(y), super_preds)\n",
    "  MSE_super\n",
    "\n",
    "  return(data.frame(\n",
    "    train = MSE_train,\n",
    "    test = MSE_test,\n",
    "    val = MSE_val,\n",
    "    super = MSE_super,\n",
    "    K = K\n",
    "  ))\n",
    "}"
   ]
  },
  {
   "cell_type": "code",
   "execution_count": null,
   "id": "45",
   "metadata": {
    "vscode": {
     "languageId": "r"
    }
   },
   "outputs": [],
   "source": [
    "split_eval(splt, K = 5)"
   ]
  },
  {
   "cell_type": "code",
   "execution_count": null,
   "id": "46",
   "metadata": {
    "vscode": {
     "languageId": "r"
    }
   },
   "outputs": [],
   "source": [
    "ttv_res <- map(K_seq, ~ split_eval(splt, K = .x))"
   ]
  },
  {
   "cell_type": "code",
   "execution_count": null,
   "id": "47",
   "metadata": {
    "vscode": {
     "languageId": "r"
    }
   },
   "outputs": [],
   "source": [
    "ttv_tbl <- ttv_res %>% bind_rows()\n",
    "ttv_tbl %>% head()"
   ]
  },
  {
   "cell_type": "code",
   "execution_count": null,
   "id": "48",
   "metadata": {
    "vscode": {
     "languageId": "r"
    }
   },
   "outputs": [],
   "source": [
    "ttv_long <- ttv_tbl %>% pivot_longer(cols = c(train, val, super))\n",
    "ttv_long %>% head()"
   ]
  },
  {
   "cell_type": "code",
   "execution_count": null,
   "id": "49",
   "metadata": {
    "vscode": {
     "languageId": "r"
    }
   },
   "outputs": [],
   "source": [
    "ggplot(data = ttv_long, mapping = aes(x = K, y = value, color = name)) +\n",
    "  geom_point() +\n",
    "  scale_x_log10() +\n",
    "  scale_y_log10()"
   ]
  },
  {
   "cell_type": "code",
   "execution_count": null,
   "id": "50",
   "metadata": {
    "vscode": {
     "languageId": "r"
    }
   },
   "outputs": [],
   "source": [
    "ggplot(data = ttv_long, mapping = aes(x = 1 / K, y = value, color = name)) +\n",
    "  geom_point() +\n",
    "  scale_x_log10() +\n",
    "  scale_y_log10()"
   ]
  },
  {
   "cell_type": "code",
   "execution_count": null,
   "id": "51",
   "metadata": {
    "vscode": {
     "languageId": "r"
    }
   },
   "outputs": [],
   "source": [
    "ttv_tbl %>% filter(val == min(val))"
   ]
  },
  {
   "cell_type": "code",
   "execution_count": null,
   "id": "52",
   "metadata": {
    "vscode": {
     "languageId": "r"
    }
   },
   "outputs": [],
   "source": [
    "K_hat <- ttv_tbl %>%\n",
    "  filter(val == min(val)) %>%\n",
    "  pull(K)\n",
    "K_hat"
   ]
  },
  {
   "cell_type": "code",
   "execution_count": null,
   "id": "53",
   "metadata": {
    "vscode": {
     "languageId": "r"
    }
   },
   "outputs": [],
   "source": [
    "knn_mod <- knnreg(y ~ ., data = all_data, k = K_hat)\n",
    "plot(all_data$x, all_data$y)\n",
    "xe <- data.frame(x = sort(runif(1000, 0, 2 * pi)))\n",
    "lines(xe$x, f(xe$x), col = \"blue\", lwd = 5)\n",
    "lines(xe$x, predict(knn_mod, xe), col = \"red\", lwd = 5)"
   ]
  },
  {
   "cell_type": "markdown",
   "id": "54",
   "metadata": {
    "vscode": {
     "languageId": "r"
    }
   },
   "source": [
    "# Cross Valdation to choose $K$"
   ]
  },
  {
   "cell_type": "code",
   "execution_count": null,
   "id": "55",
   "metadata": {
    "vscode": {
     "languageId": "r"
    }
   },
   "outputs": [],
   "source": [
    "split_eval_K <- function(splt, K) {\n",
    "  knn_mod <- knnreg(y ~ ., data = training(splt), k = K)\n",
    "\n",
    "  train_preds <- predict(knn_mod, training(splt))\n",
    "  MSE_train <- calc_metric(training(splt) %>% pull(y), train_preds)\n",
    "\n",
    "  test_preds <- predict(knn_mod, testing(splt))\n",
    "  MSE_test <- calc_metric(testing(splt) %>% pull(y), test_preds)\n",
    "\n",
    "  return(data.frame(\n",
    "    train = MSE_train,\n",
    "    test = MSE_test,\n",
    "    K = K\n",
    "  ))\n",
    "}\n",
    "\n",
    "split_eval <- function(splt) {\n",
    "  K_seq <- floor(seq(1, K_max, length.out = 50))\n",
    "  ret <- map(K_seq, ~ split_eval_K(splt, .x))\n",
    "  return(ret)\n",
    "}"
   ]
  },
  {
   "cell_type": "code",
   "execution_count": null,
   "id": "56",
   "metadata": {
    "vscode": {
     "languageId": "r"
    }
   },
   "outputs": [],
   "source": [
    "split_eval_i <- function(i) {\n",
    "  sei <- split_eval(xvsplt$splits[[i]]) %>% bind_rows()\n",
    "  sei$i <- i\n",
    "  return(sei)\n",
    "}\n",
    "\n",
    "res <- map(seq_along(xvsplt$splits), split_eval_i) %>% bind_rows()"
   ]
  },
  {
   "cell_type": "code",
   "execution_count": null,
   "id": "57",
   "metadata": {
    "vscode": {
     "languageId": "r"
    }
   },
   "outputs": [],
   "source": [
    "res %>% sample_n(10)"
   ]
  },
  {
   "cell_type": "code",
   "execution_count": null,
   "id": "58",
   "metadata": {
    "vscode": {
     "languageId": "r"
    }
   },
   "outputs": [],
   "source": [
    "plt_df <- res %>%\n",
    "  pivot_longer(cols = c(train, test)) %>%\n",
    "  group_by(K, name) %>%\n",
    "  summarize(mean = mean(value), q25 = quantile(value, .25), q75 = quantile(value, .75)) %>%\n",
    "  ungroup()\n",
    "plt_df %>% head()"
   ]
  },
  {
   "cell_type": "code",
   "execution_count": null,
   "id": "59",
   "metadata": {
    "lines_to_next_cell": 2,
    "vscode": {
     "languageId": "r"
    }
   },
   "outputs": [],
   "source": [
    "plt_df %>% ggplot(mapping = aes(x = K, y = mean, group = name, color = name, fill = name)) +\n",
    "  geom_point() +\n",
    "  geom_ribbon(mapping = aes(ymin = q25, ymax = q75), alpha = 0.25) +\n",
    "  scale_x_log10() +\n",
    "  scale_y_log10()"
   ]
  },
  {
   "cell_type": "code",
   "execution_count": null,
   "id": "60",
   "metadata": {
    "vscode": {
     "languageId": "r"
    }
   },
   "outputs": [],
   "source": [
    "plt_df %>%\n",
    "  filter(name == \"test\") %>%\n",
    "  filter(mean == min(mean))"
   ]
  },
  {
   "cell_type": "code",
   "execution_count": null,
   "id": "61",
   "metadata": {
    "lines_to_next_cell": 2,
    "vscode": {
     "languageId": "r"
    }
   },
   "outputs": [],
   "source": [
    "plt_df %>%\n",
    "  ggplot(mapping = aes(x = 1 / K, y = mean, group = name, color = name, fill = name)) +\n",
    "  geom_point() +\n",
    "  geom_ribbon(mapping = aes(ymin = q25, ymax = q75), alpha = 0.25) +\n",
    "  scale_x_log10() +\n",
    "  scale_y_log10()"
   ]
  },
  {
   "cell_type": "code",
   "execution_count": null,
   "id": "62",
   "metadata": {},
   "outputs": [],
   "source": [
    "K_hat <- plt_df %>%\n",
    "  filter(name == \"test\") %>%\n",
    "  filter(mean == min(mean)) %>%\n",
    "  pull(K)\n",
    "K_hat\n",
    "knn_mod <- knnreg(y ~ ., data = all_data, k = K_hat)\n",
    "plot(all_data$x, all_data$y)\n",
    "xe <- data.frame(x = sort(runif(1000, 0, 2 * pi)))\n",
    "lines(xe$x, f(xe$x), col = \"blue\", lwd = 5)\n",
    "lines(xe$x, predict(knn_mod, xe), col = \"red\", lwd = 5)"
   ]
  },
  {
   "cell_type": "markdown",
   "id": "63",
   "metadata": {},
   "source": [
    "# Nested x-validation"
   ]
  },
  {
   "cell_type": "code",
   "execution_count": null,
   "id": "64",
   "metadata": {
    "vscode": {
     "languageId": "r"
    }
   },
   "outputs": [],
   "source": [
    "# outer loop = split into test and trainval datasets\n",
    "# inner loop = split into train/val and search over k"
   ]
  },
  {
   "cell_type": "code",
   "execution_count": null,
   "id": "65",
   "metadata": {
    "vscode": {
     "languageId": "r"
    }
   },
   "outputs": [],
   "source": [
    "ncvsplt <- nested_cv(all_data, outside = vfold_cv(v = 10), inside = vfold_cv(v = 10))"
   ]
  },
  {
   "cell_type": "code",
   "execution_count": null,
   "id": "66",
   "metadata": {
    "vscode": {
     "languageId": "r"
    }
   },
   "outputs": [],
   "source": [
    "print(ncvsplt)"
   ]
  },
  {
   "cell_type": "code",
   "execution_count": null,
   "id": "67",
   "metadata": {
    "vscode": {
     "languageId": "r"
    }
   },
   "outputs": [],
   "source": [
    "ncvsplt$splits"
   ]
  },
  {
   "cell_type": "code",
   "execution_count": null,
   "id": "68",
   "metadata": {
    "vscode": {
     "languageId": "r"
    }
   },
   "outputs": [],
   "source": [
    "outer_splt <- ncvsplt$splits[[1]]\n",
    "training(outer_splt) %>% dim()\n",
    "testing(outer_splt) %>% dim()"
   ]
  },
  {
   "cell_type": "code",
   "execution_count": null,
   "id": "69",
   "metadata": {
    "vscode": {
     "languageId": "r"
    }
   },
   "outputs": [],
   "source": [
    "ncvsplt$inner_resamples[[1]]$splits"
   ]
  },
  {
   "cell_type": "code",
   "execution_count": null,
   "id": "70",
   "metadata": {
    "vscode": {
     "languageId": "r"
    }
   },
   "outputs": [],
   "source": [
    "inner_splt <- ncvsplt$inner_resamples[[3]]$splits[[1]]\n",
    "analysis(inner_splt) %>% dim()\n",
    "assessment(inner_splt) %>% dim()"
   ]
  },
  {
   "cell_type": "markdown",
   "id": "71",
   "metadata": {
    "vscode": {
     "languageId": "r"
    }
   },
   "source": [
    "Copy prev code and put in function called `build_mdl`"
   ]
  },
  {
   "cell_type": "code",
   "execution_count": null,
   "id": "72",
   "metadata": {
    "lines_to_next_cell": 2,
    "vscode": {
     "languageId": "r"
    }
   },
   "outputs": [],
   "source": [
    "build_mdl <- function(splt, K_seq = floor(seq(1, K_max, length.out = 50))) {\n",
    "  inner_eval <- function(splt, K = NULL) {\n",
    "    knn_mod <- knnreg(y ~ ., data = training(splt), k = K)\n",
    "\n",
    "    train_preds <- predict(knn_mod, training(splt))\n",
    "    MSE_train <- calc_metric(analysis(splt) %>% pull(y), train_preds)\n",
    "\n",
    "    val_preds <- predict(knn_mod, testing(splt))\n",
    "    MSE_val <- calc_metric(testing(splt) %>% pull(y), val_preds)\n",
    "\n",
    "    return(data.frame(\n",
    "      train = MSE_train,\n",
    "      val = MSE_val,\n",
    "      K = K\n",
    "    ))\n",
    "  }\n",
    "\n",
    "  tv_res <- map(K_seq, ~ inner_eval(splt, K = .x))\n",
    "  tv_tbl <- tv_res %>% bind_rows()\n",
    "  return(tv_tbl)\n",
    "}"
   ]
  },
  {
   "cell_type": "code",
   "execution_count": null,
   "id": "73",
   "metadata": {
    "vscode": {
     "languageId": "r"
    }
   },
   "outputs": [],
   "source": [
    "i <- 1\n",
    "inner_splits_i <- ncvsplt$inner_resamples[[i]]$splits\n",
    "outer_splt_i <- ncvsplt$splits[[i]]"
   ]
  },
  {
   "cell_type": "code",
   "execution_count": null,
   "id": "74",
   "metadata": {
    "vscode": {
     "languageId": "r"
    }
   },
   "outputs": [],
   "source": [
    "inner_eval_j <- map(seq_along(inner_splits_i), function(j) {\n",
    "  tmp <- build_mdl(inner_splits_i[[j]])\n",
    "  tmp$j <- j\n",
    "  return(tmp)\n",
    "})"
   ]
  },
  {
   "cell_type": "code",
   "execution_count": null,
   "id": "75",
   "metadata": {
    "vscode": {
     "languageId": "r"
    }
   },
   "outputs": [],
   "source": [
    "inner_eval <- inner_eval_j %>% bind_rows()\n",
    "inner_eval %>% sample_n(10)"
   ]
  },
  {
   "cell_type": "code",
   "execution_count": null,
   "id": "76",
   "metadata": {
    "lines_to_next_cell": 2,
    "vscode": {
     "languageId": "r"
    }
   },
   "outputs": [],
   "source": [
    "inner_smry <- inner_eval %>%\n",
    "  pivot_longer(cols = c(train, val)) %>%\n",
    "  group_by(K, name) %>%\n",
    "  summarize(mean = mean(value), q25 = quantile(value, .25), q75 = quantile(value, .75)) %>%\n",
    "  ungroup()\n",
    "inner_smry %>% sample_n(10)"
   ]
  },
  {
   "cell_type": "code",
   "execution_count": null,
   "id": "77",
   "metadata": {
    "lines_to_next_cell": 2,
    "vscode": {
     "languageId": "r"
    }
   },
   "outputs": [],
   "source": [
    "ggplot(data = inner_smry, mapping = aes(x = K, y = mean, fill = name, color = name, group = name)) +\n",
    "  geom_point() +\n",
    "  geom_ribbon(mapping = aes(ymin = q25, ymax = q75), alpha = .25) +\n",
    "  scale_y_log10() +\n",
    "  scale_x_log10()"
   ]
  },
  {
   "cell_type": "code",
   "execution_count": null,
   "id": "78",
   "metadata": {
    "vscode": {
     "languageId": "r"
    }
   },
   "outputs": [],
   "source": [
    "K_hat <- inner_smry %>%\n",
    "  filter(name == \"val\") %>%\n",
    "  filter(mean == min(mean)) %>%\n",
    "  pull(K)\n",
    "K_hat"
   ]
  },
  {
   "cell_type": "code",
   "execution_count": null,
   "id": "79",
   "metadata": {
    "vscode": {
     "languageId": "r"
    }
   },
   "outputs": [],
   "source": [
    "K_hat_mdl <- knnreg(y ~ ., data = training(outer_splt_i), k = K_hat)\n",
    "test_preds <- predict(K_hat_mdl, testing(outer_splt_i))\n",
    "MSE_test <- calc_metric(testing(outer_splt_i) %>% pull(y), test_preds)\n",
    "MSE_test"
   ]
  },
  {
   "cell_type": "code",
   "execution_count": null,
   "id": "80",
   "metadata": {
    "vscode": {
     "languageId": "r"
    }
   },
   "outputs": [],
   "source": [
    "super_preds <- predict(K_hat_mdl, super_test)\n",
    "MSE_super <- calc_metric(super_test %>% pull(y), super_preds)\n",
    "MSE_super"
   ]
  },
  {
   "cell_type": "markdown",
   "id": "81",
   "metadata": {
    "vscode": {
     "languageId": "r"
    }
   },
   "source": [
    "Ok, now we wrap this all up in a function"
   ]
  },
  {
   "cell_type": "code",
   "execution_count": null,
   "id": "82",
   "metadata": {
    "lines_to_next_cell": 2,
    "vscode": {
     "languageId": "r"
    }
   },
   "outputs": [],
   "source": [
    "outer_eval <- function(i) {\n",
    "  outer_splt_i <- ncvsplt$splits[[i]]\n",
    "  inner_splits_i <- ncvsplt$inner_resamples[[i]]$splits\n",
    "\n",
    "  # my model building procedure\n",
    "  inner_eval_j <- map(seq_along(inner_splits_i), function(j) {\n",
    "    tmp <- build_mdl(inner_splits_i[[j]])\n",
    "    tmp$j <- j\n",
    "    return(tmp)\n",
    "  })\n",
    "\n",
    "  inner_eval <- inner_eval_j %>% bind_rows()\n",
    "\n",
    "  inner_smry <- inner_eval %>%\n",
    "    pivot_longer(cols = c(train, val)) %>%\n",
    "    group_by(K, name) %>%\n",
    "    summarize(mean = mean(value), q25 = quantile(value, .25), q75 = quantile(value, .75)) %>%\n",
    "    ungroup()\n",
    "\n",
    "  K_hat <- inner_smry %>%\n",
    "    filter(name == \"val\") %>%\n",
    "    filter(mean == min(mean)) %>%\n",
    "    pull(K)\n",
    "\n",
    "  inner_val <- inner_smry %>%\n",
    "    filter(name == \"val\") %>%\n",
    "    filter(K == K_hat) %>%\n",
    "    pull(mean)\n",
    "\n",
    "  inner_train <- inner_smry %>%\n",
    "    filter(name == \"train\") %>%\n",
    "    filter(K == K_hat) %>%\n",
    "    pull(mean)\n",
    "\n",
    "\n",
    "  K_hat_mdl <- knnreg(y ~ ., data = training(outer_splt_i), k = K_hat)\n",
    "  # end my model building procedure\n",
    "\n",
    "  test_preds <- predict(K_hat_mdl, testing(outer_splt_i))\n",
    "  MSE_test <- calc_metric(testing(outer_splt_i) %>% pull(y), test_preds)\n",
    "\n",
    "  super_preds <- predict(K_hat_mdl, super_test)\n",
    "  MSE_super <- calc_metric(super_test %>% pull(y), super_preds)\n",
    "  MSE_super\n",
    "\n",
    "  return(tibble(test = MSE_test, val = inner_val, train = inner_train, super = MSE_super, K_hat = K_hat))\n",
    "}"
   ]
  },
  {
   "cell_type": "code",
   "execution_count": null,
   "id": "83",
   "metadata": {
    "vscode": {
     "languageId": "r"
    }
   },
   "outputs": [],
   "source": [
    "outer_eval <- map(seq_along(ncvsplt$splits), outer_eval)"
   ]
  },
  {
   "cell_type": "code",
   "execution_count": null,
   "id": "84",
   "metadata": {
    "vscode": {
     "languageId": "r"
    }
   },
   "outputs": [],
   "source": [
    "outer_df <- outer_eval %>% bind_rows()\n",
    "outer_df$fold <- 1:nrow(outer_df)\n",
    "outer_df"
   ]
  },
  {
   "cell_type": "code",
   "execution_count": null,
   "id": "85",
   "metadata": {
    "vscode": {
     "languageId": "r"
    }
   },
   "outputs": [],
   "source": [
    "outer_longer <- outer_df %>% pivot_longer(cols = c(test, val, train, super))\n",
    "outer_longer"
   ]
  },
  {
   "cell_type": "code",
   "execution_count": null,
   "id": "86",
   "metadata": {
    "vscode": {
     "languageId": "r"
    }
   },
   "outputs": [],
   "source": [
    "ggplot(data = outer_longer, mapping = aes(x = fold, y = value, color = name, shape = name)) +\n",
    "  geom_point(size = 5)"
   ]
  },
  {
   "cell_type": "code",
   "execution_count": null,
   "id": "87",
   "metadata": {
    "vscode": {
     "languageId": "r"
    }
   },
   "outputs": [],
   "source": [
    "outer_longer %>% head()"
   ]
  },
  {
   "cell_type": "code",
   "execution_count": null,
   "id": "88",
   "metadata": {
    "vscode": {
     "languageId": "r"
    }
   },
   "outputs": [],
   "source": [
    "outer_longer %>%\n",
    "  group_by(name) %>%\n",
    "  summarize(mean = mean(value), sd = sd(value))"
   ]
  }
 ],
 "metadata": {
  "jupytext": {
   "formats": "ipynb,Rmd,R:percent"
  },
  "kernelspec": {
   "display_name": "R",
   "language": "R",
   "name": "ir"
  },
  "language_info": {
   "codemirror_mode": "r",
   "file_extension": ".r",
   "mimetype": "text/x-r-source",
   "name": "R",
   "pygments_lexer": "r",
   "version": "4.4.1"
  }
 },
 "nbformat": 4,
 "nbformat_minor": 5
}
