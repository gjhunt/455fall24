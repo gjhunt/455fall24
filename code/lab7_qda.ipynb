{
 "cells": [
  {
   "cell_type": "code",
   "execution_count": null,
   "metadata": {},
   "outputs": [],
   "source": [
    "library('ggplot2')\n",
    "library('reshape2')"
   ]
  },
  {
   "cell_type": "code",
   "execution_count": null,
   "metadata": {},
   "outputs": [],
   "source": [
    "sig2s = c(2,5,10)\n",
    "mus = c(1,5,20)\n",
    "N = 100"
   ]
  },
  {
   "cell_type": "code",
   "execution_count": null,
   "metadata": {},
   "outputs": [],
   "source": [
    "Ns = rep(N,3)\n",
    "Ns"
   ]
  },
  {
   "cell_type": "code",
   "execution_count": null,
   "metadata": {},
   "outputs": [],
   "source": [
    "g1 <- data.frame(group=1,x = rnorm(Ns[1],mus[1],sig2s[1]))\n",
    "g2 <- data.frame(group=2,x = rnorm(Ns[2],mus[2],sig2s[2]))\n",
    "g3 <- data.frame(group=3,x = rnorm(Ns[3],mus[3],sig2s[3]))\n",
    "d = rbind(g1,g2,g3)\n",
    "d$group <- as.factor(d$group)\n",
    "d = d[sample(nrow(d)),]"
   ]
  },
  {
   "cell_type": "code",
   "execution_count": null,
   "metadata": {},
   "outputs": [],
   "source": [
    "head(d)"
   ]
  },
  {
   "cell_type": "code",
   "execution_count": null,
   "metadata": {},
   "outputs": [],
   "source": [
    "ggplot(data=d,mapping=aes(x=x,color=group,group=group))+\n",
    "    geom_density()+\n",
    "    geom_point(mapping=aes(x=x,y=0))"
   ]
  },
  {
   "cell_type": "code",
   "execution_count": null,
   "metadata": {},
   "outputs": [],
   "source": [
    "class=1\n",
    "  \n",
    "subd = d[d$group==class,]\n",
    "head(subd)"
   ]
  },
  {
   "cell_type": "code",
   "execution_count": null,
   "metadata": {},
   "outputs": [],
   "source": [
    "# mu1_hat\n",
    "muhat = mean(subd$x)\n",
    "muhat"
   ]
  },
  {
   "cell_type": "code",
   "execution_count": null,
   "metadata": {},
   "outputs": [],
   "source": [
    "# pi_hat\n",
    "pi_hat = mean(d$group==class)\n",
    "pi_hat"
   ]
  },
  {
   "cell_type": "code",
   "execution_count": null,
   "metadata": {},
   "outputs": [],
   "source": [
    "var_hat = var(subd$x)\n",
    "var_hat"
   ]
  },
  {
   "cell_type": "code",
   "execution_count": null,
   "metadata": {},
   "outputs": [],
   "source": [
    "x0 = 1"
   ]
  },
  {
   "cell_type": "code",
   "execution_count": null,
   "metadata": {},
   "outputs": [],
   "source": [
    "dnorm(x0,mean=muhat,sd=sqrt(var_hat))*pi_hat"
   ]
  },
  {
   "cell_type": "code",
   "execution_count": null,
   "metadata": {},
   "outputs": [],
   "source": [
    "delta_qda_c = function(x0,class){\n",
    "    subd = d[d$group==class,]\n",
    "    muhat = mean(subd$x)\n",
    "    pi_hat = mean(d$group==class)\n",
    "    var_hat = var(subd$x)\n",
    "    dlta = dnorm(x0,mean=muhat,sd=sqrt(var_hat))*pi_hat\n",
    "    return(dlta)\n",
    "}"
   ]
  },
  {
   "cell_type": "code",
   "execution_count": null,
   "metadata": {},
   "outputs": [],
   "source": [
    "qda_pred = function(x0){\n",
    "    deltas = sapply(1:3,function(c)delta_qda_c(x0,c))\n",
    "    return(which.max(deltas))\n",
    "}"
   ]
  },
  {
   "cell_type": "code",
   "execution_count": null,
   "metadata": {},
   "outputs": [],
   "source": [
    "qda_pred(x0=1)"
   ]
  },
  {
   "cell_type": "code",
   "execution_count": null,
   "metadata": {},
   "outputs": [],
   "source": [
    "qda_pred(x0=7)"
   ]
  },
  {
   "cell_type": "code",
   "execution_count": null,
   "metadata": {},
   "outputs": [],
   "source": [
    "qda_pred(x0=20)"
   ]
  },
  {
   "cell_type": "code",
   "execution_count": null,
   "metadata": {},
   "outputs": [],
   "source": [
    "x_seq = seq(-10,25,length.out=500)"
   ]
  },
  {
   "cell_type": "code",
   "execution_count": null,
   "metadata": {},
   "outputs": [],
   "source": [
    "df = data.frame(x=x_seq,y_pred = sapply(x_seq,qda_pred))\n",
    "df$y_pred = factor(df$y_pred)\n",
    "df$c1 = sapply(x_seq,delta_qda_c,class=1)\n",
    "df$c2 = sapply(x_seq,delta_qda_c,class=2)\n",
    "df$c3 = sapply(x_seq,delta_qda_c,class=3)\n",
    "head(df)"
   ]
  },
  {
   "cell_type": "code",
   "execution_count": null,
   "metadata": {},
   "outputs": [],
   "source": [
    "mdf = melt(df,id.vars=c('x','y_pred'))\n",
    "head(mdf)"
   ]
  },
  {
   "cell_type": "code",
   "execution_count": null,
   "metadata": {},
   "outputs": [],
   "source": [
    "levels(mdf$variable) = c(1,2,3)"
   ]
  },
  {
   "cell_type": "code",
   "execution_count": null,
   "metadata": {},
   "outputs": [],
   "source": [
    "ggplot(data=d,mapping=aes(x=x,color=group,group=group))+\n",
    "    geom_density()+\n",
    "    geom_point(mapping=aes(x=x,y=0))"
   ]
  },
  {
   "cell_type": "code",
   "execution_count": null,
   "metadata": {},
   "outputs": [],
   "source": [
    "ggplot(data=mdf,mapping=aes(x=x,y=0,color=y_pred,group=y_pred))+\n",
    "    geom_point()+\n",
    "    geom_line(mapping=aes(x=x,y=value,group=variable,color=variable),inherit.aes=FALSE)"
   ]
  },
  {
   "cell_type": "code",
   "execution_count": null,
   "metadata": {},
   "outputs": [],
   "source": [
    "library('MASS')\n",
    "?qda"
   ]
  },
  {
   "cell_type": "code",
   "execution_count": null,
   "metadata": {},
   "outputs": [],
   "source": [
    "my_preds = sapply(d$x,qda_pred)\n",
    "my_preds"
   ]
  },
  {
   "cell_type": "code",
   "execution_count": null,
   "metadata": {},
   "outputs": [],
   "source": [
    "mod = qda(group~.,data=d)"
   ]
  },
  {
   "cell_type": "code",
   "execution_count": null,
   "metadata": {},
   "outputs": [],
   "source": [
    "mod"
   ]
  },
  {
   "cell_type": "code",
   "execution_count": null,
   "metadata": {},
   "outputs": [],
   "source": [
    "muhat"
   ]
  },
  {
   "cell_type": "code",
   "execution_count": null,
   "metadata": {},
   "outputs": [],
   "source": [
    "pi_hat"
   ]
  },
  {
   "cell_type": "code",
   "execution_count": null,
   "metadata": {},
   "outputs": [],
   "source": [
    "mod_preds = predict(mod)$class\n",
    "mod_preds"
   ]
  },
  {
   "cell_type": "code",
   "execution_count": null,
   "metadata": {},
   "outputs": [],
   "source": [
    "all(mod_preds == my_preds)"
   ]
  },
  {
   "cell_type": "code",
   "execution_count": null,
   "metadata": {},
   "outputs": [],
   "source": [
    "head(predict(mod)$posterior)"
   ]
  },
  {
   "cell_type": "code",
   "execution_count": null,
   "metadata": {},
   "outputs": [],
   "source": [
    "mod_df = cbind(x_seq,predict(mod,newdata=data.frame(x=x_seq))$posterior)\n",
    "colnames(mod_df)[1] = c('x')\n",
    "mod_df = data.frame(mod_df)\n",
    "mmod_df = melt(mod_df,id.vars='x')\n",
    "levels(mmod_df$variable) = 1:3\n",
    "head(mmod_df)"
   ]
  },
  {
   "cell_type": "code",
   "execution_count": null,
   "metadata": {},
   "outputs": [],
   "source": [
    "ggplot(data=mdf,mapping=aes(x=x,y=0,color=y_pred,group=y_pred))+\n",
    "    geom_point()+\n",
    "    #geom_line(mapping=aes(x=x,y=value,group=variable,color=variable),inherit.aes=FALSE)+\n",
    "    geom_line(mapping=aes(x=x,y=value,group=variable,color=variable),inherit.aes=FALSE,data=mmod_df)"
   ]
  },
  {
   "cell_type": "code",
   "execution_count": null,
   "metadata": {},
   "outputs": [],
   "source": [
    "head(df)"
   ]
  },
  {
   "cell_type": "code",
   "execution_count": null,
   "metadata": {},
   "outputs": [],
   "source": [
    "df[,3:5] = df[,3:5]/rowSums(df[,3:5])"
   ]
  },
  {
   "cell_type": "code",
   "execution_count": null,
   "metadata": {},
   "outputs": [],
   "source": [
    "mdf = melt(df,id.vars=c('x','y_pred'))"
   ]
  },
  {
   "cell_type": "code",
   "execution_count": null,
   "metadata": {},
   "outputs": [],
   "source": [
    "levels(mdf$variable) = c(1,2,3)"
   ]
  },
  {
   "cell_type": "code",
   "execution_count": null,
   "metadata": {},
   "outputs": [],
   "source": [
    "ggplot(data=mdf,mapping=aes(x=x,y=0,color=y_pred,group=y_pred))+\n",
    "    geom_point()+\n",
    "    geom_line(mapping=aes(x=x,y=value,group=variable,color=variable),inherit.aes=FALSE)\n",
    "    geom_line(mapping=aes(x=x,y=value,group=variable,color=variable),inherit.aes=FALSE,data=mmod_df)"
   ]
  },
  {
   "cell_type": "code",
   "execution_count": null,
   "metadata": {},
   "outputs": [],
   "source": [
    "delta_qda_c2 = function(x0,class){\n",
    "    subd = d[d$group==class,]\n",
    "    muhat = mean(subd$x)\n",
    "    pi_hat = mean(d$group==class)\n",
    "    var_hat = var(subd$x)\n",
    "    dlta = -1/2*log(var_hat) - \n",
    "        (x0-muhat)^2/(2*var_hat) +log(pi_hat)\n",
    "    return(dlta)\n",
    "}\n",
    "qda_pred2 = function(x0){\n",
    "    deltas = sapply(1:3,function(c)delta_qda_c2(x0,c))\n",
    "    return(which.max(deltas))\n",
    "}"
   ]
  },
  {
   "cell_type": "code",
   "execution_count": null,
   "metadata": {},
   "outputs": [],
   "source": [
    "df = data.frame(x=x_seq,y_pred = sapply(x_seq,qda_pred2))\n",
    "df$y_pred = factor(df$y_pred)\n",
    "df$c1 = sapply(x_seq,delta_qda_c2,class=1)\n",
    "df$c2 = sapply(x_seq,delta_qda_c2,class=2)\n",
    "df$c3 = sapply(x_seq,delta_qda_c2,class=3)\n",
    "\n",
    "mdf = melt(df,id.vars=c('x','y_pred'))\n",
    "levels(mdf$variable) = c(1,2,3)\n",
    "\n",
    "ggplot(data=mdf,mapping=aes(x=x,y=0,color=y_pred,group=y_pred))+\n",
    "    geom_point(shape=1,size=1/10)+\n",
    "    geom_line(mapping=aes(x=x,y=value,group=variable,color=variable),lwd=2)"
   ]
  },
  {
   "cell_type": "markdown",
   "metadata": {},
   "source": [
    "# for $p>1$"
   ]
  },
  {
   "cell_type": "code",
   "execution_count": null,
   "metadata": {},
   "outputs": [],
   "source": [
    "library('palmerpenguins')\n",
    "penguins = penguins[complete.cases(penguins),]\n",
    "head(penguins)"
   ]
  },
  {
   "cell_type": "code",
   "execution_count": null,
   "metadata": {},
   "outputs": [],
   "source": [
    "d = penguins[,c('bill_length_mm','bill_depth_mm','species')]\n",
    "head(d)"
   ]
  },
  {
   "cell_type": "code",
   "execution_count": null,
   "metadata": {},
   "outputs": [],
   "source": [
    "plot_fit = function(v1,v2,df=penguins,N=floor(sqrt(10000)),scaleit=FALSE,fmla='species~.'){\n",
    "    train_df = df[,c('species',v1,v2)]\n",
    "    if(scaleit)\n",
    "        train_df[,c(v1,v2)] = scale(train_df[,c(v1,v2)])\n",
    "    \n",
    "    #mod = knn3(species~.,data=train_df,k=k)\n",
    "    #mod = lda(formula=as.formula(fmla),data=train_df)\n",
    "    mod = qda(formula=as.formula(fmla),data=train_df)\n",
    "    \n",
    "    r1 = range(train_df[[v1]])\n",
    "    r2 = range(train_df[[v2]])\n",
    "    \n",
    "    s1 = seq(r1[1],r1[2],length.out=N)\n",
    "    s2 = seq(r2[1],r2[2],length.out=N)\n",
    "    \n",
    "    p_df = expand.grid(v1=s1,v2=s2)\n",
    "    colnames(p_df) = c(v1,v2)\n",
    "    preds = predict(mod,newdata=p_df)$class\n",
    "    p_df$species = preds\n",
    "    \n",
    "    ggplot(data=p_df,mapping=aes_string(x=v1,y=v2,fill='species',shape='species'))+geom_tile()+\n",
    "        geom_point(data=train_df,size=5)\n",
    "}"
   ]
  },
  {
   "cell_type": "code",
   "execution_count": null,
   "metadata": {},
   "outputs": [],
   "source": [
    "plot_fit(v1='bill_length_mm',v2='bill_depth_mm',df=penguins)"
   ]
  },
  {
   "cell_type": "code",
   "execution_count": null,
   "metadata": {},
   "outputs": [],
   "source": [
    "plot_fit(v1='flipper_length_mm',v2='bill_depth_mm',df=penguins)"
   ]
  },
  {
   "cell_type": "code",
   "execution_count": null,
   "metadata": {},
   "outputs": [],
   "source": [
    "plot_fit(v1='bill_length_mm',v2='bill_depth_mm',df=penguins,\n",
    "             fmla='species~I(bill_length_mm^2)+I(bill_depth_mm^3)+I(bill_depth_mm^2)')"
   ]
  },
  {
   "cell_type": "markdown",
   "metadata": {},
   "source": [
    "intercept?"
   ]
  },
  {
   "cell_type": "code",
   "execution_count": null,
   "metadata": {},
   "outputs": [],
   "source": [
    "model.matrix(mod)"
   ]
  },
  {
   "cell_type": "markdown",
   "metadata": {},
   "source": [
    "[source code for lda](https://github.com/cran/MASS/blob/master/R/lda.R) see line 29"
   ]
  }
 ],
 "metadata": {
  "kernelspec": {
   "display_name": "R",
   "language": "R",
   "name": "ir"
  },
  "language_info": {
   "codemirror_mode": "r",
   "file_extension": ".r",
   "mimetype": "text/x-r-source",
   "name": "R",
   "pygments_lexer": "r",
   "version": "4.3.1"
  }
 },
 "nbformat": 4,
 "nbformat_minor": 4
}
