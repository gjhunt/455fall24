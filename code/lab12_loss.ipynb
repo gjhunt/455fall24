{
 "cells": [
  {
   "cell_type": "markdown",
   "id": "0",
   "metadata": {},
   "source": [
    "# ridge regression"
   ]
  },
  {
   "cell_type": "code",
   "execution_count": null,
   "id": "1",
   "metadata": {},
   "outputs": [],
   "source": [
    "N = 100\n",
    "P = 2\n",
    "X = array(rnorm(N*P),c(N,P))"
   ]
  },
  {
   "cell_type": "code",
   "execution_count": null,
   "id": "2",
   "metadata": {},
   "outputs": [],
   "source": [
    "beta_true = array(c(1/2,3/4),c(2,1))"
   ]
  },
  {
   "cell_type": "code",
   "execution_count": null,
   "id": "3",
   "metadata": {},
   "outputs": [],
   "source": [
    "y = X%*%beta_true + rnorm(N,0,0.1)"
   ]
  },
  {
   "cell_type": "code",
   "execution_count": null,
   "id": "4",
   "metadata": {},
   "outputs": [],
   "source": [
    "plot(X%*%beta_true,y)"
   ]
  },
  {
   "cell_type": "code",
   "execution_count": null,
   "id": "5",
   "metadata": {},
   "outputs": [],
   "source": [
    "L = function(beta){\n",
    "    return(sum((y-X%*%beta)^2))\n",
    "}"
   ]
  },
  {
   "cell_type": "code",
   "execution_count": null,
   "id": "6",
   "metadata": {},
   "outputs": [],
   "source": [
    "constr = function(beta){\n",
    "    return(sum(beta^2))\n",
    "}"
   ]
  },
  {
   "cell_type": "code",
   "execution_count": null,
   "id": "7",
   "metadata": {},
   "outputs": [],
   "source": [
    "beta_seq = seq(-1,1,length.out=100)\n",
    "beta_df = expand.grid(b1=beta_seq,b2=beta_seq)"
   ]
  },
  {
   "cell_type": "code",
   "execution_count": null,
   "id": "8",
   "metadata": {},
   "outputs": [],
   "source": [
    "beta_df$L = apply(beta_df[,1:2],1,function(b)L(b))\n",
    "beta_df$penalty = apply(beta_df[,1:2],1,function(b)constr(b))"
   ]
  },
  {
   "cell_type": "code",
   "execution_count": null,
   "id": "9",
   "metadata": {},
   "outputs": [],
   "source": [
    "library('ggplot2')\n",
    "library('viridis')"
   ]
  },
  {
   "cell_type": "code",
   "execution_count": null,
   "id": "10",
   "metadata": {},
   "outputs": [],
   "source": [
    "ggplot(data=beta_df,mapping=aes(x=b1,y=b2,fill=L,z=sqrt(L)))+\n",
    "    geom_tile()+\n",
    "    scale_fill_viridis()+\n",
    "    geom_contour(color='white')+\n",
    "    geom_contour(mapping=aes(x=b1,y=b2,z=sqrt(penalty)),color='red',inherit.aes=FALSE)+\n",
    "    coord_fixed()"
   ]
  },
  {
   "cell_type": "markdown",
   "id": "11",
   "metadata": {},
   "source": [
    "## lasso"
   ]
  },
  {
   "cell_type": "code",
   "execution_count": null,
   "id": "12",
   "metadata": {},
   "outputs": [],
   "source": [
    "constr = function(beta){\n",
    "    return(sum(abs(beta)))\n",
    "}"
   ]
  },
  {
   "cell_type": "code",
   "execution_count": null,
   "id": "13",
   "metadata": {},
   "outputs": [],
   "source": [
    "beta_df = expand.grid(b1=beta_seq,b2=beta_seq)\n",
    "beta_df$L = apply(beta_df[,1:2],1,function(b)L(b))\n",
    "beta_df$penalty = apply(beta_df[,1:2],1,function(b)constr(b))\n",
    "\n",
    "ggplot(data=beta_df,mapping=aes(x=b1,y=b2,fill=L,z=sqrt(L)))+\n",
    "    geom_tile()+\n",
    "    scale_fill_viridis()+\n",
    "    geom_contour(color='white')+\n",
    "    geom_contour(mapping=aes(x=b1,y=b2,z=sqrt(penalty)),color='red',inherit.aes=FALSE)+\n",
    "    coord_fixed()"
   ]
  },
  {
   "cell_type": "markdown",
   "id": "14",
   "metadata": {},
   "source": [
    "# logistic regression"
   ]
  },
  {
   "cell_type": "code",
   "execution_count": null,
   "id": "15",
   "metadata": {},
   "outputs": [],
   "source": [
    "beta_true = array(c(5,6),c(2,1))"
   ]
  },
  {
   "cell_type": "code",
   "execution_count": null,
   "id": "16",
   "metadata": {},
   "outputs": [],
   "source": [
    "p = 1/(1+exp(-X%*%beta_true))\n",
    "plot(X%*%beta_true,p)"
   ]
  },
  {
   "cell_type": "code",
   "execution_count": null,
   "id": "17",
   "metadata": {},
   "outputs": [],
   "source": [
    "y = sapply(p,function(pp)rbinom(1,1,pp))\n",
    "plot(X%*%beta_true,y)"
   ]
  },
  {
   "cell_type": "code",
   "execution_count": null,
   "id": "18",
   "metadata": {},
   "outputs": [],
   "source": [
    "L = function(beta){\n",
    "    ps = 1/(1+exp(-X%*%beta))\n",
    "    nlls = sapply(1:length(ps),function(i)-dbinom(y[i],1,ps[i],log=TRUE))\n",
    "    return(sum(nlls))\n",
    "}"
   ]
  },
  {
   "cell_type": "code",
   "execution_count": null,
   "id": "19",
   "metadata": {},
   "outputs": [],
   "source": [
    "beta_seq = seq(-10,10,length.out=100)\n",
    "beta_df = expand.grid(b1=beta_seq,b2=beta_seq)\n",
    "beta_df$L = apply(beta_df[,1:2],1,function(b)L(b))\n",
    "beta_df$penalty = apply(beta_df[,1:2],1,function(b)constr(b))\n",
    "\n",
    "ggplot(data=beta_df,mapping=aes(x=b1,y=b2,fill=log10(L),z=log10(L)))+\n",
    "    geom_tile()+\n",
    "    scale_fill_viridis()+\n",
    "    geom_contour(color='white')+\n",
    "    coord_fixed()"
   ]
  },
  {
   "cell_type": "code",
   "execution_count": null,
   "id": "20",
   "metadata": {},
   "outputs": [],
   "source": [
    "constr = function(beta){\n",
    "    return(sum(abs(beta)^2))\n",
    "}\n",
    "\n",
    "beta_seq = seq(-10,10,length.out=100)\n",
    "beta_df = expand.grid(b1=beta_seq,b2=beta_seq)\n",
    "beta_df$L = apply(beta_df[,1:2],1,function(b)L(b))\n",
    "beta_df$penalty = apply(beta_df[,1:2],1,function(b)constr(b))\n",
    "\n",
    "ggplot(data=beta_df,mapping=aes(x=b1,y=b2,fill=log10(L),z=log10(L)))+\n",
    "    geom_tile()+\n",
    "    scale_fill_viridis()+\n",
    "    geom_contour(color='white')+\n",
    "    geom_contour(mapping=aes(x=b1,y=b2,z=sqrt(penalty)),color='red',inherit.aes=FALSE)+\n",
    "    coord_fixed()"
   ]
  },
  {
   "cell_type": "code",
   "execution_count": null,
   "id": "21",
   "metadata": {},
   "outputs": [],
   "source": [
    "constr = function(beta){\n",
    "    return(sum(abs(beta)))\n",
    "}\n",
    "\n",
    "beta_seq = seq(-10,10,length.out=100)\n",
    "beta_df = expand.grid(b1=beta_seq,b2=beta_seq)\n",
    "beta_df$L = apply(beta_df[,1:2],1,function(b)L(b))\n",
    "beta_df$penalty = apply(beta_df[,1:2],1,function(b)constr(b))\n",
    "\n",
    "ggplot(data=beta_df,mapping=aes(x=b1,y=b2,fill=log10(L),z=log10(L)))+\n",
    "    geom_tile()+\n",
    "    scale_fill_viridis()+\n",
    "    geom_contour(color='white')+\n",
    "    geom_contour(mapping=aes(x=b1,y=b2,z=sqrt(penalty)),color='red',inherit.aes=FALSE)+\n",
    "    coord_fixed()"
   ]
  },
  {
   "cell_type": "code",
   "execution_count": null,
   "id": "22",
   "metadata": {},
   "outputs": [],
   "source": []
  }
 ],
 "metadata": {
  "kernelspec": {
   "display_name": "R",
   "language": "R",
   "name": "ir"
  },
  "language_info": {
   "codemirror_mode": "r",
   "file_extension": ".r",
   "mimetype": "text/x-r-source",
   "name": "R",
   "pygments_lexer": "r",
   "version": "4.0.3"
  }
 },
 "nbformat": 4,
 "nbformat_minor": 5
}
