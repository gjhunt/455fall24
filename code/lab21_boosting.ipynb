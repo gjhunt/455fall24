{
 "cells": [
  {
   "cell_type": "code",
   "execution_count": null,
   "metadata": {},
   "outputs": [],
   "source": [
    "library('bayesreg')\n",
    "data(spambase)\n",
    "colnames(spambase)[50:55] <- paste0('char.freq.',c('semic','paren','bracket','exclaim','dollar','pound'))"
   ]
  },
  {
   "cell_type": "code",
   "execution_count": null,
   "metadata": {},
   "outputs": [],
   "source": [
    "spambase[1:5,1:5]"
   ]
  },
  {
   "cell_type": "code",
   "execution_count": null,
   "metadata": {},
   "outputs": [],
   "source": [
    "library('gbm')"
   ]
  },
  {
   "cell_type": "code",
   "execution_count": null,
   "metadata": {},
   "outputs": [],
   "source": [
    "?gbm"
   ]
  },
  {
   "cell_type": "code",
   "execution_count": null,
   "metadata": {},
   "outputs": [],
   "source": [
    "dim(spambase)"
   ]
  },
  {
   "cell_type": "code",
   "execution_count": null,
   "metadata": {},
   "outputs": [],
   "source": [
    "train_ss = sample(1:nrow(spambase),floor(nrow(spambase)/2))"
   ]
  },
  {
   "cell_type": "code",
   "execution_count": null,
   "metadata": {},
   "outputs": [],
   "source": [
    "head(train_ss)"
   ]
  },
  {
   "cell_type": "code",
   "execution_count": null,
   "metadata": {},
   "outputs": [],
   "source": [
    "train = spambase[train_ss,]\n",
    "validate = spambase[-train_ss,]"
   ]
  },
  {
   "cell_type": "code",
   "execution_count": null,
   "metadata": {},
   "outputs": [],
   "source": [
    "dim(train)\n",
    "dim(validate)"
   ]
  },
  {
   "cell_type": "code",
   "execution_count": null,
   "metadata": {},
   "outputs": [],
   "source": [
    "mod = gbm(is.spam~.,data=train,distribution=\"adaboost\",\n",
    "          n.trees=100,\n",
    "          shrinkage=0.1,interaction.depth=1,verbose=TRUE)"
   ]
  },
  {
   "cell_type": "code",
   "execution_count": null,
   "metadata": {},
   "outputs": [],
   "source": [
    "summary(mod)"
   ]
  },
  {
   "cell_type": "code",
   "execution_count": null,
   "metadata": {},
   "outputs": [],
   "source": [
    "class(head(spambase$is.spam))"
   ]
  },
  {
   "cell_type": "code",
   "execution_count": null,
   "metadata": {},
   "outputs": [],
   "source": [
    "hist(predict(mod,n.tree=100,type=\"response\"))"
   ]
  },
  {
   "cell_type": "code",
   "execution_count": null,
   "metadata": {},
   "outputs": [],
   "source": [
    "preds = (predict(mod,n.tree=100,type=\"response\")>.5)*1\n",
    "head(preds)"
   ]
  },
  {
   "cell_type": "code",
   "execution_count": null,
   "metadata": {},
   "outputs": [],
   "source": [
    "table(preds,train$is.spam)"
   ]
  },
  {
   "cell_type": "code",
   "execution_count": null,
   "metadata": {},
   "outputs": [],
   "source": [
    "nseq = 1:100\n",
    "pred_mtx = (predict(mod,n.tree=nseq,type=\"response\")>.5)*1\n",
    "head(pred_mtx)\n",
    "dim(pred_mtx)"
   ]
  },
  {
   "cell_type": "code",
   "execution_count": null,
   "metadata": {},
   "outputs": [],
   "source": [
    "err = sapply(nseq,function(i)mean(pred_mtx[,i]!=train$is.spam))"
   ]
  },
  {
   "cell_type": "code",
   "execution_count": null,
   "metadata": {},
   "outputs": [],
   "source": [
    "head(err)"
   ]
  },
  {
   "cell_type": "code",
   "execution_count": null,
   "metadata": {},
   "outputs": [],
   "source": [
    "plot(nseq,err,type='b')"
   ]
  },
  {
   "cell_type": "code",
   "execution_count": null,
   "metadata": {},
   "outputs": [],
   "source": [
    "nseq = 1:500\n",
    "mod = gbm(is.spam~.,data=train,distribution=\"adaboost\",n.trees=max(nseq),\n",
    "          shrinkage=.1,interaction.depth=1)\n",
    "\n",
    "train_pred_mtx = (predict(mod,n.tree=nseq,type=\"response\")>.5)*1\n",
    "train_err = sapply(nseq,function(i)mean(train_pred_mtx[,i]!=train$is.spam))\n",
    "test_pred_mtx = (predict(mod,validate,n.tree=nseq,type=\"response\")>.5)*1\n",
    "test_err = sapply(nseq,function(i)mean(test_pred_mtx[,i]!=validate$is.spam))\n",
    "plot(nseq,train_err,type='b')           \n",
    "abline(v=which.min(train_err))\n",
    "points(nseq,test_err,type='b',col='red')\n",
    "abline(v=which.min(test_err),col='red')"
   ]
  },
  {
   "cell_type": "code",
   "execution_count": null,
   "metadata": {},
   "outputs": [],
   "source": [
    "nseq = 1:1000\n",
    "mod = gbm(is.spam~.,data=train,distribution=\"bernoulli\",n.trees=max(nseq),\n",
    "          shrinkage=.5,interaction.depth=2)\n",
    "\n",
    "train_pred_mtx = (predict(mod,n.tree=nseq,type=\"response\")>.5)*1\n",
    "train_err = sapply(nseq,function(i)mean(train_pred_mtx[,i]!=train$is.spam))\n",
    "test_pred_mtx = (predict(mod,validate,n.tree=nseq,type=\"response\")>.5)*1\n",
    "test_err = sapply(nseq,function(i)mean(test_pred_mtx[,i]!=validate$is.spam))\n",
    "plot(nseq,train_err,type='b')           \n",
    "abline(v=which.min(train_err))\n",
    "points(nseq,test_err,type='b',col='red')\n",
    "abline(v=which.min(test_err),col='red')"
   ]
  },
  {
   "cell_type": "code",
   "execution_count": null,
   "metadata": {},
   "outputs": [],
   "source": [
    "nseq = 1:1000\n",
    "mod = gbm(is.spam~.,data=train,distribution=\"bernoulli\",n.trees=max(nseq),\n",
    "          shrinkage=.1,interaction.depth=2)\n",
    "\n",
    "train_pred_mtx = (predict(mod,n.tree=nseq,type=\"response\")>.5)*1\n",
    "train_err = sapply(nseq,function(i)mean(train_pred_mtx[,i]!=train$is.spam))\n",
    "test_pred_mtx = (predict(mod,validate,n.tree=nseq,type=\"response\")>.5)*1\n",
    "test_err = sapply(nseq,function(i)mean(test_pred_mtx[,i]!=validate$is.spam))\n",
    "plot(nseq,train_err,type='b')           \n",
    "abline(v=which.min(train_err))\n",
    "points(nseq,test_err,type='b',col='red')\n",
    "abline(v=which.min(test_err),col='red')"
   ]
  }
 ],
 "metadata": {
  "jupytext": {
   "formats": "ipynb,Rmd,R"
  },
  "kernelspec": {
   "display_name": "R",
   "language": "R",
   "name": "ir"
  },
  "language_info": {
   "codemirror_mode": "r",
   "file_extension": ".r",
   "mimetype": "text/x-r-source",
   "name": "R",
   "pygments_lexer": "r",
   "version": "4.4.1"
  }
 },
 "nbformat": 4,
 "nbformat_minor": 4
}
