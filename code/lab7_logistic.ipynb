{
 "cells": [
  {
   "cell_type": "markdown",
   "id": "0",
   "metadata": {
    "vscode": {
     "languageId": "r"
    }
   },
   "source": [
    "# Logistic Regression"
   ]
  },
  {
   "cell_type": "code",
   "execution_count": null,
   "id": "1",
   "metadata": {
    "lines_to_next_cell": 2,
    "vscode": {
     "languageId": "r"
    }
   },
   "outputs": [],
   "source": [
    "library(\"palmerpenguins\")\n",
    "library(\"ggplot2\")\n",
    "library(\"reshape2\")\n",
    "library(\"tibble\")\n",
    "library(\"dplyr\")\n",
    "library(\"purrr\")\n",
    "library(\"tidyr\")\n",
    "\n",
    "penguins <- penguins[complete.cases(penguins), ]\n",
    "d <- penguins %>% dplyr::select(c(\"flipper_length_mm\", \"bill_depth_mm\", \"species\"))\n",
    "d %>% head()"
   ]
  },
  {
   "cell_type": "code",
   "execution_count": null,
   "id": "2",
   "metadata": {
    "lines_to_next_cell": 2,
    "vscode": {
     "languageId": "r"
    }
   },
   "outputs": [],
   "source": [
    "d <- d %>% dplyr::filter(species %in% c(\"Adelie\", \"Chinstrap\"))\n",
    "d %>% head()"
   ]
  },
  {
   "cell_type": "code",
   "execution_count": null,
   "id": "3",
   "metadata": {
    "vscode": {
     "languageId": "r"
    }
   },
   "outputs": [],
   "source": [
    "d <- d %>% mutate(species = droplevels(species))"
   ]
  },
  {
   "cell_type": "code",
   "execution_count": null,
   "id": "4",
   "metadata": {
    "vscode": {
     "languageId": "r"
    }
   },
   "outputs": [],
   "source": [
    "table(d$species)"
   ]
  },
  {
   "cell_type": "code",
   "execution_count": null,
   "id": "5",
   "metadata": {
    "vscode": {
     "languageId": "r"
    }
   },
   "outputs": [],
   "source": [
    "d <- d %>% mutate(species = relevel(species, ref = \"Adelie\"))\n",
    "d %>% head()"
   ]
  },
  {
   "cell_type": "code",
   "execution_count": null,
   "id": "6",
   "metadata": {
    "lines_to_next_cell": 2,
    "vscode": {
     "languageId": "r"
    }
   },
   "outputs": [],
   "source": [
    "ggplot(data = d, mapping = aes(x = flipper_length_mm, y = bill_depth_mm, color = species)) +\n",
    "  geom_point()"
   ]
  },
  {
   "cell_type": "code",
   "execution_count": null,
   "id": "7",
   "metadata": {
    "vscode": {
     "languageId": "r"
    }
   },
   "outputs": [],
   "source": [
    "?glm"
   ]
  },
  {
   "cell_type": "code",
   "execution_count": null,
   "id": "8",
   "metadata": {
    "vscode": {
     "languageId": "r"
    }
   },
   "outputs": [],
   "source": [
    "log_mod <- glm(formula = species ~ ., data = d, family = \"binomial\")\n",
    "summary(log_mod)"
   ]
  },
  {
   "cell_type": "markdown",
   "id": "9",
   "metadata": {},
   "source": [
    "recall:"
   ]
  },
  {
   "cell_type": "markdown",
   "id": "10",
   "metadata": {},
   "source": [
    "$p = logistic(X\\beta) \\leftrightarrow logit(p) = log(p/(1-p)) = X\\beta$"
   ]
  },
  {
   "cell_type": "code",
   "execution_count": null,
   "id": "11",
   "metadata": {
    "vscode": {
     "languageId": "r"
    }
   },
   "outputs": [],
   "source": [
    "head(predict(log_mod)) ## predicts the log-odds = logit(p)"
   ]
  },
  {
   "cell_type": "code",
   "execution_count": null,
   "id": "12",
   "metadata": {
    "vscode": {
     "languageId": "r"
    }
   },
   "outputs": [],
   "source": [
    "X_design <- model.matrix(log_mod)\n",
    "head(X_design)"
   ]
  },
  {
   "cell_type": "code",
   "execution_count": null,
   "id": "13",
   "metadata": {
    "vscode": {
     "languageId": "r"
    }
   },
   "outputs": [],
   "source": [
    "beta_hat <- log_mod$coefficients\n",
    "beta_hat <- array(beta_hat, c(3, 1))\n",
    "beta_hat"
   ]
  },
  {
   "cell_type": "code",
   "execution_count": null,
   "id": "14",
   "metadata": {
    "vscode": {
     "languageId": "r"
    }
   },
   "outputs": [],
   "source": [
    "head(X_design %*% beta_hat)"
   ]
  },
  {
   "cell_type": "code",
   "execution_count": null,
   "id": "15",
   "metadata": {
    "vscode": {
     "languageId": "r"
    }
   },
   "outputs": [],
   "source": [
    "p_hats <- predict(log_mod, type = \"response\")\n",
    "head(p_hats)"
   ]
  },
  {
   "cell_type": "code",
   "execution_count": null,
   "id": "16",
   "metadata": {
    "vscode": {
     "languageId": "r"
    }
   },
   "outputs": [],
   "source": [
    "head(predict(log_mod))\n",
    "head(log(p_hats / (1 - p_hats)))"
   ]
  },
  {
   "cell_type": "code",
   "execution_count": null,
   "id": "17",
   "metadata": {
    "vscode": {
     "languageId": "r"
    }
   },
   "outputs": [],
   "source": [
    "train_pred <- as.numeric(p_hats > .5)\n",
    "sample(train_pred) %>% head()"
   ]
  },
  {
   "cell_type": "code",
   "execution_count": null,
   "id": "18",
   "metadata": {
    "vscode": {
     "languageId": "r"
    }
   },
   "outputs": [],
   "source": [
    "train_pred <- factor(train_pred, labels = c(\"Adelie\", \"Chinstrap\"))\n",
    "head(train_pred)"
   ]
  },
  {
   "cell_type": "code",
   "execution_count": null,
   "id": "19",
   "metadata": {
    "vscode": {
     "languageId": "r"
    }
   },
   "outputs": [],
   "source": [
    "library(\"caret\")\n",
    "confusionMatrix(data = train_pred, reference = d$species)"
   ]
  },
  {
   "cell_type": "markdown",
   "id": "20",
   "metadata": {
    "vscode": {
     "languageId": "r"
    }
   },
   "source": [
    "# Can we do this ourselves!?"
   ]
  },
  {
   "cell_type": "code",
   "execution_count": null,
   "id": "21",
   "metadata": {
    "vscode": {
     "languageId": "r"
    }
   },
   "outputs": [],
   "source": [
    "y <- as.numeric(d$species) - 1\n",
    "y %>%\n",
    "  sample() %>%\n",
    "  head()"
   ]
  },
  {
   "cell_type": "code",
   "execution_count": null,
   "id": "22",
   "metadata": {
    "vscode": {
     "languageId": "r"
    }
   },
   "outputs": [],
   "source": [
    "X <- model.matrix(log_mod)\n",
    "X %>% head()"
   ]
  },
  {
   "cell_type": "code",
   "execution_count": null,
   "id": "23",
   "metadata": {
    "vscode": {
     "languageId": "r"
    }
   },
   "outputs": [],
   "source": [
    "cross_entropy <- function(p, q) {\n",
    "  return(-(p * log(q) + (1 - p) * log(1 - q)))\n",
    "}"
   ]
  },
  {
   "cell_type": "code",
   "execution_count": null,
   "id": "24",
   "metadata": {
    "lines_to_next_cell": 2,
    "vscode": {
     "languageId": "r"
    }
   },
   "outputs": [],
   "source": [
    "logistic <- function(z) 1 / (1 + exp(-z))"
   ]
  },
  {
   "cell_type": "code",
   "execution_count": null,
   "id": "25",
   "metadata": {
    "vscode": {
     "languageId": "r"
    }
   },
   "outputs": [],
   "source": [
    "NLL <- function(beta) {\n",
    "  beta <- array(beta, c(3, 1))\n",
    "  p <- as.vector(logistic(X %*% beta))\n",
    "  sum(map2_vec(y, p, ~ cross_entropy(..1, ..2)))\n",
    "}"
   ]
  },
  {
   "cell_type": "code",
   "execution_count": null,
   "id": "26",
   "metadata": {
    "vscode": {
     "languageId": "r"
    }
   },
   "outputs": [],
   "source": [
    "initial_params <- c(0, 0, 0)\n",
    "result <- optim(par = initial_params, fn = NLL)"
   ]
  },
  {
   "cell_type": "code",
   "execution_count": null,
   "id": "27",
   "metadata": {
    "vscode": {
     "languageId": "r"
    }
   },
   "outputs": [],
   "source": [
    "result"
   ]
  },
  {
   "cell_type": "code",
   "execution_count": null,
   "id": "28",
   "metadata": {
    "vscode": {
     "languageId": "r"
    }
   },
   "outputs": [],
   "source": [
    "result$par"
   ]
  },
  {
   "cell_type": "code",
   "execution_count": null,
   "id": "29",
   "metadata": {
    "vscode": {
     "languageId": "r"
    }
   },
   "outputs": [],
   "source": [
    "as.vector(beta_hat)"
   ]
  },
  {
   "cell_type": "markdown",
   "id": "30",
   "metadata": {
    "vscode": {
     "languageId": "r"
    }
   },
   "source": [
    "# Plotting"
   ]
  },
  {
   "cell_type": "code",
   "execution_count": null,
   "id": "31",
   "metadata": {
    "lines_to_next_cell": 2,
    "vscode": {
     "languageId": "r"
    }
   },
   "outputs": [],
   "source": [
    "plot_fit_logistic <- function(v1, v2, df = penguins, N = floor(sqrt(10000)), scaleit = TRUE, fmla = \"species~.\") {\n",
    "  train_df <- df %>% dplyr::select(all_of(c(\"species\", v1, v2)))\n",
    "  if (scaleit) {\n",
    "    train_df <- train_df %>% mutate(across(-species, ~ (.x - mean(.x)) / sd(.x)))\n",
    "  }\n",
    "\n",
    "  mod <- glm(formula = as.formula(fmla), data = train_df, family = \"binomial\")\n",
    "\n",
    "  combinations <- expand_grid(!!!map(train_df %>% dplyr::select(-species), ~ seq(min(.x), max(.x), length.out = N)))\n",
    "  colnames(combinations) <- c(v1, v2)\n",
    "  p_hats <- predict(mod, newdata = combinations, type = \"response\")\n",
    "  preds <- (p_hats > 1 / 2) * 1\n",
    "  preds <- factor(preds, labels = c(\"Adelie\", \"Chinstrap\"))\n",
    "  combinations$species <- preds\n",
    "\n",
    "  ggplot(data = combinations, mapping = aes(x = !!sym(v1), y = !!sym(v2), fill = species, shape = species)) +\n",
    "    geom_tile() +\n",
    "    geom_point(data = train_df, size = 5) +\n",
    "    coord_fixed()\n",
    "}"
   ]
  },
  {
   "cell_type": "code",
   "execution_count": null,
   "id": "32",
   "metadata": {
    "vscode": {
     "languageId": "r"
    }
   },
   "outputs": [],
   "source": [
    "plot_fit_logistic(v1 = \"flipper_length_mm\", v2 = \"bill_depth_mm\", df = d)"
   ]
  },
  {
   "cell_type": "code",
   "execution_count": null,
   "id": "33",
   "metadata": {
    "vscode": {
     "languageId": "r"
    }
   },
   "outputs": [],
   "source": [
    "plot_fit_logistic(\n",
    "  v1 = \"flipper_length_mm\", v2 = \"bill_depth_mm\", df = d,\n",
    "  fmla = \"species~flipper_length_mm+I(flipper_length_mm^2)+bill_depth_mm+I(bill_depth_mm^2)\"\n",
    ")"
   ]
  },
  {
   "cell_type": "markdown",
   "id": "34",
   "metadata": {
    "vscode": {
     "languageId": "r"
    }
   },
   "source": [
    "# Issues:"
   ]
  },
  {
   "cell_type": "code",
   "execution_count": null,
   "id": "35",
   "metadata": {
    "vscode": {
     "languageId": "r"
    }
   },
   "outputs": [],
   "source": [
    "library(\"palmerpenguins\")\n",
    "penguins <- penguins %>% filter(complete.cases(.))\n",
    "d <- penguins %>% dplyr::select(c(\"flipper_length_mm\", \"bill_depth_mm\", \"species\"))\n",
    "d <- d %>% dplyr::filter(species %in% c(\"Adelie\", \"Gentoo\"))\n",
    "d <- d %>% mutate(species = droplevels(species))\n",
    "d %>% sample_n(5)"
   ]
  },
  {
   "cell_type": "code",
   "execution_count": null,
   "id": "36",
   "metadata": {
    "vscode": {
     "languageId": "r"
    }
   },
   "outputs": [],
   "source": [
    "log_mod <- glm(formula = species ~ ., data = d, family = \"binomial\")\n",
    "summary(log_mod)"
   ]
  },
  {
   "cell_type": "markdown",
   "id": "37",
   "metadata": {
    "vscode": {
     "languageId": "r"
    }
   },
   "source": [
    "Problem: classes are perfectly separable:"
   ]
  },
  {
   "cell_type": "code",
   "execution_count": null,
   "id": "38",
   "metadata": {
    "vscode": {
     "languageId": "r"
    }
   },
   "outputs": [],
   "source": [
    "plot_fit_logistic(v1 = \"flipper_length_mm\", v2 = \"bill_depth_mm\", df = d)"
   ]
  },
  {
   "cell_type": "markdown",
   "id": "39",
   "metadata": {},
   "source": [
    "# Multivariate logistic regression"
   ]
  },
  {
   "cell_type": "code",
   "execution_count": null,
   "id": "40",
   "metadata": {
    "vscode": {
     "languageId": "r"
    }
   },
   "outputs": [],
   "source": [
    "library(\"nnet\")"
   ]
  },
  {
   "cell_type": "code",
   "execution_count": null,
   "id": "41",
   "metadata": {
    "vscode": {
     "languageId": "r"
    }
   },
   "outputs": [],
   "source": [
    "?multinom"
   ]
  },
  {
   "cell_type": "code",
   "execution_count": null,
   "id": "42",
   "metadata": {
    "lines_to_next_cell": 2,
    "vscode": {
     "languageId": "r"
    }
   },
   "outputs": [],
   "source": [
    "library(\"palmerpenguins\")\n",
    "penguins <- penguins %>% filter(complete.cases(.))\n",
    "d <- penguins %>% dplyr::select(c(\"flipper_length_mm\", \"bill_depth_mm\", \"species\"))\n",
    "d <- d %>% mutate(species = relevel(species, ref = \"Adelie\"))\n",
    "d %>% sample_n(5)"
   ]
  },
  {
   "cell_type": "code",
   "execution_count": null,
   "id": "43",
   "metadata": {
    "vscode": {
     "languageId": "r"
    }
   },
   "outputs": [],
   "source": [
    "mod <- multinom(species ~ ., data = d)\n",
    "summary(mod)"
   ]
  },
  {
   "cell_type": "code",
   "execution_count": null,
   "id": "44",
   "metadata": {
    "vscode": {
     "languageId": "r"
    }
   },
   "outputs": [],
   "source": [
    "prob_preds <- predict(mod, type = \"probs\")"
   ]
  },
  {
   "cell_type": "code",
   "execution_count": null,
   "id": "45",
   "metadata": {
    "vscode": {
     "languageId": "r"
    }
   },
   "outputs": [],
   "source": [
    "head(prob_preds)"
   ]
  },
  {
   "cell_type": "code",
   "execution_count": null,
   "id": "46",
   "metadata": {
    "vscode": {
     "languageId": "r"
    }
   },
   "outputs": [],
   "source": [
    "class_preds <- predict(mod, type = \"class\")\n",
    "head(class_preds)"
   ]
  },
  {
   "cell_type": "code",
   "execution_count": null,
   "id": "47",
   "metadata": {
    "vscode": {
     "languageId": "r"
    }
   },
   "outputs": [],
   "source": [
    "plot_fit_mnlogistic <- function(v1, v2, df = penguins, N = floor(sqrt(10000)), scaleit = TRUE, fmla = \"species~.\") {\n",
    "  train_df <- df %>% dplyr::select(all_of(c(\"species\", v1, v2)))\n",
    "  if (scaleit) {\n",
    "    train_df <- train_df %>% mutate(across(-species, ~ (.x - mean(.x)) / sd(.x)))\n",
    "  }\n",
    "\n",
    "  mod <- multinom(as.formula(fmla), data = train_df)\n",
    "\n",
    "  combinations <- expand_grid(!!!map(train_df %>% dplyr::select(-species), ~ seq(min(.x), max(.x), length.out = N)))\n",
    "  colnames(combinations) <- c(v1, v2)\n",
    "  preds <- predict(mod, newdata = combinations, type = \"class\")\n",
    "  combinations$species <- preds\n",
    "\n",
    "  ggplot(data = combinations, mapping = aes(x = !!sym(v1), y = !!sym(v2), fill = species, shape = species)) +\n",
    "    geom_tile() +\n",
    "    geom_point(data = train_df, size = 5) +\n",
    "    coord_fixed()\n",
    "}"
   ]
  },
  {
   "cell_type": "code",
   "execution_count": null,
   "id": "48",
   "metadata": {
    "vscode": {
     "languageId": "r"
    }
   },
   "outputs": [],
   "source": [
    "plot_fit_mnlogistic(v1 = \"flipper_length_mm\", v2 = \"bill_depth_mm\", df = d)"
   ]
  },
  {
   "cell_type": "code",
   "execution_count": null,
   "id": "49",
   "metadata": {
    "vscode": {
     "languageId": "r"
    }
   },
   "outputs": [],
   "source": [
    "plot_fit_mnlogistic(\n",
    "  v1 = \"flipper_length_mm\", v2 = \"bill_depth_mm\", df = d,\n",
    "  fmla = \"species~flipper_length_mm+bill_depth_mm+I(bill_depth_mm^2)+I(flipper_length_mm^2)\"\n",
    ")"
   ]
  }
 ],
 "metadata": {
  "kernelspec": {
   "display_name": "R",
   "language": "R",
   "name": "ir"
  },
  "language_info": {
   "codemirror_mode": "r",
   "file_extension": ".r",
   "mimetype": "text/x-r-source",
   "name": "R",
   "pygments_lexer": "r",
   "version": "4.4.1"
  }
 },
 "nbformat": 4,
 "nbformat_minor": 5
}
