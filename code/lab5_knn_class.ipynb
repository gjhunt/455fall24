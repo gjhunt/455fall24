{
 "cells": [
  {
   "cell_type": "markdown",
   "metadata": {},
   "source": [
    "# KNN Classification"
   ]
  },
  {
   "cell_type": "code",
   "execution_count": null,
   "metadata": {
    "jupyter": {
     "outputs_hidden": true
    },
    "vscode": {
     "languageId": "r"
    }
   },
   "outputs": [],
   "source": [
    "library(\"caret\")\n",
    "?knn3\n"
   ]
  },
  {
   "cell_type": "code",
   "execution_count": null,
   "metadata": {
    "vscode": {
     "languageId": "r"
    }
   },
   "outputs": [],
   "source": [
    "library(\"palmerpenguins\")\n",
    "penguins <- penguins[complete.cases(penguins), ]\n",
    "head(penguins)\n"
   ]
  },
  {
   "cell_type": "code",
   "execution_count": null,
   "metadata": {
    "vscode": {
     "languageId": "r"
    }
   },
   "outputs": [],
   "source": [
    "summary(penguins)\n"
   ]
  },
  {
   "cell_type": "code",
   "execution_count": null,
   "metadata": {
    "vscode": {
     "languageId": "r"
    }
   },
   "outputs": [],
   "source": [
    "dim(penguins)\n"
   ]
  },
  {
   "cell_type": "code",
   "execution_count": null,
   "metadata": {
    "vscode": {
     "languageId": "r"
    }
   },
   "outputs": [],
   "source": [
    "table(penguins$species) / nrow(penguins)\n"
   ]
  },
  {
   "cell_type": "code",
   "execution_count": null,
   "metadata": {
    "vscode": {
     "languageId": "r"
    }
   },
   "outputs": [],
   "source": [
    "class(penguins$species)\n"
   ]
  },
  {
   "cell_type": "markdown",
   "metadata": {},
   "source": [
    "# Fit the model"
   ]
  },
  {
   "cell_type": "code",
   "execution_count": null,
   "metadata": {
    "vscode": {
     "languageId": "r"
    }
   },
   "outputs": [],
   "source": [
    "mod <- knn3(species ~ ., data = penguins, k = 5)\n"
   ]
  },
  {
   "cell_type": "code",
   "execution_count": null,
   "metadata": {
    "vscode": {
     "languageId": "r"
    }
   },
   "outputs": [],
   "source": [
    "preds <- predict(mod, newdata = penguins, type = \"class\")\n",
    "head(preds, n = 10)\n"
   ]
  },
  {
   "cell_type": "code",
   "execution_count": null,
   "metadata": {
    "vscode": {
     "languageId": "r"
    }
   },
   "outputs": [],
   "source": [
    "head(predict(mod, newdata = penguins, type = \"prob\"))\n"
   ]
  },
  {
   "cell_type": "code",
   "execution_count": null,
   "metadata": {
    "vscode": {
     "languageId": "r"
    }
   },
   "outputs": [],
   "source": [
    "cm <- confusionMatrix(data = preds, reference = penguins$species)\n",
    "cm\n"
   ]
  },
  {
   "cell_type": "code",
   "execution_count": null,
   "metadata": {
    "vscode": {
     "languageId": "r"
    }
   },
   "outputs": [],
   "source": [
    "C <- as.matrix(cm$table)\n",
    "C\n"
   ]
  },
  {
   "cell_type": "code",
   "execution_count": null,
   "metadata": {
    "vscode": {
     "languageId": "r"
    }
   },
   "outputs": [],
   "source": [
    "sum(diag(C)) / sum(C)\n"
   ]
  },
  {
   "cell_type": "code",
   "execution_count": null,
   "metadata": {
    "vscode": {
     "languageId": "r"
    }
   },
   "outputs": [],
   "source": [
    "C[1, 1] / sum(C[, 1])\n"
   ]
  },
  {
   "cell_type": "code",
   "execution_count": null,
   "metadata": {
    "vscode": {
     "languageId": "r"
    }
   },
   "outputs": [],
   "source": [
    "C[2, 2] / sum(C[, 2])\n"
   ]
  },
  {
   "cell_type": "markdown",
   "metadata": {},
   "source": [
    "# Plot the prediction space"
   ]
  },
  {
   "cell_type": "code",
   "execution_count": null,
   "metadata": {
    "vscode": {
     "languageId": "r"
    }
   },
   "outputs": [],
   "source": [
    "library(\"ggplot2\")\n",
    "library(\"dplyr\")\n",
    "library(\"tidyr\")\n",
    "library(\"purrr\")\n"
   ]
  },
  {
   "cell_type": "code",
   "execution_count": null,
   "metadata": {
    "vscode": {
     "languageId": "r"
    }
   },
   "outputs": [],
   "source": [
    "v1 <- \"bill_length_mm\"\n",
    "v2 <- \"bill_depth_mm\"\n"
   ]
  },
  {
   "cell_type": "code",
   "execution_count": null,
   "metadata": {
    "vscode": {
     "languageId": "r"
    }
   },
   "outputs": [],
   "source": [
    "plot_fit <- function(v1, v2, df = penguins, N = floor(sqrt(10000)), k = 10) {\n",
    "    train_df <- df %>% select(all_of(c(\"species\", v1, v2)))\n",
    "\n",
    "    mod <- knn3(species ~ ., data = train_df, k = k)\n",
    "\n",
    "    combinations <- expand_grid(!!!map(train_df %>% select(-species), ~ seq(min(.x), max(.x), length.out = N)))\n",
    "    colnames(combinations) <- c(v1, v2)\n",
    "    preds <- predict(mod, newdata = combinations, type = \"class\")\n",
    "    combinations$species <- preds\n",
    "\n",
    "    ggplot(data = combinations, mapping = aes(x = !!sym(v1), y = !!sym(v2), fill = species, shape = species)) +\n",
    "        geom_tile() +\n",
    "        geom_point(data = train_df, size = 5)\n",
    "}\n"
   ]
  },
  {
   "cell_type": "code",
   "execution_count": null,
   "metadata": {
    "vscode": {
     "languageId": "r"
    }
   },
   "outputs": [],
   "source": [
    "plot_fit(v1 = \"bill_length_mm\", v2 = \"bill_depth_mm\", df = penguins, k = 50)\n"
   ]
  },
  {
   "cell_type": "code",
   "execution_count": null,
   "metadata": {
    "vscode": {
     "languageId": "r"
    }
   },
   "outputs": [],
   "source": [
    "plot_fit(v1 = \"bill_length_mm\", v2 = \"bill_depth_mm\", df = penguins, k = 10)\n"
   ]
  },
  {
   "cell_type": "code",
   "execution_count": null,
   "metadata": {
    "vscode": {
     "languageId": "r"
    }
   },
   "outputs": [],
   "source": [
    "plot_fit(v1 = \"bill_length_mm\", v2 = \"bill_depth_mm\", df = penguins, k = 1)\n"
   ]
  },
  {
   "cell_type": "code",
   "execution_count": null,
   "metadata": {
    "vscode": {
     "languageId": "r"
    }
   },
   "outputs": [],
   "source": [
    "plot_fit(v1 = \"bill_length_mm\", v2 = \"bill_depth_mm\", df = penguins, k = 1) + coord_fixed()\n"
   ]
  },
  {
   "cell_type": "code",
   "execution_count": null,
   "metadata": {
    "vscode": {
     "languageId": "r"
    }
   },
   "outputs": [],
   "source": [
    "plot_fit <- function(v1, v2, df = penguins, N = floor(sqrt(10000)), k = 10) {\n",
    "    train_df <- df %>% select(all_of(c(\"species\", v1, v2)))\n",
    "    train_df <- train_df %>% mutate(across(-species,~(.x-mean(.x))/sd(.x)))\n",
    "\n",
    "    mod <- knn3(species ~ ., data = train_df, k = k)\n",
    "\n",
    "    combinations <- expand_grid(!!!map(train_df %>% select(-species), ~ seq(min(.x), max(.x), length.out = N)))\n",
    "    colnames(combinations) <- c(v1, v2)\n",
    "    preds <- predict(mod, newdata = combinations, type = \"class\")\n",
    "    combinations$species <- preds\n",
    "\n",
    "    ggplot(data = combinations, mapping = aes(x = !!sym(v1), y = !!sym(v2), fill = species, shape = species)) +\n",
    "        geom_tile() +\n",
    "        geom_point(data = train_df, size = 5) + \n",
    "        coord_fixed()\n",
    "}\n"
   ]
  },
  {
   "cell_type": "code",
   "execution_count": null,
   "metadata": {
    "vscode": {
     "languageId": "r"
    }
   },
   "outputs": [],
   "source": [
    "plot_fit(v1 = \"bill_length_mm\", v2 = \"bill_depth_mm\", df = penguins, k = 1)\n"
   ]
  },
  {
   "cell_type": "code",
   "execution_count": null,
   "metadata": {
    "vscode": {
     "languageId": "r"
    }
   },
   "outputs": [],
   "source": [
    "plot_fit(v1 = \"flipper_length_mm\", v2 = \"bill_depth_mm\", df = penguins, k = 1)\n"
   ]
  },
  {
   "cell_type": "code",
   "execution_count": null,
   "metadata": {
    "vscode": {
     "languageId": "r"
    }
   },
   "outputs": [],
   "source": [
    "plot_fit(v1 = \"flipper_length_mm\", v2 = \"bill_depth_mm\", df = penguins, k = 50)\n"
   ]
  },
  {
   "cell_type": "markdown",
   "metadata": {
    "vscode": {
     "languageId": "r"
    }
   },
   "source": [
    "# Optimal tuning"
   ]
  },
  {
   "cell_type": "code",
   "execution_count": null,
   "metadata": {
    "vscode": {
     "languageId": "r"
    }
   },
   "outputs": [],
   "source": [
    "library('recipes')\n",
    "library('rsample')\n",
    "library('yardstick')"
   ]
  },
  {
   "cell_type": "code",
   "execution_count": null,
   "metadata": {
    "vscode": {
     "languageId": "r"
    }
   },
   "outputs": [],
   "source": [
    "rec_obj <- recipe(species~flipper_length_mm+bill_depth_mm,data=penguins) %>%\n",
    "    step_center(all_numeric_predictors()) %>%\n",
    "    step_scale(all_numeric_predictors())\n",
    "rec_obj"
   ]
  },
  {
   "cell_type": "code",
   "execution_count": null,
   "metadata": {
    "vscode": {
     "languageId": "r"
    }
   },
   "outputs": [],
   "source": [
    "splts <- rsample::vfold_cv(penguins,v=10)"
   ]
  },
  {
   "cell_type": "code",
   "execution_count": null,
   "metadata": {
    "vscode": {
     "languageId": "r"
    }
   },
   "outputs": [],
   "source": [
    "splts$splits[[1]]$id$id"
   ]
  },
  {
   "cell_type": "code",
   "execution_count": null,
   "metadata": {
    "vscode": {
     "languageId": "r"
    }
   },
   "outputs": [],
   "source": [
    "fit_fn_K <- function(splt,K=NULL){\n",
    "    trained_rec <- prep(rec_obj,training=training(splt))\n",
    "    train_data <- bake(trained_rec,training(splt))\n",
    "    test_data <- bake(trained_rec,testing(splt))\n",
    "\n",
    "    mod <- knn3(species ~ ., data = train_data, k = K)\n",
    "    train_data$est <- predict(mod,train_data,type='class')\n",
    "    train_data$type <- 'train'\n",
    "    test_data$est <- predict(mod,test_data,type='class')\n",
    "    test_data$type <- 'test'\n",
    "    df <- bind_rows(train_data,test_data)\n",
    "    df$K <- K\n",
    "    df$id <- splt$id$id\n",
    "    return(df)\n",
    "}"
   ]
  },
  {
   "cell_type": "code",
   "execution_count": null,
   "metadata": {
    "vscode": {
     "languageId": "r"
    }
   },
   "outputs": [],
   "source": [
    "K_seq <- seq(1, 100, length.out = 100)\n"
   ]
  },
  {
   "cell_type": "code",
   "execution_count": null,
   "metadata": {
    "vscode": {
     "languageId": "r"
    }
   },
   "outputs": [],
   "source": [
    "cmbs <- crossing(splt = splts$splits,K = K_seq)"
   ]
  },
  {
   "cell_type": "code",
   "execution_count": null,
   "metadata": {
    "vscode": {
     "languageId": "r"
    }
   },
   "outputs": [],
   "source": [
    "\n",
    "res <- pmap(cmbs,~fit_fn_K(splt=..1,K=..2))"
   ]
  },
  {
   "cell_type": "code",
   "execution_count": null,
   "metadata": {
    "vscode": {
     "languageId": "r"
    }
   },
   "outputs": [],
   "source": [
    "res_all <- res %>% bind_rows()\n",
    "res_all %>% sample_n(10)"
   ]
  },
  {
   "cell_type": "code",
   "execution_count": null,
   "metadata": {
    "vscode": {
     "languageId": "r"
    }
   },
   "outputs": [],
   "source": [
    "acc_tbl <- res_all %>% group_by(type,K,id) %>% accuracy(species,est) %>% ungroup()\n",
    "acc_tbl %>% sample_n(10)"
   ]
  },
  {
   "cell_type": "code",
   "execution_count": null,
   "metadata": {
    "vscode": {
     "languageId": "r"
    }
   },
   "outputs": [],
   "source": [
    "acc_smry <- acc_tbl %>%\n",
    "    group_by(type, K) %>%\n",
    "    summarize(\n",
    "        mean = mean(.estimate),\n",
    "        q25 = quantile(.estimate, .25),\n",
    "        q75 = quantile(.estimate, .75)\n",
    "    ) %>% ungroup()\n",
    "acc_smry %>% sample_n(10)"
   ]
  },
  {
   "cell_type": "code",
   "execution_count": null,
   "metadata": {
    "vscode": {
     "languageId": "r"
    }
   },
   "outputs": [],
   "source": [
    "library(\"ggplot2\")\n",
    "ggplot(data = acc_smry, mapping = aes(x = K, y = mean, color = type, fill=type)) +\n",
    "    geom_ribbon(mapping=aes(ymin = q25, ymax = q75),alpha=.25) +\n",
    "    geom_point() +\n",
    "    scale_x_log10()\n"
   ]
  },
  {
   "cell_type": "code",
   "execution_count": null,
   "metadata": {
    "vscode": {
     "languageId": "r"
    }
   },
   "outputs": [],
   "source": [
    "K_hat <- acc_smry %>%\n",
    "    filter(type == \"test\") %>%\n",
    "    filter(mean == max(mean)) %>%\n",
    "    pull(K)\n",
    "K_hat \n"
   ]
  },
  {
   "cell_type": "code",
   "execution_count": null,
   "metadata": {
    "vscode": {
     "languageId": "r"
    }
   },
   "outputs": [],
   "source": [
    "plot_fit(v1 = \"bill_length_mm\", v2 = \"bill_depth_mm\", df = penguins, k = K_hat)\n"
   ]
  }
 ],
 "metadata": {
  "jupytext": {
   "formats": "ipynb,Rmd,R"
  },
  "kernelspec": {
   "display_name": "R",
   "language": "R",
   "name": "ir"
  },
  "language_info": {
   "codemirror_mode": "r",
   "file_extension": ".r",
   "mimetype": "text/x-r-source",
   "name": "R",
   "pygments_lexer": "r",
   "version": "4.4.1"
  }
 },
 "nbformat": 4,
 "nbformat_minor": 4
}
