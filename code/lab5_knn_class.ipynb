{
 "cells": [
  {
   "cell_type": "markdown",
   "metadata": {},
   "source": [
    "# KNN Classification"
   ]
  },
  {
   "cell_type": "markdown",
   "metadata": {},
   "source": [
    "## load the data "
   ]
  },
  {
   "cell_type": "code",
   "execution_count": null,
   "metadata": {},
   "outputs": [],
   "source": [
    "load_or_install = function(list.of.packages){\n",
    "    new.packages <- list.of.packages[!(list.of.packages %in% installed.packages()[,\"Package\"])]\n",
    "    if(length(new.packages)) install.packages(new.packages)\n",
    "    for(pkg in list.of.packages)\n",
    "        library(pkg,character.only=TRUE)\n",
    "}"
   ]
  },
  {
   "cell_type": "code",
   "execution_count": null,
   "metadata": {},
   "outputs": [],
   "source": [
    "load_or_install('caret')"
   ]
  },
  {
   "cell_type": "code",
   "execution_count": null,
   "metadata": {},
   "outputs": [],
   "source": [
    "load_or_install('palmerpenguins')\n",
    "penguins = penguins[complete.cases(penguins),]\n",
    "head(penguins)"
   ]
  },
  {
   "cell_type": "code",
   "execution_count": null,
   "metadata": {},
   "outputs": [],
   "source": [
    "summary(penguins)"
   ]
  },
  {
   "cell_type": "code",
   "execution_count": null,
   "metadata": {},
   "outputs": [],
   "source": [
    "dim(penguins)"
   ]
  },
  {
   "cell_type": "code",
   "execution_count": null,
   "metadata": {},
   "outputs": [],
   "source": [
    "table(penguins$species)/nrow(penguins)"
   ]
  },
  {
   "cell_type": "code",
   "execution_count": null,
   "metadata": {},
   "outputs": [],
   "source": [
    "class(penguins$species)"
   ]
  },
  {
   "cell_type": "markdown",
   "metadata": {},
   "source": [
    "# data splitting\n",
    "\n",
    "Read more: [here](https://topepo.github.io/caret/data-splitting.html) or [here](https://topepo.github.io/caret/subsampling-for-class-imbalances.html)"
   ]
  },
  {
   "cell_type": "markdown",
   "metadata": {},
   "source": [
    "Way we've previously used "
   ]
  },
  {
   "cell_type": "code",
   "execution_count": null,
   "metadata": {},
   "outputs": [],
   "source": [
    "flds = createFolds(1:nrow(penguins),k=5)\n",
    "flds\n",
    "\n",
    "fld = flds[[1]]\n",
    "table(penguins[fld,'species'])/length(flds[[1]])"
   ]
  },
  {
   "cell_type": "markdown",
   "metadata": {},
   "source": [
    "maybe a better way:"
   ]
  },
  {
   "cell_type": "code",
   "execution_count": null,
   "metadata": {},
   "outputs": [],
   "source": [
    "flds = createFolds(penguins$species,k=5)\n",
    "flds"
   ]
  },
  {
   "cell_type": "code",
   "execution_count": null,
   "metadata": {},
   "outputs": [],
   "source": [
    "fld = flds[[1]]\n",
    "table(penguins[fld,'species'])/length(flds[[1]])"
   ]
  },
  {
   "cell_type": "code",
   "execution_count": null,
   "metadata": {},
   "outputs": [],
   "source": [
    "fldit0 = function(i){\n",
    "    flds = createFolds(1:nrow(penguins),k=5)\n",
    "    fld = flds[[1]]\n",
    "    return(table(penguins[fld,'species'])/length(flds[[1]]))\n",
    "}"
   ]
  },
  {
   "cell_type": "code",
   "execution_count": null,
   "metadata": {},
   "outputs": [],
   "source": [
    "fld0 = data.frame(t(sapply(1:500,fldit0)))\n",
    "fld0$type='SRS'"
   ]
  },
  {
   "cell_type": "code",
   "execution_count": null,
   "metadata": {},
   "outputs": [],
   "source": [
    "fldit = function(i){\n",
    "    flds = createFolds(penguins$species,k=5)   \n",
    "    fld = flds[[1]]\n",
    "    return(table(penguins[fld,'species'])/length(flds[[1]]))\n",
    "}"
   ]
  },
  {
   "cell_type": "code",
   "execution_count": null,
   "metadata": {},
   "outputs": [],
   "source": [
    "fld1 = data.frame(t(sapply(1:500,fldit)))\n",
    "fld1$type='Strat'"
   ]
  },
  {
   "cell_type": "code",
   "execution_count": null,
   "metadata": {},
   "outputs": [],
   "source": [
    "library('tidyr')\n",
    "library('dplyr')"
   ]
  },
  {
   "cell_type": "code",
   "execution_count": null,
   "metadata": {},
   "outputs": [],
   "source": [
    "df = bind_rows(fld0,fld1)"
   ]
  },
  {
   "cell_type": "code",
   "execution_count": null,
   "metadata": {},
   "outputs": [],
   "source": [
    "df_long = df %>% pivot_longer(cols=c(Adelie,Chinstrap,Gentoo))"
   ]
  },
  {
   "cell_type": "code",
   "execution_count": null,
   "metadata": {},
   "outputs": [],
   "source": [
    "df_long %>% group_by(type,name) %>% summarize(var=var(value))"
   ]
  },
  {
   "cell_type": "markdown",
   "metadata": {},
   "source": [
    "## multifolds"
   ]
  },
  {
   "cell_type": "code",
   "execution_count": null,
   "metadata": {},
   "outputs": [],
   "source": [
    "flds = createMultiFolds(penguins$species,k=2,times=2)"
   ]
  },
  {
   "cell_type": "code",
   "execution_count": null,
   "metadata": {},
   "outputs": [],
   "source": [
    "flds"
   ]
  },
  {
   "cell_type": "code",
   "execution_count": null,
   "metadata": {},
   "outputs": [],
   "source": [
    "flds = createDataPartition(penguins$species,p=.9,times=3) #without replacement\n",
    "flds"
   ]
  },
  {
   "cell_type": "code",
   "execution_count": null,
   "metadata": {},
   "outputs": [],
   "source": [
    "flds = createResample(penguins$species,times=3) #with replacement\n",
    "flds "
   ]
  },
  {
   "cell_type": "markdown",
   "metadata": {},
   "source": [
    "## fit the model"
   ]
  },
  {
   "cell_type": "code",
   "execution_count": null,
   "metadata": {},
   "outputs": [],
   "source": [
    "mod = knn3(species~.,data=penguins,k=5)"
   ]
  },
  {
   "cell_type": "code",
   "execution_count": null,
   "metadata": {},
   "outputs": [],
   "source": [
    "preds = predict(mod,newdata=penguins,type='class')\n",
    "head(preds,n=10)"
   ]
  },
  {
   "cell_type": "code",
   "execution_count": null,
   "metadata": {},
   "outputs": [],
   "source": [
    "head(predict(mod,newdata=penguins,type='prob'))"
   ]
  },
  {
   "cell_type": "code",
   "execution_count": null,
   "metadata": {},
   "outputs": [],
   "source": [
    "cm = confusionMatrix(data=preds,reference=penguins$species)\n",
    "cm"
   ]
  },
  {
   "cell_type": "code",
   "execution_count": null,
   "metadata": {},
   "outputs": [],
   "source": [
    "C = as.matrix(cm$table)\n",
    "C"
   ]
  },
  {
   "cell_type": "code",
   "execution_count": null,
   "metadata": {},
   "outputs": [],
   "source": [
    "sum(diag(C))/sum(C)"
   ]
  },
  {
   "cell_type": "code",
   "execution_count": null,
   "metadata": {},
   "outputs": [],
   "source": [
    "C[1,1]/sum(C[,1])"
   ]
  },
  {
   "cell_type": "code",
   "execution_count": null,
   "metadata": {},
   "outputs": [],
   "source": [
    "C[2,2]/sum(C[,2])"
   ]
  },
  {
   "cell_type": "markdown",
   "metadata": {},
   "source": [
    "# plot the prediction space"
   ]
  },
  {
   "cell_type": "code",
   "execution_count": null,
   "metadata": {},
   "outputs": [],
   "source": [
    "summary(penguins)"
   ]
  },
  {
   "cell_type": "code",
   "execution_count": null,
   "metadata": {},
   "outputs": [],
   "source": [
    "library('ggplot2')"
   ]
  },
  {
   "cell_type": "code",
   "execution_count": null,
   "metadata": {},
   "outputs": [],
   "source": [
    "plot_fit = function(v1,v2,df=penguins,N=floor(sqrt(10000)),k=10){\n",
    "    r1 = range(df[[v1]])\n",
    "    r2 = range(df[[v2]])\n",
    "    \n",
    "    train_df = df[,c('species',v1,v2)]\n",
    "    \n",
    "    mod = knn3(species~.,data=train_df,k=k)\n",
    "    \n",
    "    s1 = seq(r1[1],r1[2],length.out=N)\n",
    "    s2 = seq(r2[1],r2[2],length.out=N)\n",
    "    \n",
    "    p_df = expand.grid(v1=s1,v2=s2)\n",
    "    colnames(p_df) = c(v1,v2)\n",
    "    preds = predict(mod,newdata=p_df,type='class')\n",
    "    p_df$species = preds\n",
    "    \n",
    "    ggplot(data=p_df,mapping=aes_string(x=v1,y=v2,fill='species',shape='species'))+geom_tile()+\n",
    "        geom_point(data=train_df,size=5)\n",
    "    \n",
    "    \n",
    "}"
   ]
  },
  {
   "cell_type": "code",
   "execution_count": null,
   "metadata": {},
   "outputs": [],
   "source": [
    "plot_fit(v1='bill_length_mm',v2='bill_depth_mm',df=penguins,k=50)"
   ]
  },
  {
   "cell_type": "code",
   "execution_count": null,
   "metadata": {},
   "outputs": [],
   "source": [
    "plot_fit(v1='bill_length_mm',v2='bill_depth_mm',df=penguins,k=10)"
   ]
  },
  {
   "cell_type": "code",
   "execution_count": null,
   "metadata": {},
   "outputs": [],
   "source": [
    "plot_fit(v1='bill_length_mm',v2='bill_depth_mm',df=penguins,k=1)"
   ]
  },
  {
   "cell_type": "code",
   "execution_count": null,
   "metadata": {},
   "outputs": [],
   "source": [
    "plot_fit(v1='bill_length_mm',v2='bill_depth_mm',df=penguins,k=1)+coord_fixed()"
   ]
  },
  {
   "cell_type": "code",
   "execution_count": null,
   "metadata": {},
   "outputs": [],
   "source": [
    "plot_fit = function(v1,v2,df=penguins,N=floor(sqrt(10000)),k=10,scaleit=TRUE){\n",
    "    train_df = df[,c('species',v1,v2)]\n",
    "    if(scaleit)\n",
    "        train_df[,c(v1,v2)] = scale(train_df[,c(v1,v2)])\n",
    "    \n",
    "    mod = knn3(species~.,data=train_df,k=k)\n",
    "    \n",
    "    r1 = range(train_df[[v1]])\n",
    "    r2 = range(train_df[[v2]])\n",
    "    \n",
    "    s1 = seq(r1[1],r1[2],length.out=N)\n",
    "    s2 = seq(r2[1],r2[2],length.out=N)\n",
    "    \n",
    "    p_df = expand.grid(v1=s1,v2=s2)\n",
    "    colnames(p_df) = c(v1,v2)\n",
    "    preds = predict(mod,newdata=p_df,type='class')\n",
    "    p_df$species = preds\n",
    "    \n",
    "    ggplot(data=p_df,mapping=aes_string(x=v1,y=v2,fill='species',shape='species'))+geom_tile()+\n",
    "        geom_point(data=train_df,size=5)+coord_fixed()\n",
    "}"
   ]
  },
  {
   "cell_type": "code",
   "execution_count": null,
   "metadata": {},
   "outputs": [],
   "source": [
    "plot_fit(v1='bill_length_mm',v2='bill_depth_mm',df=penguins,k=1)"
   ]
  },
  {
   "cell_type": "code",
   "execution_count": null,
   "metadata": {},
   "outputs": [],
   "source": [
    "plot_fit(v1='flipper_length_mm',v2='bill_depth_mm',df=penguins,k=1)"
   ]
  },
  {
   "cell_type": "code",
   "execution_count": null,
   "metadata": {},
   "outputs": [],
   "source": [
    "plot_fit(v1='flipper_length_mm',v2='bill_depth_mm',df=penguins,k=50)"
   ]
  }
 ],
 "metadata": {
  "jupytext": {
   "formats": "ipynb,Rmd,R"
  },
  "kernelspec": {
   "display_name": "R",
   "language": "R",
   "name": "ir"
  },
  "language_info": {
   "codemirror_mode": "r",
   "file_extension": ".r",
   "mimetype": "text/x-r-source",
   "name": "R",
   "pygments_lexer": "r",
   "version": "4.3.1"
  }
 },
 "nbformat": 4,
 "nbformat_minor": 4
}
