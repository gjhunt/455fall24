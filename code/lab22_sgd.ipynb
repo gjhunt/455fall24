{
 "cells": [
  {
   "cell_type": "code",
   "execution_count": null,
   "metadata": {
    "vscode": {
     "languageId": "r"
    }
   },
   "outputs": [],
   "source": [
    "N = 100\n",
    "P = 2\n",
    "X = array(rnorm(N*P),c(N,P))\n",
    "\n",
    "beta_true = array(c(1/2,3/4),c(2,1))\n",
    "\n",
    "y = X%*%beta_true + rnorm(N,0,0.01)\n",
    "\n",
    "L = function(beta){\n",
    "    return(sum((y-X%*%beta)^2)/nrow(X))\n",
    "}\n",
    "\n",
    "beta_seq = seq(-1,1,length.out=100)\n",
    "beta_df = expand.grid(b1=beta_seq,b2=beta_seq)\n",
    "beta_df$L = apply(beta_df[,1:2],1,function(b)L(b))"
   ]
  },
  {
   "cell_type": "code",
   "execution_count": null,
   "metadata": {
    "vscode": {
     "languageId": "r"
    }
   },
   "outputs": [],
   "source": [
    "library('ggplot2')\n",
    "library('viridis')\n",
    "\n",
    "ggplot(data=beta_df,mapping=aes(x=b1,y=b2,fill=L,z=sqrt(L)))+\n",
    "    geom_tile()+\n",
    "    scale_fill_viridis()+\n",
    "    geom_contour(color='white')+\n",
    "    coord_fixed()"
   ]
  },
  {
   "cell_type": "markdown",
   "metadata": {
    "vscode": {
     "languageId": "r"
    }
   },
   "source": [
    "## test our gradient calculation:"
   ]
  },
  {
   "cell_type": "code",
   "execution_count": null,
   "metadata": {
    "vscode": {
     "languageId": "r"
    }
   },
   "outputs": [],
   "source": [
    "library('numDeriv')"
   ]
  },
  {
   "cell_type": "code",
   "execution_count": null,
   "metadata": {
    "vscode": {
     "languageId": "r"
    }
   },
   "outputs": [],
   "source": [
    "beta = c(1,2)"
   ]
  },
  {
   "cell_type": "code",
   "execution_count": null,
   "metadata": {
    "vscode": {
     "languageId": "r"
    }
   },
   "outputs": [],
   "source": [
    "2*t(X)%*%(X%*%beta-y)/nrow(X)"
   ]
  },
  {
   "cell_type": "code",
   "execution_count": null,
   "metadata": {
    "vscode": {
     "languageId": "r"
    }
   },
   "outputs": [],
   "source": [
    "grad(L,beta)"
   ]
  },
  {
   "cell_type": "code",
   "execution_count": null,
   "metadata": {
    "vscode": {
     "languageId": "r"
    }
   },
   "outputs": [],
   "source": [
    "gradient_descent <- function(lr = 0.05, n_steps = 100) {\n",
    "  path <- data.frame(beta1 = rep(NA, n_steps + 1), beta2 = rep(NA, n_steps + 1))\n",
    "  beta <- c(-1,-1)#(runif(2)-1/2)*2\n",
    "  path[1, ] <- beta\n",
    "  for (i in 1:n_steps) {\n",
    "    dLdb <- 2 * t(X) %*% (X %*% beta - y) / nrow(X)\n",
    "    beta <- beta - lr * dLdb\n",
    "    path[i + 1, ] <- beta\n",
    "    if (sum(dLdb^2) < 1E-5) {\n",
    "      break\n",
    "    }\n",
    "  }\n",
    "  return(path[complete.cases(path),])\n",
    "}\n"
   ]
  },
  {
   "cell_type": "code",
   "execution_count": null,
   "metadata": {
    "vscode": {
     "languageId": "r"
    }
   },
   "outputs": [],
   "source": [
    "library('dplyr')"
   ]
  },
  {
   "cell_type": "code",
   "execution_count": null,
   "metadata": {
    "vscode": {
     "languageId": "r"
    }
   },
   "outputs": [],
   "source": [
    "gd_data <- gradient_descent()\n",
    "gd_data %>% tail()"
   ]
  },
  {
   "cell_type": "code",
   "execution_count": null,
   "metadata": {
    "vscode": {
     "languageId": "r"
    }
   },
   "outputs": [],
   "source": [
    "library('ggplot2')\n",
    "library('viridis')\n",
    "\n",
    "ggplot(data=beta_df,mapping=aes(x=b1,y=b2,fill=L,z=sqrt(L)))+\n",
    "    geom_tile()+\n",
    "    scale_fill_viridis()+\n",
    "    geom_contour(color='white')+\n",
    "    coord_fixed() + \n",
    "    geom_point(data=gd_data,mapping=aes(x=beta1,y=beta2),inherit.aes=FALSE,color='red') + \n",
    "    geom_line(data=gd_data,mapping=aes(x=beta1,y=beta2),inherit.aes=FALSE,color='red')"
   ]
  },
  {
   "cell_type": "code",
   "execution_count": null,
   "metadata": {
    "vscode": {
     "languageId": "r"
    }
   },
   "outputs": [],
   "source": [
    "stoch_gradient_descent <- function(lr = 0.05, n_steps = 100) {\n",
    "  path <- data.frame(beta1 = rep(NA, n_steps + 1), beta2 = rep(NA, n_steps + 1))\n",
    "  beta <- c(-1,-1)#(runif(2)-1/2)*2\n",
    "  path[1, ] <- beta\n",
    "  for (i in 1:n_steps) {\n",
    "    idx <- sample(nrow(X),5)\n",
    "    X_sub = X[idx,,drop=FALSE]\n",
    "    y_sub = y[idx,,drop=FALSE]\n",
    "    dLdb <- 2 * t(X_sub) %*% (X_sub %*% beta - y_sub) / nrow(X_sub)\n",
    "    beta <- beta - lr * dLdb\n",
    "    path[i + 1, ] <- beta\n",
    "    if (sum(dLdb^2) < 1E-5) {\n",
    "      break\n",
    "    }\n",
    "  }\n",
    "  return(path[complete.cases(path),])\n",
    "}\n"
   ]
  },
  {
   "cell_type": "code",
   "execution_count": null,
   "metadata": {
    "vscode": {
     "languageId": "r"
    }
   },
   "outputs": [],
   "source": [
    "sgd_data <- stoch_gradient_descent()\n",
    "sgd_data %>% tail()"
   ]
  },
  {
   "cell_type": "code",
   "execution_count": null,
   "metadata": {
    "vscode": {
     "languageId": "r"
    }
   },
   "outputs": [],
   "source": [
    "ggplot(data=beta_df,mapping=aes(x=b1,y=b2,fill=L,z=sqrt(L)))+\n",
    "    geom_tile()+\n",
    "    scale_fill_viridis()+\n",
    "    geom_contour(color='white')+\n",
    "    coord_fixed() + \n",
    "    geom_point(data=sgd_data,mapping=aes(x=beta1,y=beta2),inherit.aes=FALSE,color='red') + \n",
    "    geom_line(data=sgd_data,mapping=aes(x=beta1,y=beta2),inherit.aes=FALSE,color='red')"
   ]
  }
 ],
 "metadata": {
  "kernelspec": {
   "display_name": "R",
   "language": "R",
   "name": "ir"
  },
  "language_info": {
   "codemirror_mode": "r",
   "file_extension": ".r",
   "mimetype": "text/x-r-source",
   "name": "R",
   "pygments_lexer": "r",
   "version": "4.4.1"
  }
 },
 "nbformat": 4,
 "nbformat_minor": 4
}
