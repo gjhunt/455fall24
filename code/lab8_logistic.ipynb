{
 "cells": [
  {
   "cell_type": "code",
   "execution_count": null,
   "metadata": {},
   "outputs": [],
   "source": [
    "load_or_install = function(list.of.packages){\n",
    "    new.packages <- list.of.packages[!(list.of.packages %in% installed.packages()[,\"Package\"])]\n",
    "    if(length(new.packages)) install.packages(new.packages)\n",
    "    for(pkg in list.of.packages)\n",
    "        library(pkg,character.only=TRUE)\n",
    "}"
   ]
  },
  {
   "cell_type": "code",
   "execution_count": null,
   "metadata": {},
   "outputs": [],
   "source": [
    "load_or_install('palmerpenguins')\n",
    "penguins = penguins[complete.cases(penguins),]\n",
    "d = penguins[,c('flipper_length_mm','bill_depth_mm','species')]\n",
    "head(d)"
   ]
  },
  {
   "cell_type": "code",
   "execution_count": null,
   "metadata": {},
   "outputs": [],
   "source": [
    "d = d[d$species %in% c('Adelie','Chinstrap'),]"
   ]
  },
  {
   "cell_type": "code",
   "execution_count": null,
   "metadata": {},
   "outputs": [],
   "source": [
    "table(d$species)"
   ]
  },
  {
   "cell_type": "code",
   "execution_count": null,
   "metadata": {},
   "outputs": [],
   "source": [
    "d$species = droplevels(d$species)"
   ]
  },
  {
   "cell_type": "code",
   "execution_count": null,
   "metadata": {},
   "outputs": [],
   "source": [
    "table(d$species)"
   ]
  },
  {
   "cell_type": "code",
   "execution_count": null,
   "metadata": {},
   "outputs": [],
   "source": [
    "d$species = relevel(d$species,ref=\"Adelie\")"
   ]
  },
  {
   "cell_type": "code",
   "execution_count": null,
   "metadata": {},
   "outputs": [],
   "source": [
    "plot(d[,1:2],col=as.numeric(d$species))"
   ]
  },
  {
   "cell_type": "code",
   "execution_count": null,
   "metadata": {},
   "outputs": [],
   "source": [
    "table(d$species)"
   ]
  },
  {
   "cell_type": "code",
   "execution_count": null,
   "metadata": {},
   "outputs": [],
   "source": [
    "head(d$species)"
   ]
  },
  {
   "cell_type": "code",
   "execution_count": null,
   "metadata": {},
   "outputs": [],
   "source": [
    "table(d$species)"
   ]
  },
  {
   "cell_type": "code",
   "execution_count": null,
   "metadata": {
    "jupyter": {
     "outputs_hidden": true
    }
   },
   "outputs": [],
   "source": [
    "?glm"
   ]
  },
  {
   "cell_type": "code",
   "execution_count": null,
   "metadata": {},
   "outputs": [],
   "source": [
    "log_mod = glm(formula=species~.,data=d,family=\"binomial\")\n",
    "summary(log_mod)"
   ]
  },
  {
   "cell_type": "markdown",
   "metadata": {},
   "source": [
    "recall:"
   ]
  },
  {
   "cell_type": "markdown",
   "metadata": {},
   "source": [
    "$p = logistic(X\\beta) \\leftrightarrow logit(p) = log(p/(1-p)) = X\\beta$"
   ]
  },
  {
   "cell_type": "code",
   "execution_count": null,
   "metadata": {},
   "outputs": [],
   "source": [
    "head(predict(log_mod))## predicts the log-odds = logit(p)"
   ]
  },
  {
   "cell_type": "code",
   "execution_count": null,
   "metadata": {},
   "outputs": [],
   "source": [
    "X_design = model.matrix(log_mod)\n",
    "head(X_design)"
   ]
  },
  {
   "cell_type": "code",
   "execution_count": null,
   "metadata": {},
   "outputs": [],
   "source": [
    "beta_hat = log_mod$coefficients\n",
    "beta_hat = array(beta_hat,c(3,1))\n",
    "beta_hat"
   ]
  },
  {
   "cell_type": "code",
   "execution_count": null,
   "metadata": {},
   "outputs": [],
   "source": [
    "head(X_design%*%beta_hat)"
   ]
  },
  {
   "cell_type": "code",
   "execution_count": null,
   "metadata": {},
   "outputs": [],
   "source": [
    "p_hats = predict(log_mod,type=\"response\")\n",
    "head(p_hats)"
   ]
  },
  {
   "cell_type": "code",
   "execution_count": null,
   "metadata": {},
   "outputs": [],
   "source": [
    "head(predict(log_mod))\n",
    "head(log(p_hats/(1-p_hats)))"
   ]
  },
  {
   "cell_type": "code",
   "execution_count": null,
   "metadata": {},
   "outputs": [],
   "source": [
    "train_pred = as.numeric(p_hats > .5)\n",
    "head(train_pred)"
   ]
  },
  {
   "cell_type": "code",
   "execution_count": null,
   "metadata": {},
   "outputs": [],
   "source": [
    "train_pred = factor(train_pred,labels=c('Adelie','Chinstrap'))\n",
    "head(train_pred)"
   ]
  },
  {
   "cell_type": "code",
   "execution_count": null,
   "metadata": {},
   "outputs": [],
   "source": [
    "library('caret')\n",
    "confusionMatrix(data=train_pred,reference=d$species)"
   ]
  },
  {
   "cell_type": "code",
   "execution_count": null,
   "metadata": {},
   "outputs": [],
   "source": [
    "plot_fit = function(v1,v2,df=penguins,N=floor(sqrt(10000)),scaleit=FALSE,fmla='species~.'){\n",
    "    train_df = df[,c('species',v1,v2)]\n",
    "    if(scaleit)\n",
    "        train_df[,c(v1,v2)] = scale(train_df[,c(v1,v2)])\n",
    "    \n",
    "    #mod = knn3(species~.,data=train_df,k=k)\n",
    "    #mod = lda(formula=as.formula(fmla),data=train_df)\n",
    "    #mod = qda(formula=as.formula(fmla),data=train_df)\n",
    "    mod = glm(formula=as.formula(fmla),data=df,family=\"binomial\")\n",
    "    \n",
    "    r1 = range(train_df[[v1]])\n",
    "    r2 = range(train_df[[v2]])\n",
    "    \n",
    "    s1 = seq(r1[1],r1[2],length.out=N)\n",
    "    s2 = seq(r2[1],r2[2],length.out=N)\n",
    "    \n",
    "    p_df = expand.grid(v1=s1,v2=s2)\n",
    "    colnames(p_df) = c(v1,v2)\n",
    "    preds = predict(mod,newdata=p_df,type='response')\n",
    "    preds = factor(preds>1/2,labels=c('Adelie','Chinstrap'))\n",
    "    p_df$species = preds\n",
    "    \n",
    "    ggplot(data=p_df,mapping=aes_string(x=v1,y=v2,fill='species',shape='species'))+geom_tile()+\n",
    "        geom_point(data=train_df,size=5)\n",
    "}"
   ]
  },
  {
   "cell_type": "code",
   "execution_count": null,
   "metadata": {},
   "outputs": [],
   "source": [
    "plot_fit(v1='flipper_length_mm',v2='bill_depth_mm',df=d)"
   ]
  },
  {
   "cell_type": "code",
   "execution_count": null,
   "metadata": {},
   "outputs": [],
   "source": [
    "plot_fit(v1='flipper_length_mm',v2='bill_depth_mm',df=d,\n",
    "         fmla=\"species~flipper_length_mm+I(flipper_length_mm^2)+bill_depth_mm+I(bill_depth_mm^2)\")"
   ]
  },
  {
   "cell_type": "code",
   "execution_count": null,
   "metadata": {},
   "outputs": [],
   "source": [
    "library('palmerpenguins')\n",
    "penguins = penguins[complete.cases(penguins),]\n",
    "d = penguins[,c('flipper_length_mm','bill_depth_mm','species')]\n",
    "d = d[d$species %in% c('Adelie','Gentoo'),]\n",
    "d$species = droplevels(d$species)\n",
    "head(d)"
   ]
  },
  {
   "cell_type": "code",
   "execution_count": null,
   "metadata": {},
   "outputs": [],
   "source": [
    "log_mod = glm(formula=species~.,data=d,family=\"binomial\")\n",
    "summary(log_mod)"
   ]
  },
  {
   "cell_type": "code",
   "execution_count": null,
   "metadata": {},
   "outputs": [],
   "source": [
    "plot_fit(v1='flipper_length_mm',v2='bill_depth_mm',df=d)"
   ]
  },
  {
   "cell_type": "markdown",
   "metadata": {},
   "source": [
    "# mv logistic regression"
   ]
  },
  {
   "cell_type": "code",
   "execution_count": null,
   "metadata": {},
   "outputs": [],
   "source": [
    "library('nnet')"
   ]
  },
  {
   "cell_type": "code",
   "execution_count": null,
   "metadata": {},
   "outputs": [],
   "source": [
    "?multinom"
   ]
  },
  {
   "cell_type": "code",
   "execution_count": null,
   "metadata": {},
   "outputs": [],
   "source": [
    "library('palmerpenguins')\n",
    "penguins = penguins[complete.cases(penguins),]\n",
    "d = penguins[,c('flipper_length_mm','bill_depth_mm','species')]\n",
    "d$species = relevel(d$species,ref=\"Adelie\")"
   ]
  },
  {
   "cell_type": "code",
   "execution_count": null,
   "metadata": {},
   "outputs": [],
   "source": [
    "head(d[sample(nrow(d)),])"
   ]
  },
  {
   "cell_type": "code",
   "execution_count": null,
   "metadata": {},
   "outputs": [],
   "source": [
    "mod = multinom(species~.,data=d)\n",
    "summary(mod)"
   ]
  },
  {
   "cell_type": "code",
   "execution_count": null,
   "metadata": {},
   "outputs": [],
   "source": [
    "prob_preds = predict(mod,type=\"probs\")"
   ]
  },
  {
   "cell_type": "code",
   "execution_count": null,
   "metadata": {},
   "outputs": [],
   "source": [
    "head(prob_preds)"
   ]
  },
  {
   "cell_type": "code",
   "execution_count": null,
   "metadata": {},
   "outputs": [],
   "source": [
    "preds = apply(prob_preds,1,which.max)\n",
    "head(preds)"
   ]
  },
  {
   "cell_type": "code",
   "execution_count": null,
   "metadata": {},
   "outputs": [],
   "source": [
    "preds = factor(preds,labels=colnames(prob_preds))\n",
    "head(preds)"
   ]
  },
  {
   "cell_type": "code",
   "execution_count": null,
   "metadata": {},
   "outputs": [],
   "source": [
    "class_preds = predict(mod,type=\"class\")\n",
    "head(class_preds)"
   ]
  },
  {
   "cell_type": "code",
   "execution_count": null,
   "metadata": {},
   "outputs": [],
   "source": [
    "all(class_preds == preds)"
   ]
  },
  {
   "cell_type": "code",
   "execution_count": null,
   "metadata": {},
   "outputs": [],
   "source": [
    "plot_fit = function(v1,v2,df=penguins,N=floor(sqrt(10000)),scaleit=FALSE,fmla='species~.'){\n",
    "    train_df = df[,c('species',v1,v2)]\n",
    "    if(scaleit)\n",
    "        train_df[,c(v1,v2)] = scale(train_df[,c(v1,v2)])\n",
    "    \n",
    "    # fit model\n",
    "    mod = multinom(formula=as.formula(fmla),data=df)\n",
    "    \n",
    "    r1 = range(train_df[[v1]])\n",
    "    r2 = range(train_df[[v2]])\n",
    "    \n",
    "    s1 = seq(r1[1],r1[2],length.out=N)\n",
    "    s2 = seq(r2[1],r2[2],length.out=N)\n",
    "    \n",
    "    p_df = expand.grid(v1=s1,v2=s2)\n",
    "    colnames(p_df) = c(v1,v2)\n",
    "    preds = predict(mod,newdata=p_df,type='class')\n",
    "    \n",
    "    p_df$species = preds\n",
    "    \n",
    "    ggplot(data=p_df,mapping=aes_string(x=v1,y=v2,fill='species',shape='species'))+geom_tile()+\n",
    "        geom_point(data=train_df,size=5)\n",
    "}"
   ]
  },
  {
   "cell_type": "code",
   "execution_count": null,
   "metadata": {},
   "outputs": [],
   "source": [
    "plot_fit(v1='flipper_length_mm',v2='bill_depth_mm',df=d)"
   ]
  },
  {
   "cell_type": "code",
   "execution_count": null,
   "metadata": {},
   "outputs": [],
   "source": [
    "plot_fit(v1='flipper_length_mm',v2='bill_depth_mm',df=d,\n",
    "        fmla='species~flipper_length_mm+bill_depth_mm+I(bill_depth_mm^2)+I(flipper_length_mm^2)')"
   ]
  }
 ],
 "metadata": {
  "jupytext": {
   "formats": "ipynb,Rmd,r"
  },
  "kernelspec": {
   "display_name": "R",
   "language": "R",
   "name": "ir"
  },
  "language_info": {
   "codemirror_mode": "r",
   "file_extension": ".r",
   "mimetype": "text/x-r-source",
   "name": "R",
   "pygments_lexer": "r",
   "version": "4.3.1"
  }
 },
 "nbformat": 4,
 "nbformat_minor": 4
}
